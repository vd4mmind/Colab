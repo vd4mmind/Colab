{
  "nbformat": 4,
  "nbformat_minor": 0,
  "metadata": {
    "kernelspec": {
      "display_name": "Python 3",
      "language": "python",
      "name": "python3"
    },
    "language_info": {
      "codemirror_mode": {
        "name": "ipython",
        "version": 3
      },
      "file_extension": ".py",
      "mimetype": "text/x-python",
      "name": "python",
      "nbconvert_exporter": "python",
      "pygments_lexer": "ipython3",
      "version": "3.8.1"
    },
    "colab": {
      "name": "Day2_of 00_Creating_metafeatures.ipynb",
      "provenance": [],
      "include_colab_link": true
    }
  },
  "cells": [
    {
      "cell_type": "markdown",
      "metadata": {
        "id": "view-in-github",
        "colab_type": "text"
      },
      "source": [
        "<a href=\"https://colab.research.google.com/github/vd4mmind/googleColab/blob/ML_scRNASeq_SK_lab_2020/Day2_of_00_Creating_metafeatures.ipynb\" target=\"_parent\"><img src=\"https://colab.research.google.com/assets/colab-badge.svg\" alt=\"Open In Colab\"/></a>"
      ]
    },
    {
      "cell_type": "markdown",
      "metadata": {
        "colab_type": "text",
        "id": "OcmaUsa2Vcq5"
      },
      "source": [
        "# Creating metafeatures\n",
        "\n",
        "## Goals\n",
        "\n",
        "* Explore the visualization of UCI wine dataset through combinations of features\n",
        "* Identify a combination of features which separates cultivars"
      ]
    },
    {
      "cell_type": "code",
      "metadata": {
        "colab_type": "code",
        "id": "vvOqUCqUVcq6",
        "colab": {
          "base_uri": "https://localhost:8080/",
          "height": 255
        },
        "outputId": "40ea2aba-cde2-483a-9a63-443cf9512695"
      },
      "source": [
        "!pip install scprep"
      ],
      "execution_count": 1,
      "outputs": [
        {
          "output_type": "stream",
          "text": [
            "Collecting scprep\n",
            "\u001b[?25l  Downloading https://files.pythonhosted.org/packages/73/38/0a4fe0cd17dd0b7e859718a769b1e799467098709b80b96175f43b098ca6/scprep-1.0.5.post2-py3-none-any.whl (98kB)\n",
            "\r\u001b[K     |███▍                            | 10kB 17.1MB/s eta 0:00:01\r\u001b[K     |██████▊                         | 20kB 2.1MB/s eta 0:00:01\r\u001b[K     |██████████                      | 30kB 2.6MB/s eta 0:00:01\r\u001b[K     |█████████████▍                  | 40kB 2.0MB/s eta 0:00:01\r\u001b[K     |████████████████▊               | 51kB 2.4MB/s eta 0:00:01\r\u001b[K     |████████████████████            | 61kB 2.7MB/s eta 0:00:01\r\u001b[K     |███████████████████████▍        | 71kB 3.0MB/s eta 0:00:01\r\u001b[K     |██████████████████████████▊     | 81kB 3.2MB/s eta 0:00:01\r\u001b[K     |██████████████████████████████  | 92kB 3.0MB/s eta 0:00:01\r\u001b[K     |████████████████████████████████| 102kB 2.6MB/s \n",
            "\u001b[?25hRequirement already satisfied: numpy>=1.12.0 in /usr/local/lib/python3.6/dist-packages (from scprep) (1.18.4)\n",
            "Requirement already satisfied: pandas>=0.25 in /usr/local/lib/python3.6/dist-packages (from scprep) (1.0.3)\n",
            "Requirement already satisfied: scikit-learn>=0.19.1 in /usr/local/lib/python3.6/dist-packages (from scprep) (0.22.2.post1)\n",
            "Requirement already satisfied: decorator>=4.3.0 in /usr/local/lib/python3.6/dist-packages (from scprep) (4.4.2)\n",
            "Requirement already satisfied: scipy>=0.18.1 in /usr/local/lib/python3.6/dist-packages (from scprep) (1.4.1)\n",
            "Requirement already satisfied: python-dateutil>=2.6.1 in /usr/local/lib/python3.6/dist-packages (from pandas>=0.25->scprep) (2.8.1)\n",
            "Requirement already satisfied: pytz>=2017.2 in /usr/local/lib/python3.6/dist-packages (from pandas>=0.25->scprep) (2018.9)\n",
            "Requirement already satisfied: joblib>=0.11 in /usr/local/lib/python3.6/dist-packages (from scikit-learn>=0.19.1->scprep) (0.15.1)\n",
            "Requirement already satisfied: six>=1.5 in /usr/local/lib/python3.6/dist-packages (from python-dateutil>=2.6.1->pandas>=0.25->scprep) (1.12.0)\n",
            "Installing collected packages: scprep\n",
            "Successfully installed scprep-1.0.5.post2\n"
          ],
          "name": "stdout"
        }
      ]
    },
    {
      "cell_type": "markdown",
      "metadata": {
        "colab_type": "text",
        "id": "YKt2OFGBVcq_"
      },
      "source": [
        "## 1. Loading [the UCI wine dataset](https://scikit-learn.org/stable/modules/generated/sklearn.datasets.load_wine.html)\n",
        "\n",
        "You've done this before."
      ]
    },
    {
      "cell_type": "code",
      "metadata": {
        "colab_type": "code",
        "id": "sql93LidVcrA",
        "colab": {}
      },
      "source": [
        "import scprep\n",
        "import numpy as np\n",
        "import pandas as pd\n",
        "%matplotlib inline\n",
        "from sklearn import datasets, preprocessing"
      ],
      "execution_count": 0,
      "outputs": []
    },
    {
      "cell_type": "markdown",
      "metadata": {
        "colab_type": "text",
        "id": "vfY67zw1VcrD"
      },
      "source": [
        "#### Load data\n",
        "\n",
        "We'll load the data into a `pandas` DataFrame as we did last time."
      ]
    },
    {
      "cell_type": "code",
      "metadata": {
        "colab_type": "code",
        "id": "Fr49McAdVcrE",
        "colab": {
          "base_uri": "https://localhost:8080/",
          "height": 204
        },
        "outputId": "fbe60e78-df6d-4883-cbce-01dc78edd8ac"
      },
      "source": [
        "wine = datasets.load_wine()\n",
        "\n",
        "# Access the numerical data from the wine Bunch\n",
        "data = wine['data']\n",
        "\n",
        "# Load data about the rows and columns\n",
        "feature_names = wine['feature_names']\n",
        "\n",
        "# Load cultivar information about each wine\n",
        "cultivars = np.array(['Cultivar{}'.format(cl) for cl in wine['target']])\n",
        "\n",
        "# Create nice names for each row\n",
        "wine_names = np.array(['Wine{}'.format(i) for i in range(data.shape[0])])\n",
        "\n",
        "# Gather all of this information into a DataFrame\n",
        "data = pd.DataFrame(data, columns=feature_names, index=wine_names)\n",
        "\n",
        "# Print the first 5 rows of the data, eq. to data[:5]\n",
        "data.head()"
      ],
      "execution_count": 3,
      "outputs": [
        {
          "output_type": "execute_result",
          "data": {
            "text/html": [
              "<div>\n",
              "<style scoped>\n",
              "    .dataframe tbody tr th:only-of-type {\n",
              "        vertical-align: middle;\n",
              "    }\n",
              "\n",
              "    .dataframe tbody tr th {\n",
              "        vertical-align: top;\n",
              "    }\n",
              "\n",
              "    .dataframe thead th {\n",
              "        text-align: right;\n",
              "    }\n",
              "</style>\n",
              "<table border=\"1\" class=\"dataframe\">\n",
              "  <thead>\n",
              "    <tr style=\"text-align: right;\">\n",
              "      <th></th>\n",
              "      <th>alcohol</th>\n",
              "      <th>malic_acid</th>\n",
              "      <th>ash</th>\n",
              "      <th>alcalinity_of_ash</th>\n",
              "      <th>magnesium</th>\n",
              "      <th>total_phenols</th>\n",
              "      <th>flavanoids</th>\n",
              "      <th>nonflavanoid_phenols</th>\n",
              "      <th>proanthocyanins</th>\n",
              "      <th>color_intensity</th>\n",
              "      <th>hue</th>\n",
              "      <th>od280/od315_of_diluted_wines</th>\n",
              "      <th>proline</th>\n",
              "    </tr>\n",
              "  </thead>\n",
              "  <tbody>\n",
              "    <tr>\n",
              "      <th>Wine0</th>\n",
              "      <td>14.23</td>\n",
              "      <td>1.71</td>\n",
              "      <td>2.43</td>\n",
              "      <td>15.6</td>\n",
              "      <td>127.0</td>\n",
              "      <td>2.80</td>\n",
              "      <td>3.06</td>\n",
              "      <td>0.28</td>\n",
              "      <td>2.29</td>\n",
              "      <td>5.64</td>\n",
              "      <td>1.04</td>\n",
              "      <td>3.92</td>\n",
              "      <td>1065.0</td>\n",
              "    </tr>\n",
              "    <tr>\n",
              "      <th>Wine1</th>\n",
              "      <td>13.20</td>\n",
              "      <td>1.78</td>\n",
              "      <td>2.14</td>\n",
              "      <td>11.2</td>\n",
              "      <td>100.0</td>\n",
              "      <td>2.65</td>\n",
              "      <td>2.76</td>\n",
              "      <td>0.26</td>\n",
              "      <td>1.28</td>\n",
              "      <td>4.38</td>\n",
              "      <td>1.05</td>\n",
              "      <td>3.40</td>\n",
              "      <td>1050.0</td>\n",
              "    </tr>\n",
              "    <tr>\n",
              "      <th>Wine2</th>\n",
              "      <td>13.16</td>\n",
              "      <td>2.36</td>\n",
              "      <td>2.67</td>\n",
              "      <td>18.6</td>\n",
              "      <td>101.0</td>\n",
              "      <td>2.80</td>\n",
              "      <td>3.24</td>\n",
              "      <td>0.30</td>\n",
              "      <td>2.81</td>\n",
              "      <td>5.68</td>\n",
              "      <td>1.03</td>\n",
              "      <td>3.17</td>\n",
              "      <td>1185.0</td>\n",
              "    </tr>\n",
              "    <tr>\n",
              "      <th>Wine3</th>\n",
              "      <td>14.37</td>\n",
              "      <td>1.95</td>\n",
              "      <td>2.50</td>\n",
              "      <td>16.8</td>\n",
              "      <td>113.0</td>\n",
              "      <td>3.85</td>\n",
              "      <td>3.49</td>\n",
              "      <td>0.24</td>\n",
              "      <td>2.18</td>\n",
              "      <td>7.80</td>\n",
              "      <td>0.86</td>\n",
              "      <td>3.45</td>\n",
              "      <td>1480.0</td>\n",
              "    </tr>\n",
              "    <tr>\n",
              "      <th>Wine4</th>\n",
              "      <td>13.24</td>\n",
              "      <td>2.59</td>\n",
              "      <td>2.87</td>\n",
              "      <td>21.0</td>\n",
              "      <td>118.0</td>\n",
              "      <td>2.80</td>\n",
              "      <td>2.69</td>\n",
              "      <td>0.39</td>\n",
              "      <td>1.82</td>\n",
              "      <td>4.32</td>\n",
              "      <td>1.04</td>\n",
              "      <td>2.93</td>\n",
              "      <td>735.0</td>\n",
              "    </tr>\n",
              "  </tbody>\n",
              "</table>\n",
              "</div>"
            ],
            "text/plain": [
              "       alcohol  malic_acid   ash  ...   hue  od280/od315_of_diluted_wines  proline\n",
              "Wine0    14.23        1.71  2.43  ...  1.04                          3.92   1065.0\n",
              "Wine1    13.20        1.78  2.14  ...  1.05                          3.40   1050.0\n",
              "Wine2    13.16        2.36  2.67  ...  1.03                          3.17   1185.0\n",
              "Wine3    14.37        1.95  2.50  ...  0.86                          3.45   1480.0\n",
              "Wine4    13.24        2.59  2.87  ...  1.04                          2.93    735.0\n",
              "\n",
              "[5 rows x 13 columns]"
            ]
          },
          "metadata": {
            "tags": []
          },
          "execution_count": 3
        }
      ]
    },
    {
      "cell_type": "markdown",
      "metadata": {
        "colab_type": "text",
        "id": "cn7x8UyOVcrH"
      },
      "source": [
        "## 2. Visualizing data in 2D\n",
        "\n",
        "Next, you'll pick a cultivar and try to find features that separate that cultivar from the others. First, just try plotting two variables."
      ]
    },
    {
      "cell_type": "markdown",
      "metadata": {
        "colab_type": "text",
        "id": "qO1h5I6pVcrI"
      },
      "source": [
        "#### Select a cultivar"
      ]
    },
    {
      "cell_type": "code",
      "metadata": {
        "colab_type": "code",
        "id": "Ngj4t-mgVcrJ",
        "colab": {}
      },
      "source": [
        "my_cultivar = \"Cultivar0\" # alternative: \"Cultivar1\", \"Cultivar2\""
      ],
      "execution_count": 0,
      "outputs": []
    },
    {
      "cell_type": "markdown",
      "metadata": {
        "colab_type": "text",
        "id": "IKIw7sY_VcrO"
      },
      "source": [
        "#### Plot two variables"
      ]
    },
    {
      "cell_type": "code",
      "metadata": {
        "colab_type": "code",
        "id": "LT9DSPH8VcrP",
        "colab": {
          "base_uri": "https://localhost:8080/",
          "height": 314
        },
        "outputId": "4ef9731a-8b73-41be-e81d-a41906858edd"
      },
      "source": [
        "scprep.plot.scatter(x=data['color_intensity'], y=data['hue'],\n",
        "                    c=cultivars == my_cultivar, legend_title=my_cultivar)"
      ],
      "execution_count": 5,
      "outputs": [
        {
          "output_type": "execute_result",
          "data": {
            "text/plain": [
              "<matplotlib.axes._subplots.AxesSubplot at 0x7fd4b8004978>"
            ]
          },
          "metadata": {
            "tags": []
          },
          "execution_count": 5
        },
        {
          "output_type": "display_data",
          "data": {
            "image/png": "[encoded data removed]",
            "text/plain": [
              "<Figure size 432x288 with 1 Axes>"
            ]
          },
          "metadata": {
            "tags": [],
            "needs_background": "light"
          }
        }
      ]
    },
    {
      "cell_type": "markdown",
      "metadata": {
        "colab_type": "text",
        "id": "cRiXSSJkVcrT"
      },
      "source": [
        "Play around with the choices of variables and see what works best to separate your cultivar from the others. You can choose from any of `data.columns`."
      ]
    },
    {
      "cell_type": "code",
      "metadata": {
        "colab_type": "code",
        "id": "LiFiKKObVcrT",
        "colab": {
          "base_uri": "https://localhost:8080/",
          "height": 102
        },
        "outputId": "0880b65f-15a2-4899-8712-6abc58243c8a"
      },
      "source": [
        "print(data.columns)"
      ],
      "execution_count": 6,
      "outputs": [
        {
          "output_type": "stream",
          "text": [
            "Index(['alcohol', 'malic_acid', 'ash', 'alcalinity_of_ash', 'magnesium',\n",
            "       'total_phenols', 'flavanoids', 'nonflavanoid_phenols',\n",
            "       'proanthocyanins', 'color_intensity', 'hue',\n",
            "       'od280/od315_of_diluted_wines', 'proline'],\n",
            "      dtype='object')\n"
          ],
          "name": "stdout"
        }
      ]
    },
    {
      "cell_type": "markdown",
      "metadata": {
        "colab_type": "text",
        "id": "c5n5sD97Vcra"
      },
      "source": [
        "### Exercise 1 - find two variables that best separate your chosen cultivar from the others"
      ]
    },
    {
      "cell_type": "code",
      "metadata": {
        "colab_type": "code",
        "id": "aLGe9WPFVcrb",
        "colab": {}
      },
      "source": [
        "# ================\n",
        "# Fill in the x and y arguments to scprep.plot.scatter\n",
        "scprep.plot.scatter(x=\n",
        "                    y=\n",
        "                    c=cultivars == my_cultivar, legend_title=my_cultivar)\n",
        "# ================"
      ],
      "execution_count": 0,
      "outputs": []
    },
    {
      "cell_type": "markdown",
      "metadata": {
        "colab_type": "text",
        "id": "6qD6hoYDVcre"
      },
      "source": [
        "## 3. Creating metafeatures"
      ]
    },
    {
      "cell_type": "markdown",
      "metadata": {
        "colab_type": "text",
        "id": "VxN0CqLbVcrf"
      },
      "source": [
        "You'll notice that it was very difficult to get good separation of cultivars using just two variables. We can do better by combining multiple variables, as shown below."
      ]
    },
    {
      "cell_type": "code",
      "metadata": {
        "colab_type": "code",
        "id": "U6yG_o7iVcrf",
        "colab": {
          "base_uri": "https://localhost:8080/",
          "height": 314
        },
        "outputId": "dabae9da-bb80-4951-b978-f95574ef4a9d"
      },
      "source": [
        "scprep.plot.scatter(x=data['color_intensity'] + 2 * data['malic_acid'], \n",
        "                    y=3 * data['hue'] + data['flavanoids'],\n",
        "                    c=cultivars == my_cultivar, legend_title=my_cultivar)"
      ],
      "execution_count": 7,
      "outputs": [
        {
          "output_type": "execute_result",
          "data": {
            "text/plain": [
              "<matplotlib.axes._subplots.AxesSubplot at 0x7fd4b509b0f0>"
            ]
          },
          "metadata": {
            "tags": []
          },
          "execution_count": 7
        },
        {
          "output_type": "display_data",
          "data": {
            "image/png": "[encoded data removed]",
            "text/plain": [
              "<Figure size 432x288 with 1 Axes>"
            ]
          },
          "metadata": {
            "tags": [],
            "needs_background": "light"
          }
        }
      ]
    },
    {
      "cell_type": "markdown",
      "metadata": {
        "colab_type": "text",
        "id": "ne1TRhtfVcri"
      },
      "source": [
        "#### Comparing feature magnitudes"
      ]
    },
    {
      "cell_type": "markdown",
      "metadata": {
        "colab_type": "text",
        "id": "7B7t4zJHVcri"
      },
      "source": [
        "When summing variables together, we need to think about the relative ranges. If we look at the scales of the features in the wine dataset, we will see they vary drastically in size."
      ]
    },
    {
      "cell_type": "code",
      "metadata": {
        "colab_type": "code",
        "id": "QJ-mMhOYVcrj",
        "colab": {
          "base_uri": "https://localhost:8080/",
          "height": 111
        },
        "outputId": "e5e4cafa-ea38-4803-aeba-37ae70d793f1"
      },
      "source": [
        "# compute the mean and standard deviation of each feature\n",
        "#\n",
        "# DataFrame.aggregate() summarized one or more operations over the specified axis (columns by default).\n",
        "# DataFrame.round() function round each column to given decimal places to round \n",
        "data.aggregate([np.mean, np.std]).round(2)"
      ],
      "execution_count": 8,
      "outputs": [
        {
          "output_type": "execute_result",
          "data": {
            "text/html": [
              "<div>\n",
              "<style scoped>\n",
              "    .dataframe tbody tr th:only-of-type {\n",
              "        vertical-align: middle;\n",
              "    }\n",
              "\n",
              "    .dataframe tbody tr th {\n",
              "        vertical-align: top;\n",
              "    }\n",
              "\n",
              "    .dataframe thead th {\n",
              "        text-align: right;\n",
              "    }\n",
              "</style>\n",
              "<table border=\"1\" class=\"dataframe\">\n",
              "  <thead>\n",
              "    <tr style=\"text-align: right;\">\n",
              "      <th></th>\n",
              "      <th>alcohol</th>\n",
              "      <th>malic_acid</th>\n",
              "      <th>ash</th>\n",
              "      <th>alcalinity_of_ash</th>\n",
              "      <th>magnesium</th>\n",
              "      <th>total_phenols</th>\n",
              "      <th>flavanoids</th>\n",
              "      <th>nonflavanoid_phenols</th>\n",
              "      <th>proanthocyanins</th>\n",
              "      <th>color_intensity</th>\n",
              "      <th>hue</th>\n",
              "      <th>od280/od315_of_diluted_wines</th>\n",
              "      <th>proline</th>\n",
              "    </tr>\n",
              "  </thead>\n",
              "  <tbody>\n",
              "    <tr>\n",
              "      <th>mean</th>\n",
              "      <td>13.00</td>\n",
              "      <td>2.34</td>\n",
              "      <td>2.37</td>\n",
              "      <td>19.49</td>\n",
              "      <td>99.74</td>\n",
              "      <td>2.30</td>\n",
              "      <td>2.03</td>\n",
              "      <td>0.36</td>\n",
              "      <td>1.59</td>\n",
              "      <td>5.06</td>\n",
              "      <td>0.96</td>\n",
              "      <td>2.61</td>\n",
              "      <td>746.89</td>\n",
              "    </tr>\n",
              "    <tr>\n",
              "      <th>std</th>\n",
              "      <td>0.81</td>\n",
              "      <td>1.12</td>\n",
              "      <td>0.27</td>\n",
              "      <td>3.34</td>\n",
              "      <td>14.28</td>\n",
              "      <td>0.63</td>\n",
              "      <td>1.00</td>\n",
              "      <td>0.12</td>\n",
              "      <td>0.57</td>\n",
              "      <td>2.32</td>\n",
              "      <td>0.23</td>\n",
              "      <td>0.71</td>\n",
              "      <td>314.91</td>\n",
              "    </tr>\n",
              "  </tbody>\n",
              "</table>\n",
              "</div>"
            ],
            "text/plain": [
              "      alcohol  malic_acid   ash  ...   hue  od280/od315_of_diluted_wines  proline\n",
              "mean    13.00        2.34  2.37  ...  0.96                          2.61   746.89\n",
              "std      0.81        1.12  0.27  ...  0.23                          0.71   314.91\n",
              "\n",
              "[2 rows x 13 columns]"
            ]
          },
          "metadata": {
            "tags": []
          },
          "execution_count": 8
        }
      ]
    },
    {
      "cell_type": "markdown",
      "metadata": {
        "colab_type": "text",
        "id": "hhieQx_iVcrn"
      },
      "source": [
        "#### Scaling data\n",
        "\n",
        "For simplicity, we will first scale (or z-score) each feature to have the same mean and variance; this will allow you to sum them without having to worry about which has higher absolute values (for example, if we summed `'ash'` (on the order of 1-2) and `'proline'` (on the order of 500-1000) together, the ash values would have little to no effect on the sum."
      ]
    },
    {
      "cell_type": "code",
      "metadata": {
        "colab_type": "code",
        "id": "FPqpfZI2Vcro",
        "colab": {
          "base_uri": "https://localhost:8080/",
          "height": 111
        },
        "outputId": "9a19cd4c-45bb-4370-e9d7-35595b69f759"
      },
      "source": [
        "# use the sklearn StandardScaler to scale to mean 0, variance 1\n",
        "data_scaled = preprocessing.StandardScaler().fit_transform(data)\n",
        "\n",
        "# turn the result back into a pandas DataFrame\n",
        "data_scaled = pd.DataFrame(data_scaled, index=data.index, columns=data.columns)\n",
        "\n",
        "# compute the mean and standard deviation of each feature\n",
        "data_scaled.aggregate([np.mean, np.std]).round(2)"
      ],
      "execution_count": 9,
      "outputs": [
        {
          "output_type": "execute_result",
          "data": {
            "text/html": [
              "<div>\n",
              "<style scoped>\n",
              "    .dataframe tbody tr th:only-of-type {\n",
              "        vertical-align: middle;\n",
              "    }\n",
              "\n",
              "    .dataframe tbody tr th {\n",
              "        vertical-align: top;\n",
              "    }\n",
              "\n",
              "    .dataframe thead th {\n",
              "        text-align: right;\n",
              "    }\n",
              "</style>\n",
              "<table border=\"1\" class=\"dataframe\">\n",
              "  <thead>\n",
              "    <tr style=\"text-align: right;\">\n",
              "      <th></th>\n",
              "      <th>alcohol</th>\n",
              "      <th>malic_acid</th>\n",
              "      <th>ash</th>\n",
              "      <th>alcalinity_of_ash</th>\n",
              "      <th>magnesium</th>\n",
              "      <th>total_phenols</th>\n",
              "      <th>flavanoids</th>\n",
              "      <th>nonflavanoid_phenols</th>\n",
              "      <th>proanthocyanins</th>\n",
              "      <th>color_intensity</th>\n",
              "      <th>hue</th>\n",
              "      <th>od280/od315_of_diluted_wines</th>\n",
              "      <th>proline</th>\n",
              "    </tr>\n",
              "  </thead>\n",
              "  <tbody>\n",
              "    <tr>\n",
              "      <th>mean</th>\n",
              "      <td>0.0</td>\n",
              "      <td>0.0</td>\n",
              "      <td>-0.0</td>\n",
              "      <td>-0.0</td>\n",
              "      <td>-0.0</td>\n",
              "      <td>-0.0</td>\n",
              "      <td>0.0</td>\n",
              "      <td>-0.0</td>\n",
              "      <td>-0.0</td>\n",
              "      <td>-0.0</td>\n",
              "      <td>0.0</td>\n",
              "      <td>0.0</td>\n",
              "      <td>-0.0</td>\n",
              "    </tr>\n",
              "    <tr>\n",
              "      <th>std</th>\n",
              "      <td>1.0</td>\n",
              "      <td>1.0</td>\n",
              "      <td>1.0</td>\n",
              "      <td>1.0</td>\n",
              "      <td>1.0</td>\n",
              "      <td>1.0</td>\n",
              "      <td>1.0</td>\n",
              "      <td>1.0</td>\n",
              "      <td>1.0</td>\n",
              "      <td>1.0</td>\n",
              "      <td>1.0</td>\n",
              "      <td>1.0</td>\n",
              "      <td>1.0</td>\n",
              "    </tr>\n",
              "  </tbody>\n",
              "</table>\n",
              "</div>"
            ],
            "text/plain": [
              "      alcohol  malic_acid  ash  ...  hue  od280/od315_of_diluted_wines  proline\n",
              "mean      0.0         0.0 -0.0  ...  0.0                           0.0     -0.0\n",
              "std       1.0         1.0  1.0  ...  1.0                           1.0      1.0\n",
              "\n",
              "[2 rows x 13 columns]"
            ]
          },
          "metadata": {
            "tags": []
          },
          "execution_count": 9
        }
      ]
    },
    {
      "cell_type": "markdown",
      "metadata": {
        "colab_type": "text",
        "id": "vtkA5Ni0Vcrr"
      },
      "source": [
        "Much better. Now we can sum features together without worrying about magnitude."
      ]
    },
    {
      "cell_type": "code",
      "metadata": {
        "colab_type": "code",
        "id": "djW61b-rVcrs",
        "colab": {
          "base_uri": "https://localhost:8080/",
          "height": 314
        },
        "outputId": "2a949a74-beac-4413-c2c0-1b02301e183b"
      },
      "source": [
        "scprep.plot.scatter(x=data_scaled['color_intensity'] + data_scaled['malic_acid'], \n",
        "                    y=data_scaled['hue'] + data_scaled['flavanoids'],\n",
        "                    c=cultivars == my_cultivar, legend_title=my_cultivar)"
      ],
      "execution_count": 10,
      "outputs": [
        {
          "output_type": "execute_result",
          "data": {
            "text/plain": [
              "<matplotlib.axes._subplots.AxesSubplot at 0x7fd4b3d58d68>"
            ]
          },
          "metadata": {
            "tags": []
          },
          "execution_count": 10
        },
        {
          "output_type": "display_data",
          "data": {
            "image/png": "[encoded data removed]",
            "text/plain": [
              "<Figure size 432x288 with 1 Axes>"
            ]
          },
          "metadata": {
            "tags": [],
            "needs_background": "light"
          }
        }
      ]
    },
    {
      "cell_type": "markdown",
      "metadata": {
        "colab_type": "text",
        "id": "5DL7DRM_Vcrv"
      },
      "source": [
        "Now it's your turn. Can you find a combination of features that cleanly separates your chosen cultivar from the others?"
      ]
    },
    {
      "cell_type": "markdown",
      "metadata": {
        "colab_type": "text",
        "id": "hFF-zRcrVcrv"
      },
      "source": [
        "### Exercise 2  - find two combinations of variables that best separate your chosen cultivar from the others"
      ]
    },
    {
      "cell_type": "code",
      "metadata": {
        "colab_type": "code",
        "id": "GFYcP9A5Vcrw",
        "colab": {}
      },
      "source": [
        "# ================\n",
        "# Fill in the x and y arguments to scprep.plot.scatter\n",
        "x = data_scaled[???] + data_scaled[???] + ...\n",
        "y = data_scaled[???] + data_scaled[???] + ...\n",
        "# ================\n",
        "scprep.plot.scatter(x=x, y=y,\n",
        "                    c=cultivars == my_cultivar, legend_title=my_cultivar)"
      ],
      "execution_count": 0,
      "outputs": []
    },
    {
      "cell_type": "markdown",
      "metadata": {
        "id": "ZvAOvda9q8dt",
        "colab_type": "text"
      },
      "source": [
        "## Discussion Questions\n",
        "\n",
        "1. Which raw features did you select to cleanly separate your chosen cultivar?\n",
        "\n",
        "\n",
        "2. Which metafeatures did you select to cleanly separate your chosen cultivar?\n",
        "\n",
        "\n",
        "3. Thinking about how [Principal Components Analysis](https://en.wikipedia.org/wiki/Principal_component_analysis) works, can you relate your strategy of manually selecting metafeatures to PCA? What is similar about the goal of both processes? What is different?"
      ]
    }
  ]
}