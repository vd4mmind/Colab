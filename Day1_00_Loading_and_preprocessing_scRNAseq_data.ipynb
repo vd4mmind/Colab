{
  "nbformat": 4,
  "nbformat_minor": 0,
  "metadata": {
    "kernelspec": {
      "display_name": "Python 3",
      "language": "python",
      "name": "python3"
    },
    "language_info": {
      "codemirror_mode": {
        "name": "ipython",
        "version": 3
      },
      "file_extension": ".py",
      "mimetype": "text/x-python",
      "name": "python",
      "nbconvert_exporter": "python",
      "pygments_lexer": "ipython3",
      "version": "3.8.2"
    },
    "colab": {
      "name": "Day1_00_Loading_and_preprocessing_scRNAseq_data.ipynb",
      "provenance": [],
      "include_colab_link": true
    }
  },
  "cells": [
    {
      "cell_type": "markdown",
      "metadata": {
        "id": "view-in-github",
        "colab_type": "text"
      },
      "source": [
        "<a href=\"https://colab.research.google.com/github/vd4mmind/googleColab/blob/ML_scRNASeq_SK_lab_2020/Day1_00_Loading_and_preprocessing_scRNAseq_data.ipynb\" target=\"_parent\"><img src=\"https://colab.research.google.com/assets/colab-badge.svg\" alt=\"Open In Colab\"/></a>"
      ]
    },
    {
      "cell_type": "markdown",
      "metadata": {
        "colab_type": "text",
        "id": "ReoBzap1acVv"
      },
      "source": [
        "# Data loading and preprocessing\n",
        "\n",
        "In this tutorial, we demonstrate how to process a 31,000 cell 27-day time course of embryoid body (EB) differentiation using scRNA-seq.\n",
        "\n",
        "We review the following steps:\n",
        "\n",
        "1. Loading 10X data  \n",
        "2. Filtering\n",
        "3. Normalization\n",
        "4. Transformation"
      ]
    },
    {
      "cell_type": "markdown",
      "metadata": {
        "id": "EYP8vr-CVjTu",
        "colab_type": "text"
      },
      "source": [
        "## 0. Introducing `scprep`\n",
        "\n",
        "`scprep` is a lightweight scRNA-seq toolkit for `python` Data Scientists.\n",
        "\n",
        "Most scRNA-seq toolkits are written in `R` (the most famous being [Seurat](https://satijalab.org/seurat/)), but we (and a majority of machine learning / data scientists) develop our tools in `python`. Currently, [Scanpy](https://icb-scanpy.readthedocs-hosted.com/en/stable/) is the most popular toolkit for scRNA-seq analysis in `python`. However, Scanpy has a highly structured framework for data representation that is incompatible with the bulk of the `python` data science framework, e.g. [pandas](https://pandas.pydata.org/), [SciPy](https://www.scipy.org/), and [scikit-learn](https://scikit-learn.org/stable/).\n",
        "\n",
        "To accommodate users of the wider `python` data analysis ecosystem, we developed `scprep` (<b>s</b>ingle <b>c</b>ell <b>prep</b>aration). `scprep` makes it easier to use the pandas / SciPy / scikit-learn ecosystem for scRNA-seq analysis. Most of `scprep` is composed of helper functions to perform tasks common to single cell data like loading counts matrices, filtering & normalizing cells by library size, and calculating common statistics. The key advantage of `scprep` is that data can be stored in Pandas DataFrames, NumPy arrays, Scipy sparse matrices, and no matter which tools you choose to interface with, _it just works_.\n",
        "\n",
        "To learn more about `scprep`, you can read the documentation at https://scprep.readthedocs.io/."
      ]
    },
    {
      "cell_type": "markdown",
      "metadata": {
        "colab_type": "text",
        "id": "oBJb_vVW1ONw"
      },
      "source": [
        "## 1. Install tools\n",
        "\n",
        "To run this notebook, you need to download a couple of packages. Unfortunately, due to restrictions of Google CoLab, these installations won't be saved. A workaround can be found at the following link if you're interested: https://stackoverflow.com/questions/52582858/saving-pip-installs-in-google-colab\n",
        "\n",
        "For now, simply run the following line of code by clicking on the code cell and hit `Shift` + `Enter`."
      ]
    },
    {
      "cell_type": "code",
      "metadata": {
        "colab_type": "code",
        "id": "RUZx-nc_1Mdr",
        "outputId": "da1d1f01-8ed7-48ce-de34-21dd3a9be5f0",
        "colab": {
          "base_uri": "https://localhost:8080/",
          "height": 306
        }
      },
      "source": [
        "!pip install scprep tasklogger"
      ],
      "execution_count": 1,
      "outputs": [
        {
          "output_type": "stream",
          "text": [
            "Collecting scprep\n",
            "\u001b[?25l  Downloading https://files.pythonhosted.org/packages/74/24/242b0903bf0dbfb2e9e6245317ef5597f5b7252684826a6a9100adcfbb8e/scprep-1.0.4-py3-none-any.whl (96kB)\n",
            "\r\u001b[K     |███▍                            | 10kB 17.2MB/s eta 0:00:01\r\u001b[K     |██████▊                         | 20kB 1.8MB/s eta 0:00:01\r\u001b[K     |██████████▏                     | 30kB 2.1MB/s eta 0:00:01\r\u001b[K     |█████████████▌                  | 40kB 1.7MB/s eta 0:00:01\r\u001b[K     |█████████████████               | 51kB 1.8MB/s eta 0:00:01\r\u001b[K     |████████████████████▎           | 61kB 2.2MB/s eta 0:00:01\r\u001b[K     |███████████████████████▊        | 71kB 2.4MB/s eta 0:00:01\r\u001b[K     |███████████████████████████     | 81kB 2.5MB/s eta 0:00:01\r\u001b[K     |██████████████████████████████▌ | 92kB 2.8MB/s eta 0:00:01\r\u001b[K     |████████████████████████████████| 102kB 2.5MB/s \n",
            "\u001b[?25hCollecting tasklogger\n",
            "  Downloading https://files.pythonhosted.org/packages/5d/6b/cb2a724eff19829a0ada0217f403f54fca1e48c7de6fc3383e0a8b8fa121/tasklogger-1.0.0-py3-none-any.whl\n",
            "Requirement already satisfied: scipy>=0.18.1 in /usr/local/lib/python3.6/dist-packages (from scprep) (1.4.1)\n",
            "Requirement already satisfied: scikit-learn>=0.19.1 in /usr/local/lib/python3.6/dist-packages (from scprep) (0.22.2.post1)\n",
            "Requirement already satisfied: numpy>=1.12.0 in /usr/local/lib/python3.6/dist-packages (from scprep) (1.18.4)\n",
            "Requirement already satisfied: pandas>=0.25 in /usr/local/lib/python3.6/dist-packages (from scprep) (1.0.3)\n",
            "Requirement already satisfied: decorator>=4.3.0 in /usr/local/lib/python3.6/dist-packages (from scprep) (4.4.2)\n",
            "Requirement already satisfied: future in /usr/local/lib/python3.6/dist-packages (from tasklogger) (0.16.0)\n",
            "Requirement already satisfied: joblib>=0.11 in /usr/local/lib/python3.6/dist-packages (from scikit-learn>=0.19.1->scprep) (0.15.0)\n",
            "Requirement already satisfied: python-dateutil>=2.6.1 in /usr/local/lib/python3.6/dist-packages (from pandas>=0.25->scprep) (2.8.1)\n",
            "Requirement already satisfied: pytz>=2017.2 in /usr/local/lib/python3.6/dist-packages (from pandas>=0.25->scprep) (2018.9)\n",
            "Requirement already satisfied: six>=1.5 in /usr/local/lib/python3.6/dist-packages (from python-dateutil>=2.6.1->pandas>=0.25->scprep) (1.12.0)\n",
            "Installing collected packages: scprep, tasklogger\n",
            "Successfully installed scprep-1.0.4 tasklogger-1.0.0\n"
          ],
          "name": "stdout"
        }
      ]
    },
    {
      "cell_type": "markdown",
      "metadata": {
        "colab_type": "text",
        "id": "lLeE0wGiacVx"
      },
      "source": [
        "### Time course of human embryoid body differentation\n",
        "\n",
        "Low passage H1 hESCs were maintained on Matrigel-coated dishes in DMEM/F12-N2B27 media supplemented with FGF2. For EB (Embriod Body) formation, cells were treated with Dispase, dissociated into small clumps and plated in non-adherent plates in media supplemented with 20% FBS, which was prescreened for EB differentiation. Samples were collected during 3-day intervals during a 27 day-long differentiation timecourse. An undifferentiated hESC sample was also included (Figure S7D). Induction of key germ layer markers in these EB cultures was validated by qPCR (data not shown). For single cell analyses, EB cultures were dissociated, FACS sorted to remove doublets and dead cells and processed on a 10x genomics instrument to generate cDNA libraries, which were then sequenced. Small scale sequencing determined that we have successfully collected data on approximately 31,000 cells equally distributed throughout the timecourse."
      ]
    },
    {
      "cell_type": "markdown",
      "metadata": {
        "colab_type": "text",
        "id": "XUF17reyacVy"
      },
      "source": [
        "<a id='loading'></a>\n",
        "## 2. Loading 10X data"
      ]
    },
    {
      "cell_type": "markdown",
      "metadata": {
        "colab_type": "text",
        "id": "oNu79_4iacVz"
      },
      "source": [
        "### Downloading Data from Mendeley Datasets\n",
        "\n",
        "The EB dataset is publically available as `scRNAseq.zip` at Mendelay Datasets at <https://data.mendeley.com/datasets/v6n743h5ng/>. \n",
        "\n",
        "Inside the scRNAseq folder, there are five subdirectories, and in each subdirectory are three files: `barcodes.tsv`, `genes.tsv`, and `matrix.mtx`. For more information about how CellRanger produces these files, check out the [Gene-Barcode Matrices Documentation](https://support.10xgenomics.com/single-cell-gene-expression/software/pipelines/latest/output/matrices).\n",
        "\n",
        "Here's the directory structure:\n",
        "```\n",
        "download_path\n",
        "└── scRNAseq\n",
        "    ├── scRNAseq.zip\n",
        "    ├── T0_1A\n",
        "    │   ├── barcodes.tsv\n",
        "    │   ├── genes.tsv\n",
        "    │   └── matrix.mtx\n",
        "    ├── T2_3B\n",
        "    │   ├── barcodes.tsv\n",
        "    │   ├── genes.tsv\n",
        "    │   └── matrix.mtx\n",
        "    ├── T4_5C\n",
        "    │   ├── barcodes.tsv\n",
        "    │   ├── genes.tsv\n",
        "    │   └── matrix.mtx\n",
        "    ├── T6_7D\n",
        "    │   ├── barcodes.tsv\n",
        "    │   ├── genes.tsv\n",
        "    │   └── matrix.mtx\n",
        "    └── T8_9E\n",
        "        ├── barcodes.tsv\n",
        "        ├── genes.tsv\n",
        "        └── matrix.mtx\n",
        "```\n",
        "\n",
        "If you have downloaded the files already, set the `download_path` below to the directory where you saved the files. If not, the following code will download the data for you. Not that the download is 746MB: you must have sufficient disk space for the download.\n",
        "\n",
        "**Please Note:** If you are trying to analyze data generated by a more recent version of `cellranger` (a program provided by 10X Genomics to go from raw fastq files to count matrices), the three files generated per sample are `barcodes.tsv.gz`, `features.tsv.gz`, and `matrix.mtx.gz`. The procedure for loading these files with `scprep` is the same as with the previous version."
      ]
    },
    {
      "cell_type": "code",
      "metadata": {
        "colab_type": "code",
        "id": "hbs5FLjZacV0",
        "outputId": "75513282-70f3-4a66-92e0-bfd16bfab14b",
        "colab": {
          "base_uri": "https://localhost:8080/",
          "height": 34
        }
      },
      "source": [
        "import os\n",
        "import scprep\n",
        "download_path = os.path.expanduser(\"~\")\n",
        "print(download_path)"
      ],
      "execution_count": 2,
      "outputs": [
        {
          "output_type": "stream",
          "text": [
            "/root\n"
          ],
          "name": "stdout"
        }
      ]
    },
    {
      "cell_type": "code",
      "metadata": {
        "colab_type": "code",
        "id": "uxD_XVSuacV6",
        "colab": {}
      },
      "source": [
        "if not os.path.isdir(os.path.join(download_path, \"scRNAseq\", \"T0_1A\")):\n",
        "    scprep.io.download.download_and_extract_zip(\n",
        "        url=\"https://data.mendeley.com/datasets/v6n743h5ng\"\n",
        "        \"/1/files/7489a88f-9ef6-4dff-a8f8-1381d046afe3/scRNAseq.zip?dl=1\",\n",
        "        destination=download_path)"
      ],
      "execution_count": 0,
      "outputs": []
    },
    {
      "cell_type": "markdown",
      "metadata": {
        "colab_type": "text",
        "id": "AaPgko5lacWp"
      },
      "source": [
        "### Using `scprep` to import data into Pandas DataFrames\n",
        "\n",
        "\n",
        "We use a toolkit for loading and manipulating single-cell data called `scprep`. The function `load_10X` will automatically load 10X scRNAseq datasets (and others) into a Pandas DataFrame. DataFrames are incredibly useful tools for data analysis in Python. To learn more about them, [check out the Pandas Documentation and Tutorials](https://pandas.pydata.org/pandas-docs/stable/).\n",
        "\n",
        "\n",
        "Let's load the data and create a single matrix that we can use for preprocessing, visualization, and analysis."
      ]
    },
    {
      "cell_type": "markdown",
      "metadata": {
        "colab_type": "text",
        "id": "8UwGtjtSacWx"
      },
      "source": [
        "### 2.1. Standard imports\n",
        "\n",
        "We'll import these few packages at the beginning of nearly every session."
      ]
    },
    {
      "cell_type": "code",
      "metadata": {
        "colab_type": "code",
        "id": "xHNATT38acWz",
        "colab": {}
      },
      "source": [
        "import pandas as pd\n",
        "import numpy as np\n",
        "import scprep\n",
        "\n",
        "import matplotlib.pyplot as plt\n",
        "\n",
        "# matplotlib settings for Jupyter notebooks only\n",
        "%matplotlib inline"
      ],
      "execution_count": 0,
      "outputs": []
    },
    {
      "cell_type": "markdown",
      "metadata": {
        "colab_type": "text",
        "id": "DVlHIGbHacW8"
      },
      "source": [
        "### 2.2. Use `scprep.io.load_10X` to import all three matrices into a DataFrame\n",
        "\n",
        "#### Understanding the difference between sparse and dense data\n",
        "\n",
        "By default, `scprep.io.load_10X` loads scRNA-seq data using the Pandas DataFrame with sparse columns [(**see Pandas docs**)](https://pandas.pydata.org/pandas-docs/stable/user_guide/sparse.html) to maximize memory efficiency. However, this will be slower than loading on a dense matrix. Let's have a look at how long it takes to load the data from the first time point and how much memory it uses with dense and sparse data. We'll use `tasklogger` to measure how long each loading step takes."
      ]
    },
    {
      "cell_type": "code",
      "metadata": {
        "id": "LyCjLEUjVjUG",
        "colab_type": "code",
        "outputId": "1114667f-7231-48c5-9cdb-94b05cd305c1",
        "colab": {
          "base_uri": "https://localhost:8080/",
          "height": 119
        }
      },
      "source": [
        "import tasklogger\n",
        "import pickle\n",
        "\n",
        "# load data in dense format\n",
        "with tasklogger.log_task(\"dense\"):\n",
        "    data_time1 = scprep.io.load_10X(os.path.join(download_path, \"scRNAseq\", \"T0_1A\"),\n",
        "                                    sparse=False, gene_labels='both')\n",
        "    \n",
        "# measure the size of the matrix with pickle\n",
        "print(\"Size: {:.1f}MB\".format(len(pickle.dumps(data_time1)) / 1024**2))\n",
        "\n",
        "# load data in sparse format\n",
        "with tasklogger.log_task(\"sparse\"):\n",
        "    data_time1 = scprep.io.load_10X(os.path.join(download_path, \"scRNAseq\", \"T0_1A\"),\n",
        "                                    sparse=True, gene_labels='both')\n",
        "    \n",
        "# measure the size of the matrix with pickle\n",
        "print(\"Size: {:.1f}MB\".format(len(pickle.dumps(data_time1)) / 1024**2))"
      ],
      "execution_count": 6,
      "outputs": [
        {
          "output_type": "stream",
          "text": [
            "Calculating dense...\n",
            "Calculated dense in 16.73 seconds.\n",
            "Size: 1196.5MB\n",
            "Calculating sparse...\n",
            "Calculated sparse in 26.07 seconds.\n",
            "Size: 122.8MB\n"
          ],
          "name": "stdout"
        }
      ]
    },
    {
      "cell_type": "markdown",
      "metadata": {
        "id": "BG4vhSeiVjUJ",
        "colab_type": "text"
      },
      "source": [
        "So for a small penalty in computation time, we can save a lot of memory. If memory is limited (for example, on Google Colaboratory) it's recommended that you use the sparse format.\n",
        "\n",
        "You'll also notice that we've received a warning (above in red) that the gene symbols are not unique. This doesn't cause a problem with the dense data, but it does with the sparse. We can specify `gene_labels='both'` to ask for our column names as `SYMB (ENSID)` which gives us both the human readability of symbols but also the uniqueness of Ensembl IDs."
      ]
    },
    {
      "cell_type": "markdown",
      "metadata": {
        "id": "DFoS_LMdVjUJ",
        "colab_type": "text"
      },
      "source": [
        "#### Understanding the data matrix\n",
        "\n",
        "How big is our matrix? We can find out with `data.shape`."
      ]
    },
    {
      "cell_type": "code",
      "metadata": {
        "id": "i7Fzn9mHVjUK",
        "colab_type": "code",
        "outputId": "4ef9e757-38e5-4b69-c53f-bca72b0429c7",
        "colab": {
          "base_uri": "https://localhost:8080/",
          "height": 34
        }
      },
      "source": [
        "data_time1.shape"
      ],
      "execution_count": 7,
      "outputs": [
        {
          "output_type": "execute_result",
          "data": {
            "text/plain": [
              "(4649, 33694)"
            ]
          },
          "metadata": {
            "tags": []
          },
          "execution_count": 7
        }
      ]
    },
    {
      "cell_type": "markdown",
      "metadata": {
        "id": "Dt4FOkdWVjUO",
        "colab_type": "text"
      },
      "source": [
        "We have 4,700 cells (rows) and 33,600 genes (columns). Each row and column has a name associated with it."
      ]
    },
    {
      "cell_type": "markdown",
      "metadata": {
        "id": "Z3TjbtvDVjUP",
        "colab_type": "text"
      },
      "source": [
        "The _columns_ refer to the genes, of features of the data. `data.columns` gives these as a list."
      ]
    },
    {
      "cell_type": "code",
      "metadata": {
        "id": "oVG3yHxIVjUQ",
        "colab_type": "code",
        "outputId": "40d8045b-b546-4d50-cd3b-07058b270638",
        "colab": {
          "base_uri": "https://localhost:8080/",
          "height": 221
        }
      },
      "source": [
        "data_time1.columns"
      ],
      "execution_count": 8,
      "outputs": [
        {
          "output_type": "execute_result",
          "data": {
            "text/plain": [
              "Index(['RP11-34P13.3 (ENSG00000243485)', 'FAM138A (ENSG00000237613)',\n",
              "       'OR4F5 (ENSG00000186092)', 'RP11-34P13.7 (ENSG00000238009)',\n",
              "       'RP11-34P13.8 (ENSG00000239945)', 'RP11-34P13.14 (ENSG00000239906)',\n",
              "       'RP11-34P13.9 (ENSG00000241599)', 'FO538757.3 (ENSG00000279928)',\n",
              "       'FO538757.2 (ENSG00000279457)', 'AP006222.2 (ENSG00000228463)',\n",
              "       ...\n",
              "       'AC007325.2 (ENSG00000277196)', 'BX072566.1 (ENSG00000277630)',\n",
              "       'AL354822.1 (ENSG00000278384)', 'AC023491.2 (ENSG00000278633)',\n",
              "       'AC004556.1 (ENSG00000276345)', 'AC233755.2 (ENSG00000277856)',\n",
              "       'AC233755.1 (ENSG00000275063)', 'AC240274.1 (ENSG00000271254)',\n",
              "       'AC213203.1 (ENSG00000277475)', 'FAM231B (ENSG00000268674)'],\n",
              "      dtype='object', length=33694)"
            ]
          },
          "metadata": {
            "tags": []
          },
          "execution_count": 8
        }
      ]
    },
    {
      "cell_type": "markdown",
      "metadata": {
        "id": "YvK7XBscVjUS",
        "colab_type": "text"
      },
      "source": [
        "The _rows_ refer to the cells, of observations of the data. `data.index` gives these as a list."
      ]
    },
    {
      "cell_type": "code",
      "metadata": {
        "id": "03JE0g2xVjUT",
        "colab_type": "code",
        "outputId": "108bf50c-be5b-4aa3-f93d-2f5b03adde52",
        "colab": {
          "base_uri": "https://localhost:8080/",
          "height": 187
        }
      },
      "source": [
        "data_time1.index"
      ],
      "execution_count": 9,
      "outputs": [
        {
          "output_type": "execute_result",
          "data": {
            "text/plain": [
              "Index(['AAACATACCAGAGG-1', 'AAACATTGAAAGCA-1', 'AAACATTGAAGTGA-1',\n",
              "       'AAACATTGGAGGTG-1', 'AAACATTGGTTTCT-1', 'AAACCGTGCAGAAA-1',\n",
              "       'AAACCGTGGAAGGC-1', 'AAACCGTGGCTACA-1', 'AAACGCACCGGTAT-1',\n",
              "       'AAACGCACCTATTC-1',\n",
              "       ...\n",
              "       'TTTCGAACCCTCGT-1', 'TTTCGAACGTCCTC-1', 'TTTCTACTATCGAC-1',\n",
              "       'TTTGACTGAACGTC-1', 'TTTGACTGCTCAAG-1', 'TTTGACTGCTTCTA-1',\n",
              "       'TTTGACTGTGCCCT-1', 'TTTGCATGAGGTCT-1', 'TTTGCATGGGCGAA-1',\n",
              "       'TTTGCATGTGACAC-1'],\n",
              "      dtype='object', name=0, length=4649)"
            ]
          },
          "metadata": {
            "tags": []
          },
          "execution_count": 9
        }
      ]
    },
    {
      "cell_type": "markdown",
      "metadata": {
        "id": "FoNKaV2-VjUV",
        "colab_type": "text"
      },
      "source": [
        "Note that some tools expect the opposite: that genes would be on the rows and cells on the columns. This is a hold-over from bulk RNA-seq, when it made sense for each replicate (of which there were few) to be a feature and each gene (of which there were many) to be an observation; however, now that we can have as many or more cells than genes, it makes more sense for cells to be observations. Keep this difference in mind when you try new tools."
      ]
    },
    {
      "cell_type": "markdown",
      "metadata": {
        "id": "jtli_Ps1VjUV",
        "colab_type": "text"
      },
      "source": [
        "Finally, we can view the actual matrix, either by simply typing the matrix name to view the whole thing, or using the `.head()` function to view the first few rows."
      ]
    },
    {
      "cell_type": "code",
      "metadata": {
        "id": "4zFWT-IAVjUW",
        "colab_type": "code",
        "colab": {
          "base_uri": "https://localhost:8080/",
          "height": 592
        },
        "outputId": "dc55b0c1-9c2f-4142-dbe6-9e3ccc6e8317"
      },
      "source": [
        "data_time1.head(10)"
      ],
      "execution_count": 10,
      "outputs": [
        {
          "output_type": "execute_result",
          "data": {
            "text/html": [
              "<div>\n",
              "<style scoped>\n",
              "    .dataframe tbody tr th:only-of-type {\n",
              "        vertical-align: middle;\n",
              "    }\n",
              "\n",
              "    .dataframe tbody tr th {\n",
              "        vertical-align: top;\n",
              "    }\n",
              "\n",
              "    .dataframe thead th {\n",
              "        text-align: right;\n",
              "    }\n",
              "</style>\n",
              "<table border=\"1\" class=\"dataframe\">\n",
              "  <thead>\n",
              "    <tr style=\"text-align: right;\">\n",
              "      <th></th>\n",
              "      <th>RP11-34P13.3 (ENSG00000243485)</th>\n",
              "      <th>FAM138A (ENSG00000237613)</th>\n",
              "      <th>OR4F5 (ENSG00000186092)</th>\n",
              "      <th>RP11-34P13.7 (ENSG00000238009)</th>\n",
              "      <th>RP11-34P13.8 (ENSG00000239945)</th>\n",
              "      <th>RP11-34P13.14 (ENSG00000239906)</th>\n",
              "      <th>RP11-34P13.9 (ENSG00000241599)</th>\n",
              "      <th>FO538757.3 (ENSG00000279928)</th>\n",
              "      <th>FO538757.2 (ENSG00000279457)</th>\n",
              "      <th>AP006222.2 (ENSG00000228463)</th>\n",
              "      <th>RP5-857K21.15 (ENSG00000236743)</th>\n",
              "      <th>RP4-669L17.2 (ENSG00000236601)</th>\n",
              "      <th>RP4-669L17.10 (ENSG00000237094)</th>\n",
              "      <th>OR4F29 (ENSG00000278566)</th>\n",
              "      <th>RP5-857K21.4 (ENSG00000230021)</th>\n",
              "      <th>RP5-857K21.2 (ENSG00000235146)</th>\n",
              "      <th>OR4F16 (ENSG00000273547)</th>\n",
              "      <th>RP11-206L10.4 (ENSG00000229905)</th>\n",
              "      <th>RP11-206L10.9 (ENSG00000237491)</th>\n",
              "      <th>FAM87B (ENSG00000177757)</th>\n",
              "      <th>LINC00115 (ENSG00000225880)</th>\n",
              "      <th>FAM41C (ENSG00000230368)</th>\n",
              "      <th>RP11-54O7.16 (ENSG00000272438)</th>\n",
              "      <th>RP11-54O7.1 (ENSG00000230699)</th>\n",
              "      <th>RP11-54O7.2 (ENSG00000241180)</th>\n",
              "      <th>RP11-54O7.3 (ENSG00000223764)</th>\n",
              "      <th>SAMD11 (ENSG00000187634)</th>\n",
              "      <th>NOC2L (ENSG00000188976)</th>\n",
              "      <th>KLHL17 (ENSG00000187961)</th>\n",
              "      <th>PLEKHN1 (ENSG00000187583)</th>\n",
              "      <th>PERM1 (ENSG00000187642)</th>\n",
              "      <th>RP11-54O7.17 (ENSG00000272512)</th>\n",
              "      <th>HES4 (ENSG00000188290)</th>\n",
              "      <th>ISG15 (ENSG00000187608)</th>\n",
              "      <th>RP11-54O7.11 (ENSG00000224969)</th>\n",
              "      <th>AGRN (ENSG00000188157)</th>\n",
              "      <th>RP11-54O7.18 (ENSG00000273443)</th>\n",
              "      <th>RNF223 (ENSG00000237330)</th>\n",
              "      <th>C1orf159 (ENSG00000131591)</th>\n",
              "      <th>LINC01342 (ENSG00000223823)</th>\n",
              "      <th>...</th>\n",
              "      <th>MT-CO1 (ENSG00000198804)</th>\n",
              "      <th>MT-CO2 (ENSG00000198712)</th>\n",
              "      <th>MT-ATP8 (ENSG00000228253)</th>\n",
              "      <th>MT-ATP6 (ENSG00000198899)</th>\n",
              "      <th>MT-CO3 (ENSG00000198938)</th>\n",
              "      <th>MT-ND3 (ENSG00000198840)</th>\n",
              "      <th>MT-ND4L (ENSG00000212907)</th>\n",
              "      <th>MT-ND4 (ENSG00000198886)</th>\n",
              "      <th>MT-ND5 (ENSG00000198786)</th>\n",
              "      <th>MT-ND6 (ENSG00000198695)</th>\n",
              "      <th>MT-CYB (ENSG00000198727)</th>\n",
              "      <th>AC133551.1 (ENSG00000274175)</th>\n",
              "      <th>AC136612.1 (ENSG00000275869)</th>\n",
              "      <th>AC136616.1 (ENSG00000273554)</th>\n",
              "      <th>AC136616.3 (ENSG00000278782)</th>\n",
              "      <th>AC136616.2 (ENSG00000277761)</th>\n",
              "      <th>AC141272.1 (ENSG00000277836)</th>\n",
              "      <th>AC136352.5 (ENSG00000277666)</th>\n",
              "      <th>AC136352.4 (ENSG00000276760)</th>\n",
              "      <th>AC171558.2 (ENSG00000275249)</th>\n",
              "      <th>AC171558.1 (ENSG00000274792)</th>\n",
              "      <th>BX004987.4 (ENSG00000278704)</th>\n",
              "      <th>AC145212.4 (ENSG00000277400)</th>\n",
              "      <th>AC145212.2 (ENSG00000274847)</th>\n",
              "      <th>AC011841.1 (ENSG00000273496)</th>\n",
              "      <th>AC011043.1 (ENSG00000276256)</th>\n",
              "      <th>AC011043.2 (ENSG00000278198)</th>\n",
              "      <th>AL592183.1 (ENSG00000273748)</th>\n",
              "      <th>AC007325.1 (ENSG00000276017)</th>\n",
              "      <th>AC007325.4 (ENSG00000278817)</th>\n",
              "      <th>AC007325.2 (ENSG00000277196)</th>\n",
              "      <th>BX072566.1 (ENSG00000277630)</th>\n",
              "      <th>AL354822.1 (ENSG00000278384)</th>\n",
              "      <th>AC023491.2 (ENSG00000278633)</th>\n",
              "      <th>AC004556.1 (ENSG00000276345)</th>\n",
              "      <th>AC233755.2 (ENSG00000277856)</th>\n",
              "      <th>AC233755.1 (ENSG00000275063)</th>\n",
              "      <th>AC240274.1 (ENSG00000271254)</th>\n",
              "      <th>AC213203.1 (ENSG00000277475)</th>\n",
              "      <th>FAM231B (ENSG00000268674)</th>\n",
              "    </tr>\n",
              "    <tr>\n",
              "      <th>0</th>\n",
              "      <th></th>\n",
              "      <th></th>\n",
              "      <th></th>\n",
              "      <th></th>\n",
              "      <th></th>\n",
              "      <th></th>\n",
              "      <th></th>\n",
              "      <th></th>\n",
              "      <th></th>\n",
              "      <th></th>\n",
              "      <th></th>\n",
              "      <th></th>\n",
              "      <th></th>\n",
              "      <th></th>\n",
              "      <th></th>\n",
              "      <th></th>\n",
              "      <th></th>\n",
              "      <th></th>\n",
              "      <th></th>\n",
              "      <th></th>\n",
              "      <th></th>\n",
              "      <th></th>\n",
              "      <th></th>\n",
              "      <th></th>\n",
              "      <th></th>\n",
              "      <th></th>\n",
              "      <th></th>\n",
              "      <th></th>\n",
              "      <th></th>\n",
              "      <th></th>\n",
              "      <th></th>\n",
              "      <th></th>\n",
              "      <th></th>\n",
              "      <th></th>\n",
              "      <th></th>\n",
              "      <th></th>\n",
              "      <th></th>\n",
              "      <th></th>\n",
              "      <th></th>\n",
              "      <th></th>\n",
              "      <th></th>\n",
              "      <th></th>\n",
              "      <th></th>\n",
              "      <th></th>\n",
              "      <th></th>\n",
              "      <th></th>\n",
              "      <th></th>\n",
              "      <th></th>\n",
              "      <th></th>\n",
              "      <th></th>\n",
              "      <th></th>\n",
              "      <th></th>\n",
              "      <th></th>\n",
              "      <th></th>\n",
              "      <th></th>\n",
              "      <th></th>\n",
              "      <th></th>\n",
              "      <th></th>\n",
              "      <th></th>\n",
              "      <th></th>\n",
              "      <th></th>\n",
              "      <th></th>\n",
              "      <th></th>\n",
              "      <th></th>\n",
              "      <th></th>\n",
              "      <th></th>\n",
              "      <th></th>\n",
              "      <th></th>\n",
              "      <th></th>\n",
              "      <th></th>\n",
              "      <th></th>\n",
              "      <th></th>\n",
              "      <th></th>\n",
              "      <th></th>\n",
              "      <th></th>\n",
              "      <th></th>\n",
              "      <th></th>\n",
              "      <th></th>\n",
              "      <th></th>\n",
              "      <th></th>\n",
              "      <th></th>\n",
              "    </tr>\n",
              "  </thead>\n",
              "  <tbody>\n",
              "    <tr>\n",
              "      <th>AAACATACCAGAGG-1</th>\n",
              "      <td>0</td>\n",
              "      <td>0</td>\n",
              "      <td>0</td>\n",
              "      <td>0</td>\n",
              "      <td>0</td>\n",
              "      <td>0</td>\n",
              "      <td>0</td>\n",
              "      <td>0</td>\n",
              "      <td>1</td>\n",
              "      <td>0</td>\n",
              "      <td>0</td>\n",
              "      <td>0</td>\n",
              "      <td>0</td>\n",
              "      <td>0</td>\n",
              "      <td>0</td>\n",
              "      <td>0</td>\n",
              "      <td>0</td>\n",
              "      <td>0</td>\n",
              "      <td>0</td>\n",
              "      <td>0</td>\n",
              "      <td>0</td>\n",
              "      <td>0</td>\n",
              "      <td>0</td>\n",
              "      <td>0</td>\n",
              "      <td>0</td>\n",
              "      <td>0</td>\n",
              "      <td>0</td>\n",
              "      <td>0</td>\n",
              "      <td>0</td>\n",
              "      <td>0</td>\n",
              "      <td>0</td>\n",
              "      <td>0</td>\n",
              "      <td>0</td>\n",
              "      <td>0</td>\n",
              "      <td>0</td>\n",
              "      <td>0</td>\n",
              "      <td>0</td>\n",
              "      <td>0</td>\n",
              "      <td>0</td>\n",
              "      <td>0</td>\n",
              "      <td>...</td>\n",
              "      <td>59</td>\n",
              "      <td>69</td>\n",
              "      <td>0</td>\n",
              "      <td>18</td>\n",
              "      <td>45</td>\n",
              "      <td>3</td>\n",
              "      <td>0</td>\n",
              "      <td>28</td>\n",
              "      <td>9</td>\n",
              "      <td>2</td>\n",
              "      <td>42</td>\n",
              "      <td>0</td>\n",
              "      <td>0</td>\n",
              "      <td>0</td>\n",
              "      <td>0</td>\n",
              "      <td>0</td>\n",
              "      <td>0</td>\n",
              "      <td>0</td>\n",
              "      <td>0</td>\n",
              "      <td>0</td>\n",
              "      <td>0</td>\n",
              "      <td>0</td>\n",
              "      <td>0</td>\n",
              "      <td>0</td>\n",
              "      <td>0</td>\n",
              "      <td>0</td>\n",
              "      <td>0</td>\n",
              "      <td>0</td>\n",
              "      <td>0</td>\n",
              "      <td>0</td>\n",
              "      <td>0</td>\n",
              "      <td>0</td>\n",
              "      <td>0</td>\n",
              "      <td>0</td>\n",
              "      <td>0</td>\n",
              "      <td>0</td>\n",
              "      <td>0</td>\n",
              "      <td>0</td>\n",
              "      <td>0</td>\n",
              "      <td>0</td>\n",
              "    </tr>\n",
              "    <tr>\n",
              "      <th>AAACATTGAAAGCA-1</th>\n",
              "      <td>0</td>\n",
              "      <td>0</td>\n",
              "      <td>0</td>\n",
              "      <td>0</td>\n",
              "      <td>0</td>\n",
              "      <td>0</td>\n",
              "      <td>0</td>\n",
              "      <td>0</td>\n",
              "      <td>0</td>\n",
              "      <td>0</td>\n",
              "      <td>0</td>\n",
              "      <td>0</td>\n",
              "      <td>0</td>\n",
              "      <td>0</td>\n",
              "      <td>0</td>\n",
              "      <td>0</td>\n",
              "      <td>0</td>\n",
              "      <td>0</td>\n",
              "      <td>0</td>\n",
              "      <td>0</td>\n",
              "      <td>0</td>\n",
              "      <td>0</td>\n",
              "      <td>0</td>\n",
              "      <td>0</td>\n",
              "      <td>0</td>\n",
              "      <td>0</td>\n",
              "      <td>0</td>\n",
              "      <td>0</td>\n",
              "      <td>0</td>\n",
              "      <td>0</td>\n",
              "      <td>0</td>\n",
              "      <td>0</td>\n",
              "      <td>0</td>\n",
              "      <td>1</td>\n",
              "      <td>0</td>\n",
              "      <td>0</td>\n",
              "      <td>0</td>\n",
              "      <td>0</td>\n",
              "      <td>0</td>\n",
              "      <td>0</td>\n",
              "      <td>...</td>\n",
              "      <td>49</td>\n",
              "      <td>27</td>\n",
              "      <td>1</td>\n",
              "      <td>14</td>\n",
              "      <td>42</td>\n",
              "      <td>1</td>\n",
              "      <td>0</td>\n",
              "      <td>18</td>\n",
              "      <td>7</td>\n",
              "      <td>0</td>\n",
              "      <td>21</td>\n",
              "      <td>0</td>\n",
              "      <td>0</td>\n",
              "      <td>0</td>\n",
              "      <td>0</td>\n",
              "      <td>0</td>\n",
              "      <td>0</td>\n",
              "      <td>0</td>\n",
              "      <td>0</td>\n",
              "      <td>0</td>\n",
              "      <td>0</td>\n",
              "      <td>0</td>\n",
              "      <td>0</td>\n",
              "      <td>0</td>\n",
              "      <td>0</td>\n",
              "      <td>0</td>\n",
              "      <td>0</td>\n",
              "      <td>0</td>\n",
              "      <td>0</td>\n",
              "      <td>0</td>\n",
              "      <td>0</td>\n",
              "      <td>0</td>\n",
              "      <td>0</td>\n",
              "      <td>0</td>\n",
              "      <td>0</td>\n",
              "      <td>0</td>\n",
              "      <td>0</td>\n",
              "      <td>0</td>\n",
              "      <td>0</td>\n",
              "      <td>0</td>\n",
              "    </tr>\n",
              "    <tr>\n",
              "      <th>AAACATTGAAGTGA-1</th>\n",
              "      <td>0</td>\n",
              "      <td>0</td>\n",
              "      <td>0</td>\n",
              "      <td>0</td>\n",
              "      <td>0</td>\n",
              "      <td>0</td>\n",
              "      <td>0</td>\n",
              "      <td>0</td>\n",
              "      <td>0</td>\n",
              "      <td>0</td>\n",
              "      <td>0</td>\n",
              "      <td>0</td>\n",
              "      <td>0</td>\n",
              "      <td>0</td>\n",
              "      <td>0</td>\n",
              "      <td>0</td>\n",
              "      <td>0</td>\n",
              "      <td>0</td>\n",
              "      <td>0</td>\n",
              "      <td>0</td>\n",
              "      <td>0</td>\n",
              "      <td>0</td>\n",
              "      <td>0</td>\n",
              "      <td>0</td>\n",
              "      <td>0</td>\n",
              "      <td>0</td>\n",
              "      <td>0</td>\n",
              "      <td>0</td>\n",
              "      <td>0</td>\n",
              "      <td>0</td>\n",
              "      <td>0</td>\n",
              "      <td>0</td>\n",
              "      <td>0</td>\n",
              "      <td>0</td>\n",
              "      <td>0</td>\n",
              "      <td>0</td>\n",
              "      <td>0</td>\n",
              "      <td>0</td>\n",
              "      <td>0</td>\n",
              "      <td>0</td>\n",
              "      <td>...</td>\n",
              "      <td>21</td>\n",
              "      <td>18</td>\n",
              "      <td>0</td>\n",
              "      <td>8</td>\n",
              "      <td>17</td>\n",
              "      <td>1</td>\n",
              "      <td>0</td>\n",
              "      <td>9</td>\n",
              "      <td>5</td>\n",
              "      <td>0</td>\n",
              "      <td>22</td>\n",
              "      <td>0</td>\n",
              "      <td>0</td>\n",
              "      <td>0</td>\n",
              "      <td>0</td>\n",
              "      <td>0</td>\n",
              "      <td>0</td>\n",
              "      <td>0</td>\n",
              "      <td>0</td>\n",
              "      <td>0</td>\n",
              "      <td>0</td>\n",
              "      <td>0</td>\n",
              "      <td>0</td>\n",
              "      <td>0</td>\n",
              "      <td>0</td>\n",
              "      <td>1</td>\n",
              "      <td>0</td>\n",
              "      <td>0</td>\n",
              "      <td>0</td>\n",
              "      <td>0</td>\n",
              "      <td>0</td>\n",
              "      <td>0</td>\n",
              "      <td>0</td>\n",
              "      <td>0</td>\n",
              "      <td>0</td>\n",
              "      <td>0</td>\n",
              "      <td>0</td>\n",
              "      <td>0</td>\n",
              "      <td>0</td>\n",
              "      <td>0</td>\n",
              "    </tr>\n",
              "    <tr>\n",
              "      <th>AAACATTGGAGGTG-1</th>\n",
              "      <td>0</td>\n",
              "      <td>0</td>\n",
              "      <td>0</td>\n",
              "      <td>0</td>\n",
              "      <td>0</td>\n",
              "      <td>0</td>\n",
              "      <td>0</td>\n",
              "      <td>0</td>\n",
              "      <td>0</td>\n",
              "      <td>0</td>\n",
              "      <td>0</td>\n",
              "      <td>0</td>\n",
              "      <td>0</td>\n",
              "      <td>0</td>\n",
              "      <td>0</td>\n",
              "      <td>0</td>\n",
              "      <td>0</td>\n",
              "      <td>0</td>\n",
              "      <td>0</td>\n",
              "      <td>0</td>\n",
              "      <td>0</td>\n",
              "      <td>0</td>\n",
              "      <td>0</td>\n",
              "      <td>0</td>\n",
              "      <td>0</td>\n",
              "      <td>0</td>\n",
              "      <td>0</td>\n",
              "      <td>0</td>\n",
              "      <td>0</td>\n",
              "      <td>0</td>\n",
              "      <td>0</td>\n",
              "      <td>0</td>\n",
              "      <td>0</td>\n",
              "      <td>0</td>\n",
              "      <td>0</td>\n",
              "      <td>0</td>\n",
              "      <td>0</td>\n",
              "      <td>0</td>\n",
              "      <td>0</td>\n",
              "      <td>0</td>\n",
              "      <td>...</td>\n",
              "      <td>20</td>\n",
              "      <td>29</td>\n",
              "      <td>0</td>\n",
              "      <td>17</td>\n",
              "      <td>16</td>\n",
              "      <td>0</td>\n",
              "      <td>0</td>\n",
              "      <td>8</td>\n",
              "      <td>3</td>\n",
              "      <td>1</td>\n",
              "      <td>17</td>\n",
              "      <td>0</td>\n",
              "      <td>0</td>\n",
              "      <td>0</td>\n",
              "      <td>0</td>\n",
              "      <td>0</td>\n",
              "      <td>0</td>\n",
              "      <td>0</td>\n",
              "      <td>0</td>\n",
              "      <td>0</td>\n",
              "      <td>0</td>\n",
              "      <td>0</td>\n",
              "      <td>0</td>\n",
              "      <td>0</td>\n",
              "      <td>0</td>\n",
              "      <td>0</td>\n",
              "      <td>0</td>\n",
              "      <td>0</td>\n",
              "      <td>0</td>\n",
              "      <td>0</td>\n",
              "      <td>0</td>\n",
              "      <td>0</td>\n",
              "      <td>0</td>\n",
              "      <td>0</td>\n",
              "      <td>0</td>\n",
              "      <td>0</td>\n",
              "      <td>0</td>\n",
              "      <td>0</td>\n",
              "      <td>0</td>\n",
              "      <td>0</td>\n",
              "    </tr>\n",
              "    <tr>\n",
              "      <th>AAACATTGGTTTCT-1</th>\n",
              "      <td>0</td>\n",
              "      <td>0</td>\n",
              "      <td>0</td>\n",
              "      <td>0</td>\n",
              "      <td>0</td>\n",
              "      <td>0</td>\n",
              "      <td>0</td>\n",
              "      <td>0</td>\n",
              "      <td>0</td>\n",
              "      <td>0</td>\n",
              "      <td>0</td>\n",
              "      <td>0</td>\n",
              "      <td>0</td>\n",
              "      <td>0</td>\n",
              "      <td>0</td>\n",
              "      <td>0</td>\n",
              "      <td>0</td>\n",
              "      <td>0</td>\n",
              "      <td>0</td>\n",
              "      <td>0</td>\n",
              "      <td>0</td>\n",
              "      <td>0</td>\n",
              "      <td>0</td>\n",
              "      <td>0</td>\n",
              "      <td>0</td>\n",
              "      <td>0</td>\n",
              "      <td>0</td>\n",
              "      <td>0</td>\n",
              "      <td>0</td>\n",
              "      <td>0</td>\n",
              "      <td>0</td>\n",
              "      <td>0</td>\n",
              "      <td>0</td>\n",
              "      <td>0</td>\n",
              "      <td>0</td>\n",
              "      <td>0</td>\n",
              "      <td>0</td>\n",
              "      <td>0</td>\n",
              "      <td>0</td>\n",
              "      <td>0</td>\n",
              "      <td>...</td>\n",
              "      <td>45</td>\n",
              "      <td>35</td>\n",
              "      <td>0</td>\n",
              "      <td>12</td>\n",
              "      <td>38</td>\n",
              "      <td>2</td>\n",
              "      <td>0</td>\n",
              "      <td>11</td>\n",
              "      <td>1</td>\n",
              "      <td>0</td>\n",
              "      <td>21</td>\n",
              "      <td>0</td>\n",
              "      <td>0</td>\n",
              "      <td>0</td>\n",
              "      <td>0</td>\n",
              "      <td>0</td>\n",
              "      <td>0</td>\n",
              "      <td>0</td>\n",
              "      <td>0</td>\n",
              "      <td>0</td>\n",
              "      <td>0</td>\n",
              "      <td>0</td>\n",
              "      <td>0</td>\n",
              "      <td>0</td>\n",
              "      <td>0</td>\n",
              "      <td>0</td>\n",
              "      <td>0</td>\n",
              "      <td>0</td>\n",
              "      <td>0</td>\n",
              "      <td>0</td>\n",
              "      <td>0</td>\n",
              "      <td>0</td>\n",
              "      <td>0</td>\n",
              "      <td>0</td>\n",
              "      <td>0</td>\n",
              "      <td>0</td>\n",
              "      <td>0</td>\n",
              "      <td>0</td>\n",
              "      <td>0</td>\n",
              "      <td>0</td>\n",
              "    </tr>\n",
              "    <tr>\n",
              "      <th>AAACCGTGCAGAAA-1</th>\n",
              "      <td>0</td>\n",
              "      <td>0</td>\n",
              "      <td>0</td>\n",
              "      <td>0</td>\n",
              "      <td>0</td>\n",
              "      <td>0</td>\n",
              "      <td>0</td>\n",
              "      <td>0</td>\n",
              "      <td>0</td>\n",
              "      <td>0</td>\n",
              "      <td>0</td>\n",
              "      <td>0</td>\n",
              "      <td>0</td>\n",
              "      <td>0</td>\n",
              "      <td>0</td>\n",
              "      <td>0</td>\n",
              "      <td>0</td>\n",
              "      <td>0</td>\n",
              "      <td>0</td>\n",
              "      <td>0</td>\n",
              "      <td>0</td>\n",
              "      <td>0</td>\n",
              "      <td>0</td>\n",
              "      <td>0</td>\n",
              "      <td>0</td>\n",
              "      <td>0</td>\n",
              "      <td>0</td>\n",
              "      <td>0</td>\n",
              "      <td>0</td>\n",
              "      <td>0</td>\n",
              "      <td>0</td>\n",
              "      <td>0</td>\n",
              "      <td>0</td>\n",
              "      <td>0</td>\n",
              "      <td>0</td>\n",
              "      <td>0</td>\n",
              "      <td>0</td>\n",
              "      <td>0</td>\n",
              "      <td>0</td>\n",
              "      <td>0</td>\n",
              "      <td>...</td>\n",
              "      <td>24</td>\n",
              "      <td>33</td>\n",
              "      <td>0</td>\n",
              "      <td>8</td>\n",
              "      <td>22</td>\n",
              "      <td>0</td>\n",
              "      <td>0</td>\n",
              "      <td>12</td>\n",
              "      <td>4</td>\n",
              "      <td>0</td>\n",
              "      <td>16</td>\n",
              "      <td>0</td>\n",
              "      <td>0</td>\n",
              "      <td>0</td>\n",
              "      <td>0</td>\n",
              "      <td>0</td>\n",
              "      <td>0</td>\n",
              "      <td>0</td>\n",
              "      <td>0</td>\n",
              "      <td>0</td>\n",
              "      <td>0</td>\n",
              "      <td>0</td>\n",
              "      <td>0</td>\n",
              "      <td>0</td>\n",
              "      <td>0</td>\n",
              "      <td>0</td>\n",
              "      <td>0</td>\n",
              "      <td>0</td>\n",
              "      <td>0</td>\n",
              "      <td>0</td>\n",
              "      <td>0</td>\n",
              "      <td>0</td>\n",
              "      <td>0</td>\n",
              "      <td>0</td>\n",
              "      <td>0</td>\n",
              "      <td>0</td>\n",
              "      <td>0</td>\n",
              "      <td>0</td>\n",
              "      <td>0</td>\n",
              "      <td>0</td>\n",
              "    </tr>\n",
              "    <tr>\n",
              "      <th>AAACCGTGGAAGGC-1</th>\n",
              "      <td>0</td>\n",
              "      <td>0</td>\n",
              "      <td>0</td>\n",
              "      <td>0</td>\n",
              "      <td>0</td>\n",
              "      <td>0</td>\n",
              "      <td>0</td>\n",
              "      <td>0</td>\n",
              "      <td>0</td>\n",
              "      <td>0</td>\n",
              "      <td>0</td>\n",
              "      <td>0</td>\n",
              "      <td>0</td>\n",
              "      <td>0</td>\n",
              "      <td>0</td>\n",
              "      <td>0</td>\n",
              "      <td>0</td>\n",
              "      <td>0</td>\n",
              "      <td>0</td>\n",
              "      <td>0</td>\n",
              "      <td>0</td>\n",
              "      <td>0</td>\n",
              "      <td>0</td>\n",
              "      <td>0</td>\n",
              "      <td>0</td>\n",
              "      <td>0</td>\n",
              "      <td>0</td>\n",
              "      <td>1</td>\n",
              "      <td>0</td>\n",
              "      <td>0</td>\n",
              "      <td>0</td>\n",
              "      <td>0</td>\n",
              "      <td>0</td>\n",
              "      <td>0</td>\n",
              "      <td>0</td>\n",
              "      <td>0</td>\n",
              "      <td>0</td>\n",
              "      <td>0</td>\n",
              "      <td>0</td>\n",
              "      <td>0</td>\n",
              "      <td>...</td>\n",
              "      <td>33</td>\n",
              "      <td>44</td>\n",
              "      <td>0</td>\n",
              "      <td>25</td>\n",
              "      <td>59</td>\n",
              "      <td>3</td>\n",
              "      <td>0</td>\n",
              "      <td>33</td>\n",
              "      <td>3</td>\n",
              "      <td>1</td>\n",
              "      <td>41</td>\n",
              "      <td>0</td>\n",
              "      <td>0</td>\n",
              "      <td>0</td>\n",
              "      <td>0</td>\n",
              "      <td>0</td>\n",
              "      <td>0</td>\n",
              "      <td>0</td>\n",
              "      <td>0</td>\n",
              "      <td>0</td>\n",
              "      <td>0</td>\n",
              "      <td>0</td>\n",
              "      <td>0</td>\n",
              "      <td>0</td>\n",
              "      <td>0</td>\n",
              "      <td>0</td>\n",
              "      <td>0</td>\n",
              "      <td>0</td>\n",
              "      <td>0</td>\n",
              "      <td>0</td>\n",
              "      <td>0</td>\n",
              "      <td>0</td>\n",
              "      <td>0</td>\n",
              "      <td>0</td>\n",
              "      <td>0</td>\n",
              "      <td>0</td>\n",
              "      <td>0</td>\n",
              "      <td>0</td>\n",
              "      <td>0</td>\n",
              "      <td>0</td>\n",
              "    </tr>\n",
              "    <tr>\n",
              "      <th>AAACCGTGGCTACA-1</th>\n",
              "      <td>0</td>\n",
              "      <td>0</td>\n",
              "      <td>0</td>\n",
              "      <td>0</td>\n",
              "      <td>0</td>\n",
              "      <td>0</td>\n",
              "      <td>0</td>\n",
              "      <td>0</td>\n",
              "      <td>0</td>\n",
              "      <td>0</td>\n",
              "      <td>0</td>\n",
              "      <td>0</td>\n",
              "      <td>0</td>\n",
              "      <td>0</td>\n",
              "      <td>0</td>\n",
              "      <td>0</td>\n",
              "      <td>0</td>\n",
              "      <td>0</td>\n",
              "      <td>0</td>\n",
              "      <td>0</td>\n",
              "      <td>0</td>\n",
              "      <td>0</td>\n",
              "      <td>0</td>\n",
              "      <td>0</td>\n",
              "      <td>0</td>\n",
              "      <td>0</td>\n",
              "      <td>0</td>\n",
              "      <td>0</td>\n",
              "      <td>0</td>\n",
              "      <td>0</td>\n",
              "      <td>0</td>\n",
              "      <td>0</td>\n",
              "      <td>0</td>\n",
              "      <td>0</td>\n",
              "      <td>0</td>\n",
              "      <td>0</td>\n",
              "      <td>0</td>\n",
              "      <td>0</td>\n",
              "      <td>0</td>\n",
              "      <td>0</td>\n",
              "      <td>...</td>\n",
              "      <td>4</td>\n",
              "      <td>2</td>\n",
              "      <td>0</td>\n",
              "      <td>1</td>\n",
              "      <td>3</td>\n",
              "      <td>1</td>\n",
              "      <td>0</td>\n",
              "      <td>2</td>\n",
              "      <td>1</td>\n",
              "      <td>0</td>\n",
              "      <td>3</td>\n",
              "      <td>0</td>\n",
              "      <td>0</td>\n",
              "      <td>0</td>\n",
              "      <td>0</td>\n",
              "      <td>0</td>\n",
              "      <td>0</td>\n",
              "      <td>0</td>\n",
              "      <td>0</td>\n",
              "      <td>0</td>\n",
              "      <td>0</td>\n",
              "      <td>0</td>\n",
              "      <td>0</td>\n",
              "      <td>0</td>\n",
              "      <td>0</td>\n",
              "      <td>0</td>\n",
              "      <td>0</td>\n",
              "      <td>0</td>\n",
              "      <td>0</td>\n",
              "      <td>0</td>\n",
              "      <td>0</td>\n",
              "      <td>0</td>\n",
              "      <td>0</td>\n",
              "      <td>0</td>\n",
              "      <td>0</td>\n",
              "      <td>0</td>\n",
              "      <td>0</td>\n",
              "      <td>0</td>\n",
              "      <td>0</td>\n",
              "      <td>0</td>\n",
              "    </tr>\n",
              "    <tr>\n",
              "      <th>AAACGCACCGGTAT-1</th>\n",
              "      <td>0</td>\n",
              "      <td>0</td>\n",
              "      <td>0</td>\n",
              "      <td>0</td>\n",
              "      <td>0</td>\n",
              "      <td>0</td>\n",
              "      <td>0</td>\n",
              "      <td>0</td>\n",
              "      <td>0</td>\n",
              "      <td>0</td>\n",
              "      <td>0</td>\n",
              "      <td>0</td>\n",
              "      <td>0</td>\n",
              "      <td>0</td>\n",
              "      <td>0</td>\n",
              "      <td>0</td>\n",
              "      <td>0</td>\n",
              "      <td>0</td>\n",
              "      <td>0</td>\n",
              "      <td>0</td>\n",
              "      <td>0</td>\n",
              "      <td>0</td>\n",
              "      <td>0</td>\n",
              "      <td>0</td>\n",
              "      <td>0</td>\n",
              "      <td>0</td>\n",
              "      <td>0</td>\n",
              "      <td>2</td>\n",
              "      <td>0</td>\n",
              "      <td>0</td>\n",
              "      <td>0</td>\n",
              "      <td>0</td>\n",
              "      <td>0</td>\n",
              "      <td>0</td>\n",
              "      <td>0</td>\n",
              "      <td>0</td>\n",
              "      <td>0</td>\n",
              "      <td>0</td>\n",
              "      <td>0</td>\n",
              "      <td>0</td>\n",
              "      <td>...</td>\n",
              "      <td>39</td>\n",
              "      <td>28</td>\n",
              "      <td>0</td>\n",
              "      <td>23</td>\n",
              "      <td>54</td>\n",
              "      <td>3</td>\n",
              "      <td>0</td>\n",
              "      <td>23</td>\n",
              "      <td>3</td>\n",
              "      <td>1</td>\n",
              "      <td>25</td>\n",
              "      <td>0</td>\n",
              "      <td>0</td>\n",
              "      <td>0</td>\n",
              "      <td>0</td>\n",
              "      <td>0</td>\n",
              "      <td>0</td>\n",
              "      <td>0</td>\n",
              "      <td>0</td>\n",
              "      <td>0</td>\n",
              "      <td>0</td>\n",
              "      <td>0</td>\n",
              "      <td>0</td>\n",
              "      <td>0</td>\n",
              "      <td>0</td>\n",
              "      <td>0</td>\n",
              "      <td>0</td>\n",
              "      <td>0</td>\n",
              "      <td>0</td>\n",
              "      <td>0</td>\n",
              "      <td>0</td>\n",
              "      <td>0</td>\n",
              "      <td>0</td>\n",
              "      <td>0</td>\n",
              "      <td>0</td>\n",
              "      <td>0</td>\n",
              "      <td>0</td>\n",
              "      <td>0</td>\n",
              "      <td>0</td>\n",
              "      <td>0</td>\n",
              "    </tr>\n",
              "    <tr>\n",
              "      <th>AAACGCACCTATTC-1</th>\n",
              "      <td>0</td>\n",
              "      <td>0</td>\n",
              "      <td>0</td>\n",
              "      <td>0</td>\n",
              "      <td>0</td>\n",
              "      <td>0</td>\n",
              "      <td>0</td>\n",
              "      <td>0</td>\n",
              "      <td>0</td>\n",
              "      <td>0</td>\n",
              "      <td>0</td>\n",
              "      <td>0</td>\n",
              "      <td>0</td>\n",
              "      <td>0</td>\n",
              "      <td>0</td>\n",
              "      <td>0</td>\n",
              "      <td>0</td>\n",
              "      <td>0</td>\n",
              "      <td>0</td>\n",
              "      <td>0</td>\n",
              "      <td>0</td>\n",
              "      <td>0</td>\n",
              "      <td>0</td>\n",
              "      <td>0</td>\n",
              "      <td>0</td>\n",
              "      <td>0</td>\n",
              "      <td>0</td>\n",
              "      <td>0</td>\n",
              "      <td>0</td>\n",
              "      <td>0</td>\n",
              "      <td>0</td>\n",
              "      <td>0</td>\n",
              "      <td>0</td>\n",
              "      <td>1</td>\n",
              "      <td>0</td>\n",
              "      <td>0</td>\n",
              "      <td>0</td>\n",
              "      <td>0</td>\n",
              "      <td>0</td>\n",
              "      <td>0</td>\n",
              "      <td>...</td>\n",
              "      <td>49</td>\n",
              "      <td>34</td>\n",
              "      <td>0</td>\n",
              "      <td>18</td>\n",
              "      <td>43</td>\n",
              "      <td>0</td>\n",
              "      <td>0</td>\n",
              "      <td>21</td>\n",
              "      <td>4</td>\n",
              "      <td>0</td>\n",
              "      <td>35</td>\n",
              "      <td>0</td>\n",
              "      <td>0</td>\n",
              "      <td>0</td>\n",
              "      <td>0</td>\n",
              "      <td>0</td>\n",
              "      <td>0</td>\n",
              "      <td>0</td>\n",
              "      <td>0</td>\n",
              "      <td>0</td>\n",
              "      <td>0</td>\n",
              "      <td>0</td>\n",
              "      <td>0</td>\n",
              "      <td>0</td>\n",
              "      <td>0</td>\n",
              "      <td>0</td>\n",
              "      <td>0</td>\n",
              "      <td>0</td>\n",
              "      <td>0</td>\n",
              "      <td>0</td>\n",
              "      <td>0</td>\n",
              "      <td>0</td>\n",
              "      <td>0</td>\n",
              "      <td>0</td>\n",
              "      <td>0</td>\n",
              "      <td>0</td>\n",
              "      <td>0</td>\n",
              "      <td>0</td>\n",
              "      <td>0</td>\n",
              "      <td>0</td>\n",
              "    </tr>\n",
              "  </tbody>\n",
              "</table>\n",
              "<p>10 rows × 33694 columns</p>\n",
              "</div>"
            ],
            "text/plain": [
              "                  RP11-34P13.3 (ENSG00000243485)  ...  FAM231B (ENSG00000268674)\n",
              "0                                                 ...                           \n",
              "AAACATACCAGAGG-1                               0  ...                          0\n",
              "AAACATTGAAAGCA-1                               0  ...                          0\n",
              "AAACATTGAAGTGA-1                               0  ...                          0\n",
              "AAACATTGGAGGTG-1                               0  ...                          0\n",
              "AAACATTGGTTTCT-1                               0  ...                          0\n",
              "AAACCGTGCAGAAA-1                               0  ...                          0\n",
              "AAACCGTGGAAGGC-1                               0  ...                          0\n",
              "AAACCGTGGCTACA-1                               0  ...                          0\n",
              "AAACGCACCGGTAT-1                               0  ...                          0\n",
              "AAACGCACCTATTC-1                               0  ...                          0\n",
              "\n",
              "[10 rows x 33694 columns]"
            ]
          },
          "metadata": {
            "tags": []
          },
          "execution_count": 10
        }
      ]
    },
    {
      "cell_type": "markdown",
      "metadata": {
        "id": "xK1XTWRcVjUZ",
        "colab_type": "text"
      },
      "source": [
        "#### Loading the whole dataset\n",
        "\n",
        "Now we know how to load the data, let's load the data matrix for each sample (this may take a few minutes). Note that [`scprep.io`](https://scprep.readthedocs.io/en/stable/reference.html#module-scprep.io) has a range of different input functions: csv, tsv, mtx, and fcs are also available."
      ]
    },
    {
      "cell_type": "code",
      "metadata": {
        "colab_type": "code",
        "id": "9lc31so9acW-",
        "scrolled": true,
        "colab": {
          "base_uri": "https://localhost:8080/",
          "height": 386
        },
        "outputId": "92b11d29-86f3-4970-8094-9e10867164de"
      },
      "source": [
        "sparse=True\n",
        "data_time1 = scprep.io.load_10X(os.path.join(download_path, \"scRNAseq\", \"T0_1A\"), sparse=sparse, gene_labels='both')\n",
        "data_time2 = scprep.io.load_10X(os.path.join(download_path, \"scRNAseq\", \"T2_3B\"), sparse=sparse, gene_labels='both')\n",
        "data_time3 = scprep.io.load_10X(os.path.join(download_path, \"scRNAseq\", \"T4_5C\"), sparse=sparse, gene_labels='both')\n",
        "data_time4 = scprep.io.load_10X(os.path.join(download_path, \"scRNAseq\", \"T6_7D\"), sparse=sparse, gene_labels='both')\n",
        "data_time5 = scprep.io.load_10X(os.path.join(download_path, \"scRNAseq\", \"T8_9E\"), sparse=sparse, gene_labels='both')\n",
        "data_time5.head()"
      ],
      "execution_count": 29,
      "outputs": [
        {
          "output_type": "execute_result",
          "data": {
            "text/html": [
              "<div>\n",
              "<style scoped>\n",
              "    .dataframe tbody tr th:only-of-type {\n",
              "        vertical-align: middle;\n",
              "    }\n",
              "\n",
              "    .dataframe tbody tr th {\n",
              "        vertical-align: top;\n",
              "    }\n",
              "\n",
              "    .dataframe thead th {\n",
              "        text-align: right;\n",
              "    }\n",
              "</style>\n",
              "<table border=\"1\" class=\"dataframe\">\n",
              "  <thead>\n",
              "    <tr style=\"text-align: right;\">\n",
              "      <th></th>\n",
              "      <th>RP11-34P13.3 (ENSG00000243485)</th>\n",
              "      <th>FAM138A (ENSG00000237613)</th>\n",
              "      <th>OR4F5 (ENSG00000186092)</th>\n",
              "      <th>RP11-34P13.7 (ENSG00000238009)</th>\n",
              "      <th>RP11-34P13.8 (ENSG00000239945)</th>\n",
              "      <th>RP11-34P13.14 (ENSG00000239906)</th>\n",
              "      <th>RP11-34P13.9 (ENSG00000241599)</th>\n",
              "      <th>FO538757.3 (ENSG00000279928)</th>\n",
              "      <th>FO538757.2 (ENSG00000279457)</th>\n",
              "      <th>AP006222.2 (ENSG00000228463)</th>\n",
              "      <th>RP5-857K21.15 (ENSG00000236743)</th>\n",
              "      <th>RP4-669L17.2 (ENSG00000236601)</th>\n",
              "      <th>RP4-669L17.10 (ENSG00000237094)</th>\n",
              "      <th>OR4F29 (ENSG00000278566)</th>\n",
              "      <th>RP5-857K21.4 (ENSG00000230021)</th>\n",
              "      <th>RP5-857K21.2 (ENSG00000235146)</th>\n",
              "      <th>OR4F16 (ENSG00000273547)</th>\n",
              "      <th>RP11-206L10.4 (ENSG00000229905)</th>\n",
              "      <th>RP11-206L10.9 (ENSG00000237491)</th>\n",
              "      <th>FAM87B (ENSG00000177757)</th>\n",
              "      <th>LINC00115 (ENSG00000225880)</th>\n",
              "      <th>FAM41C (ENSG00000230368)</th>\n",
              "      <th>RP11-54O7.16 (ENSG00000272438)</th>\n",
              "      <th>RP11-54O7.1 (ENSG00000230699)</th>\n",
              "      <th>RP11-54O7.2 (ENSG00000241180)</th>\n",
              "      <th>RP11-54O7.3 (ENSG00000223764)</th>\n",
              "      <th>SAMD11 (ENSG00000187634)</th>\n",
              "      <th>NOC2L (ENSG00000188976)</th>\n",
              "      <th>KLHL17 (ENSG00000187961)</th>\n",
              "      <th>PLEKHN1 (ENSG00000187583)</th>\n",
              "      <th>PERM1 (ENSG00000187642)</th>\n",
              "      <th>RP11-54O7.17 (ENSG00000272512)</th>\n",
              "      <th>HES4 (ENSG00000188290)</th>\n",
              "      <th>ISG15 (ENSG00000187608)</th>\n",
              "      <th>RP11-54O7.11 (ENSG00000224969)</th>\n",
              "      <th>AGRN (ENSG00000188157)</th>\n",
              "      <th>RP11-54O7.18 (ENSG00000273443)</th>\n",
              "      <th>RNF223 (ENSG00000237330)</th>\n",
              "      <th>C1orf159 (ENSG00000131591)</th>\n",
              "      <th>LINC01342 (ENSG00000223823)</th>\n",
              "      <th>...</th>\n",
              "      <th>MT-CO1 (ENSG00000198804)</th>\n",
              "      <th>MT-CO2 (ENSG00000198712)</th>\n",
              "      <th>MT-ATP8 (ENSG00000228253)</th>\n",
              "      <th>MT-ATP6 (ENSG00000198899)</th>\n",
              "      <th>MT-CO3 (ENSG00000198938)</th>\n",
              "      <th>MT-ND3 (ENSG00000198840)</th>\n",
              "      <th>MT-ND4L (ENSG00000212907)</th>\n",
              "      <th>MT-ND4 (ENSG00000198886)</th>\n",
              "      <th>MT-ND5 (ENSG00000198786)</th>\n",
              "      <th>MT-ND6 (ENSG00000198695)</th>\n",
              "      <th>MT-CYB (ENSG00000198727)</th>\n",
              "      <th>AC133551.1 (ENSG00000274175)</th>\n",
              "      <th>AC136612.1 (ENSG00000275869)</th>\n",
              "      <th>AC136616.1 (ENSG00000273554)</th>\n",
              "      <th>AC136616.3 (ENSG00000278782)</th>\n",
              "      <th>AC136616.2 (ENSG00000277761)</th>\n",
              "      <th>AC141272.1 (ENSG00000277836)</th>\n",
              "      <th>AC136352.5 (ENSG00000277666)</th>\n",
              "      <th>AC136352.4 (ENSG00000276760)</th>\n",
              "      <th>AC171558.2 (ENSG00000275249)</th>\n",
              "      <th>AC171558.1 (ENSG00000274792)</th>\n",
              "      <th>BX004987.4 (ENSG00000278704)</th>\n",
              "      <th>AC145212.4 (ENSG00000277400)</th>\n",
              "      <th>AC145212.2 (ENSG00000274847)</th>\n",
              "      <th>AC011841.1 (ENSG00000273496)</th>\n",
              "      <th>AC011043.1 (ENSG00000276256)</th>\n",
              "      <th>AC011043.2 (ENSG00000278198)</th>\n",
              "      <th>AL592183.1 (ENSG00000273748)</th>\n",
              "      <th>AC007325.1 (ENSG00000276017)</th>\n",
              "      <th>AC007325.4 (ENSG00000278817)</th>\n",
              "      <th>AC007325.2 (ENSG00000277196)</th>\n",
              "      <th>BX072566.1 (ENSG00000277630)</th>\n",
              "      <th>AL354822.1 (ENSG00000278384)</th>\n",
              "      <th>AC023491.2 (ENSG00000278633)</th>\n",
              "      <th>AC004556.1 (ENSG00000276345)</th>\n",
              "      <th>AC233755.2 (ENSG00000277856)</th>\n",
              "      <th>AC233755.1 (ENSG00000275063)</th>\n",
              "      <th>AC240274.1 (ENSG00000271254)</th>\n",
              "      <th>AC213203.1 (ENSG00000277475)</th>\n",
              "      <th>FAM231B (ENSG00000268674)</th>\n",
              "    </tr>\n",
              "    <tr>\n",
              "      <th>0</th>\n",
              "      <th></th>\n",
              "      <th></th>\n",
              "      <th></th>\n",
              "      <th></th>\n",
              "      <th></th>\n",
              "      <th></th>\n",
              "      <th></th>\n",
              "      <th></th>\n",
              "      <th></th>\n",
              "      <th></th>\n",
              "      <th></th>\n",
              "      <th></th>\n",
              "      <th></th>\n",
              "      <th></th>\n",
              "      <th></th>\n",
              "      <th></th>\n",
              "      <th></th>\n",
              "      <th></th>\n",
              "      <th></th>\n",
              "      <th></th>\n",
              "      <th></th>\n",
              "      <th></th>\n",
              "      <th></th>\n",
              "      <th></th>\n",
              "      <th></th>\n",
              "      <th></th>\n",
              "      <th></th>\n",
              "      <th></th>\n",
              "      <th></th>\n",
              "      <th></th>\n",
              "      <th></th>\n",
              "      <th></th>\n",
              "      <th></th>\n",
              "      <th></th>\n",
              "      <th></th>\n",
              "      <th></th>\n",
              "      <th></th>\n",
              "      <th></th>\n",
              "      <th></th>\n",
              "      <th></th>\n",
              "      <th></th>\n",
              "      <th></th>\n",
              "      <th></th>\n",
              "      <th></th>\n",
              "      <th></th>\n",
              "      <th></th>\n",
              "      <th></th>\n",
              "      <th></th>\n",
              "      <th></th>\n",
              "      <th></th>\n",
              "      <th></th>\n",
              "      <th></th>\n",
              "      <th></th>\n",
              "      <th></th>\n",
              "      <th></th>\n",
              "      <th></th>\n",
              "      <th></th>\n",
              "      <th></th>\n",
              "      <th></th>\n",
              "      <th></th>\n",
              "      <th></th>\n",
              "      <th></th>\n",
              "      <th></th>\n",
              "      <th></th>\n",
              "      <th></th>\n",
              "      <th></th>\n",
              "      <th></th>\n",
              "      <th></th>\n",
              "      <th></th>\n",
              "      <th></th>\n",
              "      <th></th>\n",
              "      <th></th>\n",
              "      <th></th>\n",
              "      <th></th>\n",
              "      <th></th>\n",
              "      <th></th>\n",
              "      <th></th>\n",
              "      <th></th>\n",
              "      <th></th>\n",
              "      <th></th>\n",
              "      <th></th>\n",
              "    </tr>\n",
              "  </thead>\n",
              "  <tbody>\n",
              "    <tr>\n",
              "      <th>AAACATACACCCAA-1</th>\n",
              "      <td>0</td>\n",
              "      <td>0</td>\n",
              "      <td>0</td>\n",
              "      <td>0</td>\n",
              "      <td>0</td>\n",
              "      <td>0</td>\n",
              "      <td>0</td>\n",
              "      <td>0</td>\n",
              "      <td>0</td>\n",
              "      <td>0</td>\n",
              "      <td>0</td>\n",
              "      <td>0</td>\n",
              "      <td>0</td>\n",
              "      <td>0</td>\n",
              "      <td>0</td>\n",
              "      <td>0</td>\n",
              "      <td>0</td>\n",
              "      <td>0</td>\n",
              "      <td>0</td>\n",
              "      <td>0</td>\n",
              "      <td>0</td>\n",
              "      <td>0</td>\n",
              "      <td>0</td>\n",
              "      <td>0</td>\n",
              "      <td>0</td>\n",
              "      <td>0</td>\n",
              "      <td>0</td>\n",
              "      <td>0</td>\n",
              "      <td>0</td>\n",
              "      <td>0</td>\n",
              "      <td>0</td>\n",
              "      <td>0</td>\n",
              "      <td>0</td>\n",
              "      <td>0</td>\n",
              "      <td>0</td>\n",
              "      <td>0</td>\n",
              "      <td>0</td>\n",
              "      <td>0</td>\n",
              "      <td>0</td>\n",
              "      <td>0</td>\n",
              "      <td>...</td>\n",
              "      <td>6</td>\n",
              "      <td>1</td>\n",
              "      <td>0</td>\n",
              "      <td>3</td>\n",
              "      <td>3</td>\n",
              "      <td>0</td>\n",
              "      <td>1</td>\n",
              "      <td>5</td>\n",
              "      <td>0</td>\n",
              "      <td>1</td>\n",
              "      <td>1</td>\n",
              "      <td>0</td>\n",
              "      <td>0</td>\n",
              "      <td>0</td>\n",
              "      <td>0</td>\n",
              "      <td>0</td>\n",
              "      <td>0</td>\n",
              "      <td>0</td>\n",
              "      <td>0</td>\n",
              "      <td>0</td>\n",
              "      <td>0</td>\n",
              "      <td>0</td>\n",
              "      <td>0</td>\n",
              "      <td>0</td>\n",
              "      <td>0</td>\n",
              "      <td>0</td>\n",
              "      <td>0</td>\n",
              "      <td>0</td>\n",
              "      <td>0</td>\n",
              "      <td>0</td>\n",
              "      <td>0</td>\n",
              "      <td>0</td>\n",
              "      <td>0</td>\n",
              "      <td>0</td>\n",
              "      <td>0</td>\n",
              "      <td>0</td>\n",
              "      <td>0</td>\n",
              "      <td>0</td>\n",
              "      <td>0</td>\n",
              "      <td>0</td>\n",
              "    </tr>\n",
              "    <tr>\n",
              "      <th>AAACATACCGAGTT-1</th>\n",
              "      <td>0</td>\n",
              "      <td>0</td>\n",
              "      <td>0</td>\n",
              "      <td>0</td>\n",
              "      <td>0</td>\n",
              "      <td>0</td>\n",
              "      <td>0</td>\n",
              "      <td>0</td>\n",
              "      <td>1</td>\n",
              "      <td>1</td>\n",
              "      <td>0</td>\n",
              "      <td>0</td>\n",
              "      <td>0</td>\n",
              "      <td>0</td>\n",
              "      <td>0</td>\n",
              "      <td>0</td>\n",
              "      <td>0</td>\n",
              "      <td>0</td>\n",
              "      <td>0</td>\n",
              "      <td>0</td>\n",
              "      <td>0</td>\n",
              "      <td>0</td>\n",
              "      <td>0</td>\n",
              "      <td>0</td>\n",
              "      <td>0</td>\n",
              "      <td>0</td>\n",
              "      <td>0</td>\n",
              "      <td>0</td>\n",
              "      <td>0</td>\n",
              "      <td>0</td>\n",
              "      <td>0</td>\n",
              "      <td>0</td>\n",
              "      <td>0</td>\n",
              "      <td>0</td>\n",
              "      <td>0</td>\n",
              "      <td>0</td>\n",
              "      <td>0</td>\n",
              "      <td>0</td>\n",
              "      <td>0</td>\n",
              "      <td>0</td>\n",
              "      <td>...</td>\n",
              "      <td>14</td>\n",
              "      <td>1</td>\n",
              "      <td>0</td>\n",
              "      <td>4</td>\n",
              "      <td>4</td>\n",
              "      <td>0</td>\n",
              "      <td>0</td>\n",
              "      <td>4</td>\n",
              "      <td>0</td>\n",
              "      <td>1</td>\n",
              "      <td>4</td>\n",
              "      <td>0</td>\n",
              "      <td>0</td>\n",
              "      <td>0</td>\n",
              "      <td>0</td>\n",
              "      <td>0</td>\n",
              "      <td>0</td>\n",
              "      <td>0</td>\n",
              "      <td>0</td>\n",
              "      <td>0</td>\n",
              "      <td>0</td>\n",
              "      <td>0</td>\n",
              "      <td>0</td>\n",
              "      <td>0</td>\n",
              "      <td>0</td>\n",
              "      <td>0</td>\n",
              "      <td>0</td>\n",
              "      <td>0</td>\n",
              "      <td>0</td>\n",
              "      <td>0</td>\n",
              "      <td>0</td>\n",
              "      <td>0</td>\n",
              "      <td>0</td>\n",
              "      <td>0</td>\n",
              "      <td>0</td>\n",
              "      <td>0</td>\n",
              "      <td>0</td>\n",
              "      <td>0</td>\n",
              "      <td>0</td>\n",
              "      <td>0</td>\n",
              "    </tr>\n",
              "    <tr>\n",
              "      <th>AAACATACGTAGCT-1</th>\n",
              "      <td>0</td>\n",
              "      <td>0</td>\n",
              "      <td>0</td>\n",
              "      <td>0</td>\n",
              "      <td>0</td>\n",
              "      <td>0</td>\n",
              "      <td>0</td>\n",
              "      <td>0</td>\n",
              "      <td>0</td>\n",
              "      <td>0</td>\n",
              "      <td>0</td>\n",
              "      <td>0</td>\n",
              "      <td>0</td>\n",
              "      <td>0</td>\n",
              "      <td>0</td>\n",
              "      <td>0</td>\n",
              "      <td>0</td>\n",
              "      <td>0</td>\n",
              "      <td>0</td>\n",
              "      <td>0</td>\n",
              "      <td>0</td>\n",
              "      <td>0</td>\n",
              "      <td>0</td>\n",
              "      <td>0</td>\n",
              "      <td>0</td>\n",
              "      <td>0</td>\n",
              "      <td>0</td>\n",
              "      <td>0</td>\n",
              "      <td>0</td>\n",
              "      <td>0</td>\n",
              "      <td>0</td>\n",
              "      <td>0</td>\n",
              "      <td>0</td>\n",
              "      <td>0</td>\n",
              "      <td>0</td>\n",
              "      <td>0</td>\n",
              "      <td>0</td>\n",
              "      <td>0</td>\n",
              "      <td>0</td>\n",
              "      <td>0</td>\n",
              "      <td>...</td>\n",
              "      <td>77</td>\n",
              "      <td>20</td>\n",
              "      <td>0</td>\n",
              "      <td>6</td>\n",
              "      <td>17</td>\n",
              "      <td>1</td>\n",
              "      <td>0</td>\n",
              "      <td>21</td>\n",
              "      <td>5</td>\n",
              "      <td>1</td>\n",
              "      <td>16</td>\n",
              "      <td>0</td>\n",
              "      <td>0</td>\n",
              "      <td>0</td>\n",
              "      <td>0</td>\n",
              "      <td>0</td>\n",
              "      <td>0</td>\n",
              "      <td>0</td>\n",
              "      <td>0</td>\n",
              "      <td>0</td>\n",
              "      <td>0</td>\n",
              "      <td>0</td>\n",
              "      <td>0</td>\n",
              "      <td>0</td>\n",
              "      <td>0</td>\n",
              "      <td>0</td>\n",
              "      <td>0</td>\n",
              "      <td>0</td>\n",
              "      <td>0</td>\n",
              "      <td>0</td>\n",
              "      <td>0</td>\n",
              "      <td>0</td>\n",
              "      <td>0</td>\n",
              "      <td>0</td>\n",
              "      <td>0</td>\n",
              "      <td>0</td>\n",
              "      <td>0</td>\n",
              "      <td>0</td>\n",
              "      <td>0</td>\n",
              "      <td>0</td>\n",
              "    </tr>\n",
              "    <tr>\n",
              "      <th>AAACATACGTCCTC-1</th>\n",
              "      <td>0</td>\n",
              "      <td>0</td>\n",
              "      <td>0</td>\n",
              "      <td>0</td>\n",
              "      <td>0</td>\n",
              "      <td>0</td>\n",
              "      <td>0</td>\n",
              "      <td>0</td>\n",
              "      <td>0</td>\n",
              "      <td>0</td>\n",
              "      <td>0</td>\n",
              "      <td>0</td>\n",
              "      <td>0</td>\n",
              "      <td>0</td>\n",
              "      <td>0</td>\n",
              "      <td>0</td>\n",
              "      <td>0</td>\n",
              "      <td>0</td>\n",
              "      <td>0</td>\n",
              "      <td>0</td>\n",
              "      <td>0</td>\n",
              "      <td>0</td>\n",
              "      <td>0</td>\n",
              "      <td>0</td>\n",
              "      <td>0</td>\n",
              "      <td>0</td>\n",
              "      <td>0</td>\n",
              "      <td>0</td>\n",
              "      <td>0</td>\n",
              "      <td>0</td>\n",
              "      <td>0</td>\n",
              "      <td>0</td>\n",
              "      <td>0</td>\n",
              "      <td>0</td>\n",
              "      <td>0</td>\n",
              "      <td>0</td>\n",
              "      <td>0</td>\n",
              "      <td>0</td>\n",
              "      <td>0</td>\n",
              "      <td>0</td>\n",
              "      <td>...</td>\n",
              "      <td>7</td>\n",
              "      <td>6</td>\n",
              "      <td>0</td>\n",
              "      <td>2</td>\n",
              "      <td>2</td>\n",
              "      <td>0</td>\n",
              "      <td>0</td>\n",
              "      <td>1</td>\n",
              "      <td>0</td>\n",
              "      <td>0</td>\n",
              "      <td>4</td>\n",
              "      <td>0</td>\n",
              "      <td>0</td>\n",
              "      <td>0</td>\n",
              "      <td>0</td>\n",
              "      <td>0</td>\n",
              "      <td>0</td>\n",
              "      <td>0</td>\n",
              "      <td>0</td>\n",
              "      <td>0</td>\n",
              "      <td>0</td>\n",
              "      <td>0</td>\n",
              "      <td>0</td>\n",
              "      <td>0</td>\n",
              "      <td>0</td>\n",
              "      <td>0</td>\n",
              "      <td>0</td>\n",
              "      <td>0</td>\n",
              "      <td>0</td>\n",
              "      <td>0</td>\n",
              "      <td>0</td>\n",
              "      <td>0</td>\n",
              "      <td>0</td>\n",
              "      <td>0</td>\n",
              "      <td>0</td>\n",
              "      <td>0</td>\n",
              "      <td>0</td>\n",
              "      <td>1</td>\n",
              "      <td>0</td>\n",
              "      <td>0</td>\n",
              "    </tr>\n",
              "    <tr>\n",
              "      <th>AAACATACTGGAAA-1</th>\n",
              "      <td>0</td>\n",
              "      <td>0</td>\n",
              "      <td>0</td>\n",
              "      <td>0</td>\n",
              "      <td>0</td>\n",
              "      <td>0</td>\n",
              "      <td>0</td>\n",
              "      <td>0</td>\n",
              "      <td>0</td>\n",
              "      <td>0</td>\n",
              "      <td>0</td>\n",
              "      <td>0</td>\n",
              "      <td>0</td>\n",
              "      <td>0</td>\n",
              "      <td>0</td>\n",
              "      <td>0</td>\n",
              "      <td>0</td>\n",
              "      <td>0</td>\n",
              "      <td>0</td>\n",
              "      <td>0</td>\n",
              "      <td>0</td>\n",
              "      <td>0</td>\n",
              "      <td>0</td>\n",
              "      <td>0</td>\n",
              "      <td>0</td>\n",
              "      <td>0</td>\n",
              "      <td>0</td>\n",
              "      <td>0</td>\n",
              "      <td>0</td>\n",
              "      <td>0</td>\n",
              "      <td>0</td>\n",
              "      <td>0</td>\n",
              "      <td>0</td>\n",
              "      <td>0</td>\n",
              "      <td>0</td>\n",
              "      <td>0</td>\n",
              "      <td>0</td>\n",
              "      <td>0</td>\n",
              "      <td>0</td>\n",
              "      <td>0</td>\n",
              "      <td>...</td>\n",
              "      <td>3</td>\n",
              "      <td>3</td>\n",
              "      <td>0</td>\n",
              "      <td>1</td>\n",
              "      <td>2</td>\n",
              "      <td>0</td>\n",
              "      <td>0</td>\n",
              "      <td>1</td>\n",
              "      <td>0</td>\n",
              "      <td>0</td>\n",
              "      <td>1</td>\n",
              "      <td>0</td>\n",
              "      <td>0</td>\n",
              "      <td>0</td>\n",
              "      <td>0</td>\n",
              "      <td>0</td>\n",
              "      <td>0</td>\n",
              "      <td>0</td>\n",
              "      <td>0</td>\n",
              "      <td>0</td>\n",
              "      <td>0</td>\n",
              "      <td>0</td>\n",
              "      <td>0</td>\n",
              "      <td>0</td>\n",
              "      <td>0</td>\n",
              "      <td>0</td>\n",
              "      <td>0</td>\n",
              "      <td>0</td>\n",
              "      <td>0</td>\n",
              "      <td>0</td>\n",
              "      <td>0</td>\n",
              "      <td>0</td>\n",
              "      <td>0</td>\n",
              "      <td>0</td>\n",
              "      <td>0</td>\n",
              "      <td>0</td>\n",
              "      <td>0</td>\n",
              "      <td>0</td>\n",
              "      <td>0</td>\n",
              "      <td>0</td>\n",
              "    </tr>\n",
              "  </tbody>\n",
              "</table>\n",
              "<p>5 rows × 33694 columns</p>\n",
              "</div>"
            ],
            "text/plain": [
              "                  RP11-34P13.3 (ENSG00000243485)  ...  FAM231B (ENSG00000268674)\n",
              "0                                                 ...                           \n",
              "AAACATACACCCAA-1                               0  ...                          0\n",
              "AAACATACCGAGTT-1                               0  ...                          0\n",
              "AAACATACGTAGCT-1                               0  ...                          0\n",
              "AAACATACGTCCTC-1                               0  ...                          0\n",
              "AAACATACTGGAAA-1                               0  ...                          0\n",
              "\n",
              "[5 rows x 33694 columns]"
            ]
          },
          "metadata": {
            "tags": []
          },
          "execution_count": 29
        }
      ]
    },
    {
      "cell_type": "markdown",
      "metadata": {
        "colab_type": "text",
        "id": "77XS07XVacXH"
      },
      "source": [
        "### 2.3. Library size filtering\n",
        "\n",
        "#### Why we filter cells by library size\n",
        "In scRNA-seq the library size of a cell is the number of unique mRNA molecules detected in that cell. These unique molecules are identified using a random barcode incorporated during the first round of reverse transcription. This barcode is called a <b>U</b>nique <b>M</b>olecule <b>I</b>dentifier, and often we refer to the number unique mRNAs in a cell as the number of UMIs. To read more about UMIs, [Smith *et al.* (2017)](https://www.ncbi.nlm.nih.gov/pmc/articles/PMC5340976/) write about how sequencing errors and PCR amplification errors lead to innaccurate quantification of UMIs/cell.\n",
        "\n",
        "Depending on the method of scRNA-seq, the amount of library size filtering done can vary. The 10X Genomics CellRanger tool, the DropSeq and InDrops pipelines, and the Umitools package each have their own method and cutoff for determining real cells from empty droplets. Additional methods exist for trying to detect the difference between droplets containing one cell and droplets containing two cells (\"doublets\"). You can take these methods at face value or set some manual cutoffs based on your data.\n",
        "\n",
        "#### Visualing the library size distribution using `scprep`\n",
        "\n",
        "There is a helper function for plotting library size from a gene expression matrix in scprep called [`scprep.plot.plot_library_size()`](https://scprep.readthedocs.io/en/stable/reference.html#scprep.plot.plot_library_size).\n",
        "\n",
        "Let's have a look at the library size for the first time point. In this sample we see that there is a small number of cells with very small library sizes and a long tail of cells that have very high library sizes."
      ]
    },
    {
      "cell_type": "code",
      "metadata": {
        "colab_type": "code",
        "id": "lg6jXB-IacXI",
        "scrolled": true,
        "colab": {
          "base_uri": "https://localhost:8080/",
          "height": 314
        },
        "outputId": "d8c29b17-5879-44e8-d540-ecbb3b78ae1c"
      },
      "source": [
        "scprep.plot.plot_library_size(data_time1,\n",
        "                              log=False, title='Library Size Before Filtering')"
      ],
      "execution_count": 30,
      "outputs": [
        {
          "output_type": "execute_result",
          "data": {
            "text/plain": [
              "<matplotlib.axes._subplots.AxesSubplot at 0x7f31c1354470>"
            ]
          },
          "metadata": {
            "tags": []
          },
          "execution_count": 30
        },
        {
          "output_type": "display_data",
          "data": {
            "image/png": "[encoded data removed]",
            "text/plain": [
              "<Figure size 432x288 with 1 Axes>"
            ]
          },
          "metadata": {
            "tags": [],
            "needs_background": "light"
          }
        }
      ]
    },
    {
      "cell_type": "markdown",
      "metadata": {
        "id": "2PAqz7g2VjUg",
        "colab_type": "text"
      },
      "source": [
        "Choose cutoffs above and below the main bulk of cells, removing cells that are both significantly smaller than average and significantly larger than average. You can plot the result by running `scprep.plot.plot_library_size` with `cutoff=(low, high)` or `percentile=(low, high)` where low and high are values or percentiles that you choose."
      ]
    },
    {
      "cell_type": "code",
      "metadata": {
        "id": "j3tL9pOjVjUh",
        "colab_type": "code",
        "colab": {
          "base_uri": "https://localhost:8080/",
          "height": 1000
        },
        "outputId": "d3f471e9-4804-4109-fb4b-2ff113ac65d9"
      },
      "source": [
        "# =============\n",
        "# Select appropriate percentiles (percentile=(low, high))\n",
        "# for filtering and plot the result\n",
        "scprep.plot.plot_library_size(data_time2,\n",
        "                              log=False, title='Library Size Before Filtering')\n",
        "# for the 3rd data\n",
        "scprep.plot.plot_library_size(data_time3,\n",
        "                              log=False, title='Library Size Before Filtering')\n",
        "# for the 4th data\n",
        "scprep.plot.plot_library_size(data_time4,\n",
        "                              log=False, title='Library Size Before Filtering')\n",
        "# for the 5th data\n",
        "scprep.plot.plot_library_size(data_time5,\n",
        "                              log=False, title='Library Size Before Filtering')\n",
        "\n",
        "# ============="
      ],
      "execution_count": 31,
      "outputs": [
        {
          "output_type": "execute_result",
          "data": {
            "text/plain": [
              "<matplotlib.axes._subplots.AxesSubplot at 0x7f31ab8d6748>"
            ]
          },
          "metadata": {
            "tags": []
          },
          "execution_count": 31
        },
        {
          "output_type": "display_data",
          "data": {
            "image/png": "[encoded data removed]",
            "text/plain": [
              "<Figure size 432x288 with 1 Axes>"
            ]
          },
          "metadata": {
            "tags": [],
            "needs_background": "light"
          }
        },
        {
          "output_type": "display_data",
          "data": {
            "image/png": "[encoded data removed]",
            "text/plain": [
              "<Figure size 432x288 with 1 Axes>"
            ]
          },
          "metadata": {
            "tags": [],
            "needs_background": "light"
          }
        },
        {
          "output_type": "display_data",
          "data": {
            "image/png": "[encoded data removed]",
            "text/plain": [
              "<Figure size 432x288 with 1 Axes>"
            ]
          },
          "metadata": {
            "tags": [],
            "needs_background": "light"
          }
        },
        {
          "output_type": "display_data",
          "data": {
            "image/png": "[encoded data removed]",
            "text/plain": [
              "<Figure size 432x288 with 1 Axes>"
            ]
          },
          "metadata": {
            "tags": [],
            "needs_background": "light"
          }
        }
      ]
    },
    {
      "cell_type": "markdown",
      "metadata": {
        "colab_type": "text",
        "id": "YG4_xhXt7RQb"
      },
      "source": [
        "#### Selecting a cutoff\n",
        "\n",
        "Several papers describe strategies for picking a maximum and minimum threshold that can be found with a quick Google search for \"library size threshold single cell RNA seq\".\n",
        "\n",
        "Most of these pick an arbitrary measure such as a certain number of deviations below or above the mean or median library size. We find that spending too much time worrying about the exact threshold is inefficient, as results tend to be robust to filtering beyond some minimum threshold.\n",
        "\n",
        "For the above dataset, we recommend removing all cells with more than 12,000 UMI / cell in fear they might represent doublets of cells. We generally also remove all cells with fewer than 1000 UMIs per cell.\n",
        "\n",
        "### Exercise 1 - Filtering cells by library size\n",
        "\n",
        "You can do this using [`scprep.filter.filter_library_size()`](https://scprep.readthedocs.io/en/stable/reference.html#scprep.filter.filter_library_size)."
      ]
    },
    {
      "cell_type": "code",
      "metadata": {
        "colab_type": "code",
        "id": "o_ucsSK9acXO",
        "colab": {}
      },
      "source": [
        "filtered_batches = []\n",
        "for batch in [data_time1, data_time2, data_time3, data_time4, data_time5]:\n",
        "    # ==================\n",
        "    # fill in your chosen `percentile` values\n",
        "    #percentiles = 95\n",
        "    cut_off = (1000,12000)\n",
        "    #batch = scprep.filter.filter_library_size(batch, percentile=percentiles)\n",
        "    batch = scprep.filter.filter_library_size(batch, cutoff =cut_off)\n",
        "    # ==================\n",
        "    filtered_batches.append(batch)\n",
        "del data_time1, data_time2, data_time3, data_time4, data_time5 # removes objects from memory"
      ],
      "execution_count": 0,
      "outputs": []
    },
    {
      "cell_type": "markdown",
      "metadata": {
        "id": "m6fThsKJVjUr",
        "colab_type": "text"
      },
      "source": [
        "**Note:** If you are going to use `percentile` filter, you need to do the filtering individually for each sample.  If you are going to do filtering using hard numbers like _remove all cells with more than 12000 UMI/cell,_ you can do it for all the data together."
      ]
    },
    {
      "cell_type": "code",
      "metadata": {
        "colab_type": "code",
        "id": "w9GKIljH4S05",
        "colab": {
          "base_uri": "https://localhost:8080/",
          "height": 314
        },
        "outputId": "952fada8-1b24-4592-9710-f2c971697950"
      },
      "source": [
        "scprep.plot.plot_library_size(filtered_batches[0], log=False, range=(0,30000),\n",
        "                              title='Library size after filtering')"
      ],
      "execution_count": 26,
      "outputs": [
        {
          "output_type": "execute_result",
          "data": {
            "text/plain": [
              "<matplotlib.axes._subplots.AxesSubplot at 0x7f31bf804ba8>"
            ]
          },
          "metadata": {
            "tags": []
          },
          "execution_count": 26
        },
        {
          "output_type": "display_data",
          "data": {
            "image/png": "[encoded data removed]",
            "text/plain": [
              "<Figure size 432x288 with 1 Axes>"
            ]
          },
          "metadata": {
            "tags": [],
            "needs_background": "light"
          }
        }
      ]
    },
    {
      "cell_type": "markdown",
      "metadata": {
        "id": "WC-mbkvGVjUz",
        "colab_type": "text"
      },
      "source": [
        "The library size distribution is now much more constrained, which will reduce the effects of differences in library size (which can affect your results, even after normalization)."
      ]
    },
    {
      "cell_type": "markdown",
      "metadata": {
        "colab_type": "text",
        "id": "JQoJnFVxacXW"
      },
      "source": [
        "### 2.4. Merge all datasets and create a vector representing the time point of each sample\n",
        "\n",
        "Now that we have filtered the datasets by library size, we can combine them into a single matrix. You can do this with [`scprep.utils.combine_batches()`](https://scprep.readthedocs.io/en/stable/reference.html#scprep.utils.combine_batches)."
      ]
    },
    {
      "cell_type": "code",
      "metadata": {
        "colab_type": "code",
        "id": "FJdO1NcKacXX",
        "colab": {
          "base_uri": "https://localhost:8080/",
          "height": 34
        },
        "outputId": "3a28b80c-1592-4df1-afd0-a0dafe5adc18"
      },
      "source": [
        "data, sample_labels = scprep.utils.combine_batches(\n",
        "    filtered_batches, \n",
        "    [\"Day 00-03\", \"Day 06-09\", \"Day 12-15\", \"Day 18-21\", \"Day 24-27\"]\n",
        ")\n",
        "del filtered_batches # removes objects from memory\n",
        "data.shape"
      ],
      "execution_count": 33,
      "outputs": [
        {
          "output_type": "execute_result",
          "data": {
            "text/plain": [
              "(30568, 33694)"
            ]
          },
          "metadata": {
            "tags": []
          },
          "execution_count": 33
        }
      ]
    },
    {
      "cell_type": "markdown",
      "metadata": {
        "id": "_h_kRQiTVjU5",
        "colab_type": "text"
      },
      "source": [
        "After combining batches, we have ~25,000 cells and 33,700 genes. Let's have a quick look at the combined matrix."
      ]
    },
    {
      "cell_type": "code",
      "metadata": {
        "colab_type": "code",
        "id": "Edy9MYNyVjU6",
        "colab": {
          "base_uri": "https://localhost:8080/",
          "height": 355
        },
        "outputId": "6a5172e9-aa2f-4b9a-bb94-c8ce5c72af39"
      },
      "source": [
        "data.head()"
      ],
      "execution_count": 35,
      "outputs": [
        {
          "output_type": "execute_result",
          "data": {
            "text/html": [
              "<div>\n",
              "<style scoped>\n",
              "    .dataframe tbody tr th:only-of-type {\n",
              "        vertical-align: middle;\n",
              "    }\n",
              "\n",
              "    .dataframe tbody tr th {\n",
              "        vertical-align: top;\n",
              "    }\n",
              "\n",
              "    .dataframe thead th {\n",
              "        text-align: right;\n",
              "    }\n",
              "</style>\n",
              "<table border=\"1\" class=\"dataframe\">\n",
              "  <thead>\n",
              "    <tr style=\"text-align: right;\">\n",
              "      <th></th>\n",
              "      <th>A1BG (ENSG00000121410)</th>\n",
              "      <th>A1BG-AS1 (ENSG00000268895)</th>\n",
              "      <th>A1CF (ENSG00000148584)</th>\n",
              "      <th>A2M (ENSG00000175899)</th>\n",
              "      <th>A2M-AS1 (ENSG00000245105)</th>\n",
              "      <th>A2ML1 (ENSG00000166535)</th>\n",
              "      <th>A2ML1-AS1 (ENSG00000256661)</th>\n",
              "      <th>A2ML1-AS2 (ENSG00000256904)</th>\n",
              "      <th>A3GALT2 (ENSG00000184389)</th>\n",
              "      <th>A4GALT (ENSG00000128274)</th>\n",
              "      <th>A4GNT (ENSG00000118017)</th>\n",
              "      <th>AAAS (ENSG00000094914)</th>\n",
              "      <th>AACS (ENSG00000081760)</th>\n",
              "      <th>AADAC (ENSG00000114771)</th>\n",
              "      <th>AADACL2 (ENSG00000197953)</th>\n",
              "      <th>AADACL2-AS1 (ENSG00000242908)</th>\n",
              "      <th>AADACL3 (ENSG00000188984)</th>\n",
              "      <th>AADACL4 (ENSG00000204518)</th>\n",
              "      <th>AADAT (ENSG00000109576)</th>\n",
              "      <th>AAED1 (ENSG00000158122)</th>\n",
              "      <th>AAGAB (ENSG00000103591)</th>\n",
              "      <th>AAK1 (ENSG00000115977)</th>\n",
              "      <th>AAMDC (ENSG00000087884)</th>\n",
              "      <th>AAMP (ENSG00000127837)</th>\n",
              "      <th>AANAT (ENSG00000129673)</th>\n",
              "      <th>AAR2 (ENSG00000131043)</th>\n",
              "      <th>AARD (ENSG00000205002)</th>\n",
              "      <th>AARS (ENSG00000090861)</th>\n",
              "      <th>AARS2 (ENSG00000124608)</th>\n",
              "      <th>AARSD1 (ENSG00000266967)</th>\n",
              "      <th>AASDH (ENSG00000157426)</th>\n",
              "      <th>AASDHPPT (ENSG00000149313)</th>\n",
              "      <th>AASS (ENSG00000008311)</th>\n",
              "      <th>AATBC (ENSG00000215458)</th>\n",
              "      <th>AATF (ENSG00000275700)</th>\n",
              "      <th>AATK (ENSG00000181409)</th>\n",
              "      <th>AATK-AS1 (ENSG00000225180)</th>\n",
              "      <th>AB015752.3 (ENSG00000254180)</th>\n",
              "      <th>AB019440.50 (ENSG00000271201)</th>\n",
              "      <th>ABALON (ENSG00000281376)</th>\n",
              "      <th>...</th>\n",
              "      <th>ZSCAN20 (ENSG00000121903)</th>\n",
              "      <th>ZSCAN21 (ENSG00000166529)</th>\n",
              "      <th>ZSCAN22 (ENSG00000182318)</th>\n",
              "      <th>ZSCAN23 (ENSG00000187987)</th>\n",
              "      <th>ZSCAN25 (ENSG00000197037)</th>\n",
              "      <th>ZSCAN26 (ENSG00000197062)</th>\n",
              "      <th>ZSCAN29 (ENSG00000140265)</th>\n",
              "      <th>ZSCAN30 (ENSG00000186814)</th>\n",
              "      <th>ZSCAN31 (ENSG00000235109)</th>\n",
              "      <th>ZSCAN32 (ENSG00000140987)</th>\n",
              "      <th>ZSCAN4 (ENSG00000180532)</th>\n",
              "      <th>ZSCAN5A (ENSG00000131848)</th>\n",
              "      <th>ZSCAN5B (ENSG00000197213)</th>\n",
              "      <th>ZSCAN5CP (ENSG00000204532)</th>\n",
              "      <th>ZSCAN9 (ENSG00000137185)</th>\n",
              "      <th>ZSWIM1 (ENSG00000168612)</th>\n",
              "      <th>ZSWIM2 (ENSG00000163012)</th>\n",
              "      <th>ZSWIM3 (ENSG00000132801)</th>\n",
              "      <th>ZSWIM4 (ENSG00000132003)</th>\n",
              "      <th>ZSWIM5 (ENSG00000162415)</th>\n",
              "      <th>ZSWIM6 (ENSG00000130449)</th>\n",
              "      <th>ZSWIM7 (ENSG00000214941)</th>\n",
              "      <th>ZSWIM8 (ENSG00000214655)</th>\n",
              "      <th>ZSWIM8-AS1 (ENSG00000272589)</th>\n",
              "      <th>ZUFSP (ENSG00000153975)</th>\n",
              "      <th>ZW10 (ENSG00000086827)</th>\n",
              "      <th>ZWILCH (ENSG00000174442)</th>\n",
              "      <th>ZWINT (ENSG00000122952)</th>\n",
              "      <th>ZXDA (ENSG00000198205)</th>\n",
              "      <th>ZXDB (ENSG00000198455)</th>\n",
              "      <th>ZXDC (ENSG00000070476)</th>\n",
              "      <th>ZYG11A (ENSG00000203995)</th>\n",
              "      <th>ZYG11B (ENSG00000162378)</th>\n",
              "      <th>ZYX (ENSG00000159840)</th>\n",
              "      <th>ZZEF1 (ENSG00000074755)</th>\n",
              "      <th>ZZZ3 (ENSG00000036549)</th>\n",
              "      <th>bP-21264C1.2 (ENSG00000278932)</th>\n",
              "      <th>bP-2171C21.3 (ENSG00000279501)</th>\n",
              "      <th>bP-2189O9.3 (ENSG00000279579)</th>\n",
              "      <th>hsa-mir-1253 (ENSG00000272920)</th>\n",
              "    </tr>\n",
              "  </thead>\n",
              "  <tbody>\n",
              "    <tr>\n",
              "      <th>AAACATACCAGAGG-1_Day 00-03</th>\n",
              "      <td>0</td>\n",
              "      <td>0</td>\n",
              "      <td>0</td>\n",
              "      <td>0</td>\n",
              "      <td>0</td>\n",
              "      <td>0</td>\n",
              "      <td>0</td>\n",
              "      <td>0</td>\n",
              "      <td>0</td>\n",
              "      <td>0</td>\n",
              "      <td>0</td>\n",
              "      <td>0</td>\n",
              "      <td>0</td>\n",
              "      <td>0</td>\n",
              "      <td>0</td>\n",
              "      <td>0</td>\n",
              "      <td>0</td>\n",
              "      <td>0</td>\n",
              "      <td>0</td>\n",
              "      <td>0</td>\n",
              "      <td>1</td>\n",
              "      <td>0</td>\n",
              "      <td>0</td>\n",
              "      <td>0</td>\n",
              "      <td>0</td>\n",
              "      <td>2</td>\n",
              "      <td>0</td>\n",
              "      <td>1</td>\n",
              "      <td>0</td>\n",
              "      <td>0</td>\n",
              "      <td>1</td>\n",
              "      <td>1</td>\n",
              "      <td>0</td>\n",
              "      <td>0</td>\n",
              "      <td>2</td>\n",
              "      <td>0</td>\n",
              "      <td>0</td>\n",
              "      <td>0</td>\n",
              "      <td>0</td>\n",
              "      <td>0</td>\n",
              "      <td>...</td>\n",
              "      <td>0</td>\n",
              "      <td>0</td>\n",
              "      <td>0</td>\n",
              "      <td>0</td>\n",
              "      <td>0</td>\n",
              "      <td>1</td>\n",
              "      <td>0</td>\n",
              "      <td>0</td>\n",
              "      <td>1</td>\n",
              "      <td>0</td>\n",
              "      <td>0</td>\n",
              "      <td>0</td>\n",
              "      <td>0</td>\n",
              "      <td>0</td>\n",
              "      <td>1</td>\n",
              "      <td>0</td>\n",
              "      <td>0</td>\n",
              "      <td>0</td>\n",
              "      <td>0</td>\n",
              "      <td>0</td>\n",
              "      <td>0</td>\n",
              "      <td>0</td>\n",
              "      <td>0</td>\n",
              "      <td>0</td>\n",
              "      <td>0</td>\n",
              "      <td>0</td>\n",
              "      <td>0</td>\n",
              "      <td>0</td>\n",
              "      <td>0</td>\n",
              "      <td>0</td>\n",
              "      <td>0</td>\n",
              "      <td>0</td>\n",
              "      <td>0</td>\n",
              "      <td>0</td>\n",
              "      <td>0</td>\n",
              "      <td>0</td>\n",
              "      <td>0</td>\n",
              "      <td>0</td>\n",
              "      <td>0</td>\n",
              "      <td>0</td>\n",
              "    </tr>\n",
              "    <tr>\n",
              "      <th>AAACATTGAAAGCA-1_Day 00-03</th>\n",
              "      <td>0</td>\n",
              "      <td>0</td>\n",
              "      <td>0</td>\n",
              "      <td>0</td>\n",
              "      <td>0</td>\n",
              "      <td>0</td>\n",
              "      <td>0</td>\n",
              "      <td>0</td>\n",
              "      <td>0</td>\n",
              "      <td>0</td>\n",
              "      <td>0</td>\n",
              "      <td>0</td>\n",
              "      <td>0</td>\n",
              "      <td>0</td>\n",
              "      <td>0</td>\n",
              "      <td>0</td>\n",
              "      <td>0</td>\n",
              "      <td>0</td>\n",
              "      <td>0</td>\n",
              "      <td>0</td>\n",
              "      <td>0</td>\n",
              "      <td>0</td>\n",
              "      <td>0</td>\n",
              "      <td>0</td>\n",
              "      <td>0</td>\n",
              "      <td>0</td>\n",
              "      <td>0</td>\n",
              "      <td>0</td>\n",
              "      <td>0</td>\n",
              "      <td>0</td>\n",
              "      <td>0</td>\n",
              "      <td>0</td>\n",
              "      <td>0</td>\n",
              "      <td>0</td>\n",
              "      <td>0</td>\n",
              "      <td>0</td>\n",
              "      <td>0</td>\n",
              "      <td>0</td>\n",
              "      <td>0</td>\n",
              "      <td>0</td>\n",
              "      <td>...</td>\n",
              "      <td>0</td>\n",
              "      <td>0</td>\n",
              "      <td>0</td>\n",
              "      <td>0</td>\n",
              "      <td>0</td>\n",
              "      <td>0</td>\n",
              "      <td>0</td>\n",
              "      <td>0</td>\n",
              "      <td>0</td>\n",
              "      <td>0</td>\n",
              "      <td>0</td>\n",
              "      <td>0</td>\n",
              "      <td>0</td>\n",
              "      <td>0</td>\n",
              "      <td>0</td>\n",
              "      <td>0</td>\n",
              "      <td>0</td>\n",
              "      <td>0</td>\n",
              "      <td>0</td>\n",
              "      <td>0</td>\n",
              "      <td>0</td>\n",
              "      <td>0</td>\n",
              "      <td>0</td>\n",
              "      <td>0</td>\n",
              "      <td>0</td>\n",
              "      <td>0</td>\n",
              "      <td>0</td>\n",
              "      <td>2</td>\n",
              "      <td>0</td>\n",
              "      <td>0</td>\n",
              "      <td>0</td>\n",
              "      <td>0</td>\n",
              "      <td>0</td>\n",
              "      <td>0</td>\n",
              "      <td>0</td>\n",
              "      <td>0</td>\n",
              "      <td>0</td>\n",
              "      <td>0</td>\n",
              "      <td>0</td>\n",
              "      <td>0</td>\n",
              "    </tr>\n",
              "    <tr>\n",
              "      <th>AAACATTGAAGTGA-1_Day 00-03</th>\n",
              "      <td>0</td>\n",
              "      <td>0</td>\n",
              "      <td>0</td>\n",
              "      <td>0</td>\n",
              "      <td>0</td>\n",
              "      <td>0</td>\n",
              "      <td>0</td>\n",
              "      <td>0</td>\n",
              "      <td>0</td>\n",
              "      <td>0</td>\n",
              "      <td>0</td>\n",
              "      <td>0</td>\n",
              "      <td>0</td>\n",
              "      <td>0</td>\n",
              "      <td>0</td>\n",
              "      <td>0</td>\n",
              "      <td>0</td>\n",
              "      <td>0</td>\n",
              "      <td>0</td>\n",
              "      <td>0</td>\n",
              "      <td>1</td>\n",
              "      <td>0</td>\n",
              "      <td>0</td>\n",
              "      <td>2</td>\n",
              "      <td>0</td>\n",
              "      <td>0</td>\n",
              "      <td>0</td>\n",
              "      <td>0</td>\n",
              "      <td>0</td>\n",
              "      <td>0</td>\n",
              "      <td>1</td>\n",
              "      <td>2</td>\n",
              "      <td>0</td>\n",
              "      <td>0</td>\n",
              "      <td>0</td>\n",
              "      <td>0</td>\n",
              "      <td>0</td>\n",
              "      <td>0</td>\n",
              "      <td>0</td>\n",
              "      <td>0</td>\n",
              "      <td>...</td>\n",
              "      <td>0</td>\n",
              "      <td>0</td>\n",
              "      <td>0</td>\n",
              "      <td>0</td>\n",
              "      <td>0</td>\n",
              "      <td>0</td>\n",
              "      <td>0</td>\n",
              "      <td>0</td>\n",
              "      <td>0</td>\n",
              "      <td>0</td>\n",
              "      <td>0</td>\n",
              "      <td>0</td>\n",
              "      <td>0</td>\n",
              "      <td>0</td>\n",
              "      <td>0</td>\n",
              "      <td>0</td>\n",
              "      <td>0</td>\n",
              "      <td>0</td>\n",
              "      <td>1</td>\n",
              "      <td>0</td>\n",
              "      <td>0</td>\n",
              "      <td>2</td>\n",
              "      <td>0</td>\n",
              "      <td>0</td>\n",
              "      <td>0</td>\n",
              "      <td>0</td>\n",
              "      <td>0</td>\n",
              "      <td>2</td>\n",
              "      <td>0</td>\n",
              "      <td>0</td>\n",
              "      <td>0</td>\n",
              "      <td>0</td>\n",
              "      <td>0</td>\n",
              "      <td>0</td>\n",
              "      <td>0</td>\n",
              "      <td>0</td>\n",
              "      <td>0</td>\n",
              "      <td>0</td>\n",
              "      <td>0</td>\n",
              "      <td>0</td>\n",
              "    </tr>\n",
              "    <tr>\n",
              "      <th>AAACATTGGAGGTG-1_Day 00-03</th>\n",
              "      <td>0</td>\n",
              "      <td>0</td>\n",
              "      <td>0</td>\n",
              "      <td>0</td>\n",
              "      <td>0</td>\n",
              "      <td>0</td>\n",
              "      <td>0</td>\n",
              "      <td>0</td>\n",
              "      <td>0</td>\n",
              "      <td>0</td>\n",
              "      <td>0</td>\n",
              "      <td>0</td>\n",
              "      <td>0</td>\n",
              "      <td>0</td>\n",
              "      <td>0</td>\n",
              "      <td>0</td>\n",
              "      <td>0</td>\n",
              "      <td>0</td>\n",
              "      <td>0</td>\n",
              "      <td>1</td>\n",
              "      <td>0</td>\n",
              "      <td>0</td>\n",
              "      <td>1</td>\n",
              "      <td>0</td>\n",
              "      <td>0</td>\n",
              "      <td>0</td>\n",
              "      <td>0</td>\n",
              "      <td>0</td>\n",
              "      <td>0</td>\n",
              "      <td>0</td>\n",
              "      <td>1</td>\n",
              "      <td>0</td>\n",
              "      <td>0</td>\n",
              "      <td>0</td>\n",
              "      <td>1</td>\n",
              "      <td>0</td>\n",
              "      <td>0</td>\n",
              "      <td>0</td>\n",
              "      <td>0</td>\n",
              "      <td>0</td>\n",
              "      <td>...</td>\n",
              "      <td>0</td>\n",
              "      <td>0</td>\n",
              "      <td>0</td>\n",
              "      <td>0</td>\n",
              "      <td>0</td>\n",
              "      <td>0</td>\n",
              "      <td>0</td>\n",
              "      <td>0</td>\n",
              "      <td>0</td>\n",
              "      <td>0</td>\n",
              "      <td>0</td>\n",
              "      <td>0</td>\n",
              "      <td>0</td>\n",
              "      <td>0</td>\n",
              "      <td>0</td>\n",
              "      <td>0</td>\n",
              "      <td>0</td>\n",
              "      <td>0</td>\n",
              "      <td>0</td>\n",
              "      <td>0</td>\n",
              "      <td>0</td>\n",
              "      <td>1</td>\n",
              "      <td>0</td>\n",
              "      <td>0</td>\n",
              "      <td>0</td>\n",
              "      <td>0</td>\n",
              "      <td>0</td>\n",
              "      <td>3</td>\n",
              "      <td>0</td>\n",
              "      <td>0</td>\n",
              "      <td>0</td>\n",
              "      <td>0</td>\n",
              "      <td>0</td>\n",
              "      <td>2</td>\n",
              "      <td>0</td>\n",
              "      <td>0</td>\n",
              "      <td>0</td>\n",
              "      <td>0</td>\n",
              "      <td>0</td>\n",
              "      <td>0</td>\n",
              "    </tr>\n",
              "    <tr>\n",
              "      <th>AAACATTGGTTTCT-1_Day 00-03</th>\n",
              "      <td>0</td>\n",
              "      <td>0</td>\n",
              "      <td>0</td>\n",
              "      <td>0</td>\n",
              "      <td>0</td>\n",
              "      <td>0</td>\n",
              "      <td>0</td>\n",
              "      <td>0</td>\n",
              "      <td>0</td>\n",
              "      <td>0</td>\n",
              "      <td>0</td>\n",
              "      <td>0</td>\n",
              "      <td>0</td>\n",
              "      <td>0</td>\n",
              "      <td>0</td>\n",
              "      <td>0</td>\n",
              "      <td>0</td>\n",
              "      <td>0</td>\n",
              "      <td>0</td>\n",
              "      <td>0</td>\n",
              "      <td>0</td>\n",
              "      <td>0</td>\n",
              "      <td>0</td>\n",
              "      <td>0</td>\n",
              "      <td>0</td>\n",
              "      <td>0</td>\n",
              "      <td>0</td>\n",
              "      <td>1</td>\n",
              "      <td>0</td>\n",
              "      <td>0</td>\n",
              "      <td>0</td>\n",
              "      <td>1</td>\n",
              "      <td>0</td>\n",
              "      <td>0</td>\n",
              "      <td>0</td>\n",
              "      <td>0</td>\n",
              "      <td>0</td>\n",
              "      <td>0</td>\n",
              "      <td>0</td>\n",
              "      <td>0</td>\n",
              "      <td>...</td>\n",
              "      <td>0</td>\n",
              "      <td>0</td>\n",
              "      <td>0</td>\n",
              "      <td>0</td>\n",
              "      <td>0</td>\n",
              "      <td>0</td>\n",
              "      <td>0</td>\n",
              "      <td>0</td>\n",
              "      <td>0</td>\n",
              "      <td>0</td>\n",
              "      <td>0</td>\n",
              "      <td>0</td>\n",
              "      <td>0</td>\n",
              "      <td>0</td>\n",
              "      <td>0</td>\n",
              "      <td>0</td>\n",
              "      <td>0</td>\n",
              "      <td>0</td>\n",
              "      <td>0</td>\n",
              "      <td>0</td>\n",
              "      <td>0</td>\n",
              "      <td>0</td>\n",
              "      <td>1</td>\n",
              "      <td>0</td>\n",
              "      <td>0</td>\n",
              "      <td>1</td>\n",
              "      <td>1</td>\n",
              "      <td>4</td>\n",
              "      <td>0</td>\n",
              "      <td>0</td>\n",
              "      <td>0</td>\n",
              "      <td>0</td>\n",
              "      <td>0</td>\n",
              "      <td>0</td>\n",
              "      <td>0</td>\n",
              "      <td>0</td>\n",
              "      <td>0</td>\n",
              "      <td>0</td>\n",
              "      <td>0</td>\n",
              "      <td>0</td>\n",
              "    </tr>\n",
              "  </tbody>\n",
              "</table>\n",
              "<p>5 rows × 33694 columns</p>\n",
              "</div>"
            ],
            "text/plain": [
              "                            A1BG (ENSG00000121410)  ...  hsa-mir-1253 (ENSG00000272920)\n",
              "AAACATACCAGAGG-1_Day 00-03                       0  ...                               0\n",
              "AAACATTGAAAGCA-1_Day 00-03                       0  ...                               0\n",
              "AAACATTGAAGTGA-1_Day 00-03                       0  ...                               0\n",
              "AAACATTGGAGGTG-1_Day 00-03                       0  ...                               0\n",
              "AAACATTGGTTTCT-1_Day 00-03                       0  ...                               0\n",
              "\n",
              "[5 rows x 33694 columns]"
            ]
          },
          "metadata": {
            "tags": []
          },
          "execution_count": 35
        }
      ]
    },
    {
      "cell_type": "markdown",
      "metadata": {
        "id": "RfEAJmazVjU8",
        "colab_type": "text"
      },
      "source": [
        "Now we have one matrix containing all five time points of the experiment, and a vector (`sample_labels`) telling us which cells (rows) came from which time point. As you can see, the time point is also appended to the cell barcode."
      ]
    },
    {
      "cell_type": "code",
      "metadata": {
        "id": "9rOmt_57VjU8",
        "colab_type": "code",
        "colab": {
          "base_uri": "https://localhost:8080/",
          "height": 221
        },
        "outputId": "a927c4bf-a6c8-4d00-c40b-6ebcecf70c11"
      },
      "source": [
        "sample_labels"
      ],
      "execution_count": 36,
      "outputs": [
        {
          "output_type": "execute_result",
          "data": {
            "text/plain": [
              "AAACATACCAGAGG-1_Day 00-03    Day 00-03\n",
              "AAACATTGAAAGCA-1_Day 00-03    Day 00-03\n",
              "AAACATTGAAGTGA-1_Day 00-03    Day 00-03\n",
              "AAACATTGGAGGTG-1_Day 00-03    Day 00-03\n",
              "AAACATTGGTTTCT-1_Day 00-03    Day 00-03\n",
              "                                ...    \n",
              "TTTGCATGCACTCC-1_Day 24-27    Day 24-27\n",
              "TTTGCATGTAGACC-1_Day 24-27    Day 24-27\n",
              "TTTGCATGTGTCGA-1_Day 24-27    Day 24-27\n",
              "TTTGCATGTTCTAC-1_Day 24-27    Day 24-27\n",
              "TTTGCATGTTCTTG-1_Day 24-27    Day 24-27\n",
              "Name: sample_labels, Length: 30568, dtype: object"
            ]
          },
          "metadata": {
            "tags": []
          },
          "execution_count": 36
        }
      ]
    },
    {
      "cell_type": "markdown",
      "metadata": {
        "id": "E43uX90pVjVA",
        "colab_type": "text"
      },
      "source": [
        "Finally, because the Google Colab client is not the most powerful client, we'll subsample this dataset to allow you to run the preprocessing steps a little more quickly."
      ]
    },
    {
      "cell_type": "code",
      "metadata": {
        "id": "Dd92b5QxVjVB",
        "colab_type": "code",
        "colab": {}
      },
      "source": [
        "data, sample_labels = scprep.select.subsample(data, sample_labels, n=10000)"
      ],
      "execution_count": 0,
      "outputs": []
    },
    {
      "cell_type": "code",
      "metadata": {
        "id": "nSGuF5Y1VjVE",
        "colab_type": "code",
        "colab": {
          "base_uri": "https://localhost:8080/",
          "height": 34
        },
        "outputId": "ca7887f1-cb6d-417d-f5f8-d2c28ab0b367"
      },
      "source": [
        "data.shape, sample_labels.shape"
      ],
      "execution_count": 38,
      "outputs": [
        {
          "output_type": "execute_result",
          "data": {
            "text/plain": [
              "((10000, 33694), (10000,))"
            ]
          },
          "metadata": {
            "tags": []
          },
          "execution_count": 38
        }
      ]
    },
    {
      "cell_type": "markdown",
      "metadata": {
        "id": "u8Pf-0R_VjVG",
        "colab_type": "text"
      },
      "source": [
        "#### Batch effects\n",
        "\n",
        "It's worth noting here that we have combined five different experiments into one data matrix here, and in doing so potentially exposed ourself to a \"batch effect\". A batch effect is a difference (technical or biological) between two batches of an experiment. This can be caused by systematic error (e.g. a difference in temperature during library preparation) or a genuine biological effect of interest (e.g. in this case each batch is sampled at a different time of development.)\n",
        "\n",
        "Correcting for technical / systematic batch effects is a topic unto itself which we will cover later in the workshop; however it's worth noting that any time we combine multiple experiments, we should check to see if they are substantially different and compare this to our expectations. If the effect is large and unexpected, we can either a) attempt to correct it / account for it using computational methods, or b) modify our analysis to avoid combining the datasets."
      ]
    },
    {
      "cell_type": "markdown",
      "metadata": {
        "id": "yV1secM_VjVH",
        "colab_type": "text"
      },
      "source": [
        "### Discussion\n",
        "\n",
        "1. Why do we remove cells with low UMI count (or library size)?\n",
        "2. Why do we remove cells with high UMI count (or library size)?"
      ]
    },
    {
      "cell_type": "markdown",
      "metadata": {
        "colab_type": "text",
        "collapsed": true,
        "id": "pGrC9YiEacXc"
      },
      "source": [
        "<a id='preprocessing'></a>\n",
        "## 3. Preprocessing: Filtering, Normalizing, and Transforming\n",
        "\n",
        "All of these steps are carried out on the whole combined data.\n",
        "\n",
        "### Filtering\n",
        "\n",
        "We filter the data by: \n",
        "1. Removing dead cells  \n",
        "2. Filtering by library size (if we did not do this prior to combining batches)\n",
        "3. Removing genes that are expressed in relatively few cells."
      ]
    },
    {
      "cell_type": "markdown",
      "metadata": {
        "colab_type": "text",
        "collapsed": true,
        "id": "3e3m5x8LacXd"
      },
      "source": [
        "### 3.1 Dead cell removal\n",
        "\n",
        "#### What does high mitochondrial gene expression indicate?\n",
        "\n",
        "Generally, we assume that cells with high detection of mitochondrial RNAs have undergone degradation of the mitochondrial membrane as a result of apoptosis. This may be from stress during dissociation, culture, or really anywhere in the experimental pipeline. As with the high and low library size cells, we want to remove the long tail from the distribution. In a successful experiment, it's typical for 5-10% of the cells to have this apoptotic signature.\n",
        "\n",
        "#### Plotting mitochondrial expression\n",
        "\n",
        "Let's look at the mitochondrial expression. You can do this using [`scprep.plot.plot_gene_set_expression()`](https://scprep.readthedocs.io/en/stable/reference.html#scprep.plot.plot_gene_set_expression), which conveniently gets you the list of mitochrondrial genes by name using the helper function [`scprep.select.get_gene_set()`](https://scprep.readthedocs.io/en/stable/reference.html#scprep.select.get_gene_set)."
      ]
    },
    {
      "cell_type": "code",
      "metadata": {
        "colab_type": "code",
        "id": "1ZKa468GacXe",
        "scrolled": true,
        "colab": {
          "base_uri": "https://localhost:8080/",
          "height": 314
        },
        "outputId": "d1c2ee8a-f223-4815-ec9a-d3bc1d91afac"
      },
      "source": [
        "# Plot all mitochondrial genes. There are 14, FYI.\n",
        "scprep.plot.plot_gene_set_expression(data, starts_with=\"MT-\",\n",
        "                                     library_size_normalize=True,\n",
        "                                     title=\"Mitochrondrial expression before filtering\")"
      ],
      "execution_count": 39,
      "outputs": [
        {
          "output_type": "execute_result",
          "data": {
            "text/plain": [
              "<matplotlib.axes._subplots.AxesSubplot at 0x7f31b9b70208>"
            ]
          },
          "metadata": {
            "tags": []
          },
          "execution_count": 39
        },
        {
          "output_type": "display_data",
          "data": {
            "image/png": "[encoded data removed]",
            "text/plain": [
              "<Figure size 432x288 with 1 Axes>"
            ]
          },
          "metadata": {
            "tags": [],
            "needs_background": "light"
          }
        }
      ]
    },
    {
      "cell_type": "markdown",
      "metadata": {
        "colab_type": "text",
        "id": "3PBCeKuPacXh"
      },
      "source": [
        "Here we see that above some threshold, there is a steep increase in expression of mitochondrial RNAs. We'll remove these cells from further analysis. Choose a cut-off based on the histogram above and plot your chosen value on a new histogram.\n",
        "\n",
        "### Exercise 2 - filtering dead cells by mitochondrial expression"
      ]
    },
    {
      "cell_type": "code",
      "metadata": {
        "id": "MCd_ZuvLVjVL",
        "colab_type": "code",
        "colab": {
          "base_uri": "https://localhost:8080/",
          "height": 314
        },
        "outputId": "e5110281-3e17-4039-bc48-82974e4a4fda"
      },
      "source": [
        "# ================\n",
        "# choose a cutoff at which to plot a red line such that you\n",
        "# remove cells with aberrant mitochondrial expression\n",
        "scprep.plot.plot_gene_set_expression(data, starts_with=\"MT-\",\n",
        "                                     library_size_normalize=True,\n",
        "                                     title=\"Mitochrondrial expression after filtering\",\n",
        "                                     cutoff =95)\n",
        "# ================"
      ],
      "execution_count": 43,
      "outputs": [
        {
          "output_type": "execute_result",
          "data": {
            "text/plain": [
              "<matplotlib.axes._subplots.AxesSubplot at 0x7f31b77c7c50>"
            ]
          },
          "metadata": {
            "tags": []
          },
          "execution_count": 43
        },
        {
          "output_type": "display_data",
          "data": {
            "image/png": "[encoded data removed]",
            "text/plain": [
              "<Figure size 432x288 with 1 Axes>"
            ]
          },
          "metadata": {
            "tags": [],
            "needs_background": "light"
          }
        }
      ]
    },
    {
      "cell_type": "markdown",
      "metadata": {
        "id": "IzgmV3TOVjVM",
        "colab_type": "text"
      },
      "source": [
        "Now we can remove those cells."
      ]
    },
    {
      "cell_type": "code",
      "metadata": {
        "colab_type": "code",
        "id": "IYhfs7y9acXi",
        "colab": {
          "base_uri": "https://localhost:8080/",
          "height": 34
        },
        "outputId": "0c1de283-410c-4b3e-f238-f0c6babe31b6"
      },
      "source": [
        "# ================\n",
        "# Fill in your chosen cutoff value\n",
        "cutoff = 95\n",
        "# ================\n",
        "data_filt, sample_labels = scprep.filter.filter_gene_set_expression(\n",
        "    data, sample_labels, starts_with=\"MT-\",\n",
        "    cutoff=cutoff, keep_cells='below', library_size_normalize=True)\n",
        "data_filt.shape"
      ],
      "execution_count": 44,
      "outputs": [
        {
          "output_type": "execute_result",
          "data": {
            "text/plain": [
              "(1740, 33694)"
            ]
          },
          "metadata": {
            "tags": []
          },
          "execution_count": 44
        }
      ]
    },
    {
      "cell_type": "markdown",
      "metadata": {
        "id": "n6cgbOZ-VjVP",
        "colab_type": "text"
      },
      "source": [
        "After removing the top 10\\% of cells by mitochrondrial expression, we're left with 9,000 cells. Let's look at that histogram again."
      ]
    },
    {
      "cell_type": "code",
      "metadata": {
        "id": "E5XEjTVOVjVP",
        "colab_type": "code",
        "colab": {
          "base_uri": "https://localhost:8080/",
          "height": 314
        },
        "outputId": "265f741b-56db-4581-cb73-d9ffd3e6c995"
      },
      "source": [
        "scprep.plot.plot_gene_set_expression(data_filt, starts_with=\"MT-\",\n",
        "                                     library_size_normalize=True,\n",
        "                                     title=\"Mitochrondrial expression after filtering\")"
      ],
      "execution_count": 45,
      "outputs": [
        {
          "output_type": "execute_result",
          "data": {
            "text/plain": [
              "<matplotlib.axes._subplots.AxesSubplot at 0x7f31cd8687f0>"
            ]
          },
          "metadata": {
            "tags": []
          },
          "execution_count": 45
        },
        {
          "output_type": "display_data",
          "data": {
            "image/png": "[encoded data removed]",
            "text/plain": [
              "<Figure size 432x288 with 1 Axes>"
            ]
          },
          "metadata": {
            "tags": [],
            "needs_background": "light"
          }
        }
      ]
    },
    {
      "cell_type": "markdown",
      "metadata": {
        "id": "2mucOUPJVjVR",
        "colab_type": "text"
      },
      "source": [
        "Much better! We have a tight distribution without a long tail, indicating that all of our cells have relatively normal mitochondrial expression."
      ]
    },
    {
      "cell_type": "markdown",
      "metadata": {
        "colab_type": "text",
        "collapsed": true,
        "id": "ZxLVx9q1acXo"
      },
      "source": [
        "### 3.2 - Filtering lowly expressed genes\n",
        "\n",
        "#### Why remove lowly expressed genes?\n",
        "\n",
        "Capturing RNA from single cells is a noisy process. The first round of reverse transcription is done in the presence of cell lysate. This results in capture of only 10-40% of the mRNA molecules in a cell leading to a phenomenon called dropout where some lowly expressed genes are not detected in cells in which they are expressed [[1](https://www.ncbi.nlm.nih.gov/pmc/articles/PMC5561556/#CR13), [2](https://www.ncbi.nlm.nih.gov/pmc/articles/PMC5561556/#CR44), [3](https://www.ncbi.nlm.nih.gov/pmc/articles/PMC5561556/#CR64), [4](https://www.ncbi.nlm.nih.gov/pmc/articles/PMC5561556/#CR65)]. As a result, some genes are so lowly expressed (or expressed not at all) that we do not have sufficient observations of that gene to make any inferences on its expression.\n",
        "\n",
        "Lowly expressed genes that may only be represented by a handful of mRNAs may not appear in a given dataset. Others might only be present in a small number of cells. Because we lack sufficient information about these genes, we remove lowly expressed genes from the gene expression matrix during preprocessing. Typically, if a gene is detected in only very few cells, it gets removed.\n",
        "\n",
        "Here, we can see that in EB dataset, there are many genes that are detected in very few cells."
      ]
    },
    {
      "cell_type": "code",
      "metadata": {
        "id": "dAuMMhOvVjVV",
        "colab_type": "code",
        "colab": {
          "base_uri": "https://localhost:8080/",
          "height": 314
        },
        "outputId": "fdec5a28-4890-484e-96fc-cb88b8df98f5"
      },
      "source": [
        "scprep.plot.histogram(scprep.measure.gene_capture_count(data_filt), log=True,\n",
        "                      title=\"Gene capture before filtering\",\n",
        "                     xlabel='# of cells with nonzero expression',\n",
        "                     ylabel='# of genes')"
      ],
      "execution_count": 46,
      "outputs": [
        {
          "output_type": "execute_result",
          "data": {
            "text/plain": [
              "<matplotlib.axes._subplots.AxesSubplot at 0x7f31b0feebe0>"
            ]
          },
          "metadata": {
            "tags": []
          },
          "execution_count": 46
        },
        {
          "output_type": "display_data",
          "data": {
            "image/png": "[encoded data removed]",
            "text/plain": [
              "<Figure size 432x288 with 1 Axes>"
            ]
          },
          "metadata": {
            "tags": [],
            "needs_background": "light"
          }
        }
      ]
    },
    {
      "cell_type": "markdown",
      "metadata": {
        "id": "18Has0J9VjVY",
        "colab_type": "text"
      },
      "source": [
        "Again, we see a relatively clean distribution on the right (genes observed in many cells) with a heavy tail on the right (rare genes). Where would you choose to cut this off?\n",
        "\n",
        "### Exercise 3 - filtering rare genes"
      ]
    },
    {
      "cell_type": "code",
      "metadata": {
        "id": "x31VzEUaVjVY",
        "colab_type": "code",
        "colab": {
          "base_uri": "https://localhost:8080/",
          "height": 314
        },
        "outputId": "ead0096d-32d7-4178-dd58-941d49f8a9c2"
      },
      "source": [
        "# ================\n",
        "# choose a cutoff\n",
        "scprep.plot.histogram(scprep.measure.gene_capture_count(data_filt), cutoff = 100,\n",
        "                      log=True,\n",
        "                      title=\"Gene capture before filtering\",\n",
        "                     xlabel='# of cells with nonzero expression',\n",
        "                     ylabel='# of genes')\n",
        "# ================"
      ],
      "execution_count": 47,
      "outputs": [
        {
          "output_type": "execute_result",
          "data": {
            "text/plain": [
              "<matplotlib.axes._subplots.AxesSubplot at 0x7f31c6477f60>"
            ]
          },
          "metadata": {
            "tags": []
          },
          "execution_count": 47
        },
        {
          "output_type": "display_data",
          "data": {
            "image/png": "[encoded data removed]",
            "text/plain": [
              "<Figure size 432x288 with 1 Axes>"
            ]
          },
          "metadata": {
            "tags": [],
            "needs_background": "light"
          }
        }
      ]
    },
    {
      "cell_type": "markdown",
      "metadata": {
        "id": "YJgQntOpVjVa",
        "colab_type": "text"
      },
      "source": [
        "Let's go ahead and remove those genes."
      ]
    },
    {
      "cell_type": "code",
      "metadata": {
        "colab_type": "code",
        "id": "9pyvgVwracXq",
        "colab": {}
      },
      "source": [
        "# ================\n",
        "# choose a cutoff\n",
        "cutoff = 3\n",
        "data_filt = scprep.filter.filter_rare_genes(data_filt, min_cells=cutoff)\n",
        "# ================"
      ],
      "execution_count": 0,
      "outputs": []
    },
    {
      "cell_type": "markdown",
      "metadata": {
        "id": "IcyNZ6AaVjVd",
        "colab_type": "text"
      },
      "source": [
        "We can plot the above histogram again for good measure. As you can see, the rare genes are all gone."
      ]
    },
    {
      "cell_type": "code",
      "metadata": {
        "id": "KyFTz5nTVjVd",
        "colab_type": "code",
        "colab": {
          "base_uri": "https://localhost:8080/",
          "height": 314
        },
        "outputId": "f68d030b-dc1f-41f7-8d2a-c40b400090e2"
      },
      "source": [
        "scprep.plot.histogram(scprep.measure.gene_capture_count(data_filt), cutoff=cutoff, log=True,\n",
        "                      title=\"Gene capture after filtering\",\n",
        "                     xlabel='# of cells with nonzero expression',\n",
        "                     ylabel='# of genes')"
      ],
      "execution_count": 50,
      "outputs": [
        {
          "output_type": "execute_result",
          "data": {
            "text/plain": [
              "<matplotlib.axes._subplots.AxesSubplot at 0x7f31a961f668>"
            ]
          },
          "metadata": {
            "tags": []
          },
          "execution_count": 50
        },
        {
          "output_type": "display_data",
          "data": {
            "image/png": "[encoded data removed]",
            "text/plain": [
              "<Figure size 432x288 with 1 Axes>"
            ]
          },
          "metadata": {
            "tags": [],
            "needs_background": "light"
          }
        }
      ]
    },
    {
      "cell_type": "code",
      "metadata": {
        "id": "C9TWy8CXVjVf",
        "colab_type": "code",
        "colab": {
          "base_uri": "https://localhost:8080/",
          "height": 34
        },
        "outputId": "da19019b-bc70-425b-b3e9-b5ccd83b008c"
      },
      "source": [
        "data_filt.shape"
      ],
      "execution_count": 51,
      "outputs": [
        {
          "output_type": "execute_result",
          "data": {
            "text/plain": [
              "(1740, 3089)"
            ]
          },
          "metadata": {
            "tags": []
          },
          "execution_count": 51
        }
      ]
    },
    {
      "cell_type": "markdown",
      "metadata": {
        "id": "cni5VEWAVjVk",
        "colab_type": "text"
      },
      "source": [
        "After filtering, we have removed many thousands of genes. This will be our last filtering step, though you can always filter out aberrant expression on an ad hoc basis. As it stands, we've quite significantly reduced our dataset from 10,000 x 33,000 that we started with. And that's not even counting the cells we removed by library size before combining time points!"
      ]
    },
    {
      "cell_type": "markdown",
      "metadata": {
        "colab_type": "text",
        "id": "zTOt3GU2acXu"
      },
      "source": [
        "### 3.3 - Normalization\n",
        "\n",
        "As you saw during filtering, the range of library sizes between cells can be quite extreme. We visualized this for one time point pre-filtering, but let's now visualize the whole dataset, post-filtering."
      ]
    },
    {
      "cell_type": "code",
      "metadata": {
        "id": "OmH7VrnpVjVm",
        "colab_type": "code",
        "colab": {
          "base_uri": "https://localhost:8080/",
          "height": 314
        },
        "outputId": "b34cc4d4-1e99-4dd7-e698-242ee48f4a87"
      },
      "source": [
        "scprep.plot.plot_library_size(data_filt, title='Library size before normalization')"
      ],
      "execution_count": 52,
      "outputs": [
        {
          "output_type": "execute_result",
          "data": {
            "text/plain": [
              "<matplotlib.axes._subplots.AxesSubplot at 0x7f31b68e0c50>"
            ]
          },
          "metadata": {
            "tags": []
          },
          "execution_count": 52
        },
        {
          "output_type": "display_data",
          "data": {
            "image/png": "[encoded data removed]",
            "text/plain": [
              "<Figure size 432x288 with 1 Axes>"
            ]
          },
          "metadata": {
            "tags": [],
            "needs_background": "light"
          }
        }
      ]
    },
    {
      "cell_type": "markdown",
      "metadata": {
        "colab_type": "text",
        "id": "J6wiaRsXVjVq"
      },
      "source": [
        "To correct for differences in library sizes, we divide each cell by its library size and then rescale by the a fixed value, sometimes the median library size. The default in `scprep` is to rescale every cell to 10,000 counts to make numbers comparable across datasets.\n",
        "\n",
        "In python this is performed using the preprocessing method [`scprep.normalize.library_size_normalize()`](https://scprep.readthedocs.io/en/stable/reference.html#scprep.normalize.library_size_normalize)."
      ]
    },
    {
      "cell_type": "code",
      "metadata": {
        "colab_type": "code",
        "id": "The5qKgGacXw",
        "colab": {}
      },
      "source": [
        "data_norm, library_size = scprep.normalize.library_size_normalize(data_filt, return_library_size=True)"
      ],
      "execution_count": 0,
      "outputs": []
    },
    {
      "cell_type": "markdown",
      "metadata": {
        "id": "SnbXK3blVjVv",
        "colab_type": "text"
      },
      "source": [
        "If you plot the library sizes again, you'll see they are all the same."
      ]
    },
    {
      "cell_type": "code",
      "metadata": {
        "id": "4De-ZK23VjVx",
        "colab_type": "code",
        "colab": {
          "base_uri": "https://localhost:8080/",
          "height": 314
        },
        "outputId": "04d89424-9aa3-4549-9a01-935490617f31"
      },
      "source": [
        "scprep.plot.plot_library_size(data_norm, title='Library size after normalization')"
      ],
      "execution_count": 54,
      "outputs": [
        {
          "output_type": "execute_result",
          "data": {
            "text/plain": [
              "<matplotlib.axes._subplots.AxesSubplot at 0x7f31a76eb4a8>"
            ]
          },
          "metadata": {
            "tags": []
          },
          "execution_count": 54
        },
        {
          "output_type": "display_data",
          "data": {
            "image/png": "[encoded data removed]",
            "text/plain": [
              "<Figure size 432x288 with 1 Axes>"
            ]
          },
          "metadata": {
            "tags": [],
            "needs_background": "light"
          }
        }
      ]
    },
    {
      "cell_type": "markdown",
      "metadata": {
        "id": "E72wvQrnVjV1",
        "colab_type": "text"
      },
      "source": [
        "#### Creating the `metadata` DataFrame\n",
        "\n",
        "You'll notice now we have two metadata objects: `sample_labels` and `library_size`. We can make our lives easier by putting these into a DataFrame as follows."
      ]
    },
    {
      "cell_type": "code",
      "metadata": {
        "id": "DWWOkxccVjV2",
        "colab_type": "code",
        "colab": {
          "base_uri": "https://localhost:8080/",
          "height": 419
        },
        "outputId": "7c1cc5ae-ab28-4897-cfdc-f47a0aed2a03"
      },
      "source": [
        "metadata = pd.concat([library_size, sample_labels], axis=1)\n",
        "metadata"
      ],
      "execution_count": 55,
      "outputs": [
        {
          "output_type": "execute_result",
          "data": {
            "text/html": [
              "<div>\n",
              "<style scoped>\n",
              "    .dataframe tbody tr th:only-of-type {\n",
              "        vertical-align: middle;\n",
              "    }\n",
              "\n",
              "    .dataframe tbody tr th {\n",
              "        vertical-align: top;\n",
              "    }\n",
              "\n",
              "    .dataframe thead th {\n",
              "        text-align: right;\n",
              "    }\n",
              "</style>\n",
              "<table border=\"1\" class=\"dataframe\">\n",
              "  <thead>\n",
              "    <tr style=\"text-align: right;\">\n",
              "      <th></th>\n",
              "      <th>library_size</th>\n",
              "      <th>sample_labels</th>\n",
              "    </tr>\n",
              "  </thead>\n",
              "  <tbody>\n",
              "    <tr>\n",
              "      <th>AAACCGTGGCTACA-1_Day 00-03</th>\n",
              "      <td>2270.0</td>\n",
              "      <td>Day 00-03</td>\n",
              "    </tr>\n",
              "    <tr>\n",
              "      <th>AAAGGCCTTCAGGT-1_Day 00-03</th>\n",
              "      <td>1844.0</td>\n",
              "      <td>Day 00-03</td>\n",
              "    </tr>\n",
              "    <tr>\n",
              "      <th>AAATTGACGGTACT-1_Day 00-03</th>\n",
              "      <td>6694.0</td>\n",
              "      <td>Day 00-03</td>\n",
              "    </tr>\n",
              "    <tr>\n",
              "      <th>AACAATACGACAAA-1_Day 00-03</th>\n",
              "      <td>5144.0</td>\n",
              "      <td>Day 00-03</td>\n",
              "    </tr>\n",
              "    <tr>\n",
              "      <th>AACGCAACGTGCTA-1_Day 00-03</th>\n",
              "      <td>6213.0</td>\n",
              "      <td>Day 00-03</td>\n",
              "    </tr>\n",
              "    <tr>\n",
              "      <th>...</th>\n",
              "      <td>...</td>\n",
              "      <td>...</td>\n",
              "    </tr>\n",
              "    <tr>\n",
              "      <th>TTGTACACCAAGCT-1_Day 24-27</th>\n",
              "      <td>1539.0</td>\n",
              "      <td>Day 24-27</td>\n",
              "    </tr>\n",
              "    <tr>\n",
              "      <th>TTGTAGCTCCAACA-1_Day 24-27</th>\n",
              "      <td>2357.0</td>\n",
              "      <td>Day 24-27</td>\n",
              "    </tr>\n",
              "    <tr>\n",
              "      <th>TTTAGGCTGGTCAT-1_Day 24-27</th>\n",
              "      <td>2284.0</td>\n",
              "      <td>Day 24-27</td>\n",
              "    </tr>\n",
              "    <tr>\n",
              "      <th>TTTCGAACTGGAAA-1_Day 24-27</th>\n",
              "      <td>1527.0</td>\n",
              "      <td>Day 24-27</td>\n",
              "    </tr>\n",
              "    <tr>\n",
              "      <th>TTTCTACTCCTTGC-1_Day 24-27</th>\n",
              "      <td>4009.0</td>\n",
              "      <td>Day 24-27</td>\n",
              "    </tr>\n",
              "  </tbody>\n",
              "</table>\n",
              "<p>1740 rows × 2 columns</p>\n",
              "</div>"
            ],
            "text/plain": [
              "                            library_size sample_labels\n",
              "AAACCGTGGCTACA-1_Day 00-03        2270.0     Day 00-03\n",
              "AAAGGCCTTCAGGT-1_Day 00-03        1844.0     Day 00-03\n",
              "AAATTGACGGTACT-1_Day 00-03        6694.0     Day 00-03\n",
              "AACAATACGACAAA-1_Day 00-03        5144.0     Day 00-03\n",
              "AACGCAACGTGCTA-1_Day 00-03        6213.0     Day 00-03\n",
              "...                                  ...           ...\n",
              "TTGTACACCAAGCT-1_Day 24-27        1539.0     Day 24-27\n",
              "TTGTAGCTCCAACA-1_Day 24-27        2357.0     Day 24-27\n",
              "TTTAGGCTGGTCAT-1_Day 24-27        2284.0     Day 24-27\n",
              "TTTCGAACTGGAAA-1_Day 24-27        1527.0     Day 24-27\n",
              "TTTCTACTCCTTGC-1_Day 24-27        4009.0     Day 24-27\n",
              "\n",
              "[1740 rows x 2 columns]"
            ]
          },
          "metadata": {
            "tags": []
          },
          "execution_count": 55
        }
      ]
    },
    {
      "cell_type": "markdown",
      "metadata": {
        "colab_type": "text",
        "id": "qtpLNUB2acX4"
      },
      "source": [
        "### 3.4 - Gene Count Transformation\n",
        "\n",
        "In scRNA-seq analysis, we often see that some genes are orders of magnitude more common than others. Let's have a look at the mean expression of each gene."
      ]
    },
    {
      "cell_type": "code",
      "metadata": {
        "id": "Nv5PVGLhVjV-",
        "colab_type": "code",
        "colab": {
          "base_uri": "https://localhost:8080/",
          "height": 314
        },
        "outputId": "afea23e8-1efd-4d01-bae0-a11568380b3f"
      },
      "source": [
        "scprep.plot.histogram(data_norm.mean(axis=0), log='y',\n",
        "                      title=\"Gene counts before transformation\",\n",
        "                     xlabel='total # of gene counts',\n",
        "                     ylabel='# of genes')"
      ],
      "execution_count": 56,
      "outputs": [
        {
          "output_type": "execute_result",
          "data": {
            "text/plain": [
              "<matplotlib.axes._subplots.AxesSubplot at 0x7f31af2503c8>"
            ]
          },
          "metadata": {
            "tags": []
          },
          "execution_count": 56
        },
        {
          "output_type": "display_data",
          "data": {
            "image/png": "[encoded data removed]",
            "text/plain": [
              "<Figure size 432x288 with 1 Axes>"
            ]
          },
          "metadata": {
            "tags": [],
            "needs_background": "light"
          }
        }
      ]
    },
    {
      "cell_type": "markdown",
      "metadata": {
        "colab_type": "text",
        "id": "zceRtgr8VjWA"
      },
      "source": [
        "In order to avoid these high-expression genes dominating the variation, the data is often $\\log$-transformed. This typically requires the addition of some small value to avoid taking $\\log(0)$. We avoid this issue entirely by instead taking the square root transform. The square root function has a similar form as the $\\log$ function with the added benefit of being stable at 0."
      ]
    },
    {
      "cell_type": "code",
      "metadata": {
        "colab_type": "code",
        "id": "gnWsT6p5acX5",
        "colab": {}
      },
      "source": [
        "data_sqrt = scprep.transform.sqrt(data_norm)"
      ],
      "execution_count": 0,
      "outputs": []
    },
    {
      "cell_type": "markdown",
      "metadata": {
        "id": "SFw4t-qqVjWL",
        "colab_type": "text"
      },
      "source": [
        "After transformation, you should see that the mean expression values are now much closer together."
      ]
    },
    {
      "cell_type": "code",
      "metadata": {
        "id": "feMqxJOgVjWL",
        "colab_type": "code",
        "colab": {
          "base_uri": "https://localhost:8080/",
          "height": 314
        },
        "outputId": "5d9bc43e-d5d2-44a9-a1c6-fe760fd51b1c"
      },
      "source": [
        "scprep.plot.histogram(data_sqrt.mean(axis=0), log='y',\n",
        "                      title=\"Gene counts after transformation\",\n",
        "                     xlabel='total # of gene counts',\n",
        "                     ylabel='# of genes')"
      ],
      "execution_count": 58,
      "outputs": [
        {
          "output_type": "execute_result",
          "data": {
            "text/plain": [
              "<matplotlib.axes._subplots.AxesSubplot at 0x7f31a74e2208>"
            ]
          },
          "metadata": {
            "tags": []
          },
          "execution_count": 58
        },
        {
          "output_type": "display_data",
          "data": {
            "image/png": "[encoded data removed]",
            "text/plain": [
              "<Figure size 432x288 with 1 Axes>"
            ]
          },
          "metadata": {
            "tags": [],
            "needs_background": "light"
          }
        }
      ]
    },
    {
      "cell_type": "markdown",
      "metadata": {
        "id": "kanCwpwEVjWO",
        "colab_type": "text"
      },
      "source": [
        "### 3.5 - Selecting highly variable genes\n",
        "\n",
        "Many workflows involve just selecting highly variable genes. Gene variability is defined as the variance relative to the expected variance for a given gene mean, or \"standardized variance\". That is, genes with high mean have naturally higher variance simply due to their magnitude; we are interested in the genes that vary more than one would expect by random chance.\n",
        "\n",
        "You can plot the standardized variance with [`scprep.plot.plot_gene_variability()`](https://scprep.readthedocs.io/en/stable/reference.html#scprep.plot.plot_gene_variability)."
      ]
    },
    {
      "cell_type": "code",
      "metadata": {
        "id": "MwNLyoOqVjWP",
        "colab_type": "code",
        "colab": {
          "base_uri": "https://localhost:8080/",
          "height": 314
        },
        "outputId": "6229a07d-839a-4a54-d3d9-fcf2f7d22fd2"
      },
      "source": [
        "scprep.plot.plot_gene_variability(data_sqrt, percentile=90)"
      ],
      "execution_count": 59,
      "outputs": [
        {
          "output_type": "execute_result",
          "data": {
            "text/plain": [
              "<matplotlib.axes._subplots.AxesSubplot at 0x7f31b88c46a0>"
            ]
          },
          "metadata": {
            "tags": []
          },
          "execution_count": 59
        },
        {
          "output_type": "display_data",
          "data": {
            "image/png": "[encoded data removed]",
            "text/plain": [
              "<Figure size 432x288 with 1 Axes>"
            ]
          },
          "metadata": {
            "tags": [],
            "needs_background": "light"
          }
        }
      ]
    },
    {
      "cell_type": "markdown",
      "metadata": {
        "id": "QBu_X7LbVjWR",
        "colab_type": "text"
      },
      "source": [
        "If you wish to select just the highly variable genes, you can do so with [`scprep.select.highly_variable_genes()`](https://scprep.readthedocs.io/en/stable/reference.html#scprep.select.highly_variable_genes)."
      ]
    },
    {
      "cell_type": "code",
      "metadata": {
        "id": "tMLNTDwmVjWS",
        "colab_type": "code",
        "colab": {}
      },
      "source": [
        "data_hvg = scprep.select.highly_variable_genes(data_sqrt, percentile=90)"
      ],
      "execution_count": 0,
      "outputs": []
    },
    {
      "cell_type": "code",
      "metadata": {
        "id": "VHqKxAyhVjWZ",
        "colab_type": "code",
        "colab": {
          "base_uri": "https://localhost:8080/",
          "height": 34
        },
        "outputId": "45806c3d-f37b-46db-b538-7245ad62bfef"
      },
      "source": [
        "data_hvg.shape"
      ],
      "execution_count": 61,
      "outputs": [
        {
          "output_type": "execute_result",
          "data": {
            "text/plain": [
              "(1740, 309)"
            ]
          },
          "metadata": {
            "tags": []
          },
          "execution_count": 61
        }
      ]
    },
    {
      "cell_type": "markdown",
      "metadata": {
        "id": "qjrxF4i8VjWb",
        "colab_type": "text"
      },
      "source": [
        "Unsurprisingly, we're now left with just 1,800 genes. This reduced size dataset can be useful for, for example, dimensionality reduction and clustering, which we will cover later in the workshop.\n",
        "\n",
        "Finally, let's save the preprocessed data (we keeping all the genes, not just the highly variable ones) for later use."
      ]
    },
    {
      "cell_type": "code",
      "metadata": {
        "id": "u6UuCKLkVjWc",
        "colab_type": "code",
        "colab": {}
      },
      "source": [
        "data_sqrt.to_pickle(\"embryoid_body_data.pickle.gz\")\n",
        "metadata.to_pickle(\"embryoid_body_metadata.pickle.gz\")"
      ],
      "execution_count": 0,
      "outputs": []
    },
    {
      "cell_type": "markdown",
      "metadata": {
        "id": "5AGXxe3WVjWe",
        "colab_type": "text"
      },
      "source": [
        "### Discussion\n",
        "\n",
        "1. Why do we remove cells with high mitochondrial expression?\n",
        "2. Why do we remove genes with non-zero expression in very few cells?\n",
        "3. Why do we normalize expression by library size?\n",
        "4. Why do we apply a sublinear transformation (e.g. `sqrt` or `log`) to the normalized expression?"
      ]
    },
    {
      "cell_type": "markdown",
      "metadata": {
        "id": "RWcFqZJsVjWf",
        "colab_type": "text"
      },
      "source": [
        "## Summary\n",
        "\n",
        "To summarize, we've preprocessed our data as follows:\n",
        "\n",
        "1. Filter by library size to remove empty droplets and doublets\n",
        "2. Combine batches\n",
        "3. Filter out rarely expressed genes\n",
        "4. Filter cells with high mitochrondrial expression\n",
        "5. Normalize by library size\n",
        "6. Square root transform\n",
        "7. (Optional) Select highly variable genes"
      ]
    },
    {
      "cell_type": "markdown",
      "metadata": {
        "id": "UaFEVCceVjWf",
        "colab_type": "text"
      },
      "source": [
        "## Exercise: what happens if you modify the preprocessing workflow?\n",
        "\n",
        "We've summarized the entire preprocessing pipeline below. Choose a step of the preprocessing workflow and modify it. Select different thresholds or remove the step altogether and see what happens. Compare to the others in your group to see the effect of different steps. The last step is to generate a PHATE visualization. Observe how the visualization changes as you modify various cutoffs and thresholds.\n",
        "\n",
        "We'll review visualization tomorrow, but for now you can consult [the PHATE paper](https://doi.org/10.1038/s41587-019-0336-3) if you have questions."
      ]
    },
    {
      "cell_type": "code",
      "metadata": {
        "id": "Vseo7nAqVjWf",
        "colab_type": "code",
        "colab": {}
      },
      "source": [
        "import phate\n",
        "\n",
        "filenames = [\"T0_1A\", \"T2_3B\", \"T4_5C\", \"T6_7D\", \"T8_9E\"]\n",
        "\n",
        "# load batches\n",
        "data_batches = []\n",
        "for filename in filenames:\n",
        "    data_batches.append(scprep.io.load_10X(os.path.join(download_path, \"scRNAseq\", filename), \n",
        "                                           sparse=sparse, gene_labels='both'))\n",
        "\n",
        "# library size filter\n",
        "data = []\n",
        "for batch in data_batches:\n",
        "    batch = scprep.filter.filter_library_size(batch, percentile=(10, 90))\n",
        "    data.append(batch)\n",
        "\n",
        "# combine batches\n",
        "data, sample_labels = scprep.utils.combine_batches(\n",
        "    data, \n",
        "    [\"Day 00-03\", \"Day 06-09\", \"Day 12-15\", \"Day 18-21\", \"Day 24-27\"]\n",
        ")\n",
        "\n",
        "# store library size and put it into a metadata dataframe\n",
        "libsize = scprep.measure.library_size(data)\n",
        "metadata = pd.concat([sample_labels, libsize], axis=1)\n",
        "\n",
        "# filter by mitochrondrial expression\n",
        "data, metadata = scprep.filter.filter_gene_set_expression(\n",
        "    data, metadata, starts_with=\"MT-\",\n",
        "    percentile=90, keep_cells='below', library_size_normalize=True)\n",
        "\n",
        "# remove rare genes\n",
        "data = scprep.filter.filter_rare_genes(data, cutoff=0, min_cells=10)\n",
        "\n",
        "# normalize\n",
        "data = scprep.normalize.library_size_normalize(data)\n",
        "\n",
        "# transform\n",
        "data = scprep.transform.sqrt(data)\n",
        "\n",
        "# highly variable genes\n",
        "data_hvg = scprep.select.highly_variable_genes(data, percentile=90)\n",
        "\n",
        "# dimensionality reduction for visualization\n",
        "data_phate = phate.PHATE(verbose=False).fit_transform(data_hvg)"
      ],
      "execution_count": 0,
      "outputs": []
    },
    {
      "cell_type": "markdown",
      "metadata": {
        "id": "jVm2Rg8SVjWi",
        "colab_type": "text"
      },
      "source": [
        "#### Plot the results\n",
        "\n",
        "We show the PHATE plot below with the following colorings:\n",
        "\n",
        "* Time point - we expect the time points to show a progression from early to late, with late points showing more heterogeneity\n",
        "* Library size - ideally there is relatively little variation between cells due to library size\n",
        "* HAND1 - this gene is a marker of cardiac progenitors\n",
        "* SOX2 - this gene is a marker of neural crest cells\n",
        "* Mitochondrial expression - this is a marker of apoptosis"
      ]
    },
    {
      "cell_type": "code",
      "metadata": {
        "id": "sTA1Si4GVjWi",
        "colab_type": "code",
        "colab": {}
      },
      "source": [
        "fig, axes = plt.subplots(1, 5, figsize=(20, 4))\n",
        "scprep.plot.scatter2d(data_phate, c=metadata['sample_labels'], title='Time',\n",
        "                      ticks=False, ax=axes[0], label_prefix='PHATE')\n",
        "scprep.plot.scatter2d(data_phate, c=metadata['library_size'], title='Library Size', cmap_scale='log',\n",
        "                      ticks=False, ax=axes[1], label_prefix='PHATE')\n",
        "scprep.plot.scatter2d(data_phate, c=scprep.select.select_cols(data, exact_word=\"HAND1\"), title='HAND1',\n",
        "                      ticks=False, ax=axes[2], label_prefix='PHATE')\n",
        "scprep.plot.scatter2d(data_phate, c=scprep.select.select_cols(data, exact_word=\"SOX2\"), title='SOX2',\n",
        "                      ticks=False, ax=axes[3], label_prefix='PHATE')\n",
        "scprep.plot.scatter2d(data_phate, c=scprep.measure.gene_set_expression(data, starts_with=\"MT-\"), title='Mitochondrial',\n",
        "                      ticks=False, ax=axes[4], label_prefix='PHATE')\n",
        "plt.tight_layout()"
      ],
      "execution_count": 0,
      "outputs": []
    },
    {
      "cell_type": "markdown",
      "metadata": {
        "id": "9GlyxWDEVjWl",
        "colab_type": "text"
      },
      "source": [
        "### Discussion\n",
        "\n",
        "1. Which parts of the preprocessing workflow had the largest effect on the output?\n",
        "\n",
        "2. Where do the cells with high mitochondrial expression lie on the plot when they are not filtered out? Can you think of a situation where this might be different?\n",
        "\n",
        "3. Which preprocessing steps affect the visibility of the cardiac and neural crest populations?\n",
        "\n",
        "### Question responses and survey\n",
        "\n",
        "Once you've finished the notebook, please take a 2-3 minutes to anonymously submit your responses and complete our daily course survey at the following URL: [https://forms.gle/ufCsKgp2jd5KD2Dv5](https://forms.gle/ufCsKgp2jd5KD2Dv5)"
      ]
    }
  ]
}