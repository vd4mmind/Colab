{
  "nbformat": 4,
  "nbformat_minor": 0,
  "metadata": {
    "colab": {
      "name": "Day4_of 00_Gene_Relationships_in_Treutlein_data.ipynb",
      "provenance": [],
      "include_colab_link": true
    },
    "kernelspec": {
      "display_name": "Python 3",
      "language": "python",
      "name": "python3"
    },
    "language_info": {
      "codemirror_mode": {
        "name": "ipython",
        "version": 3
      },
      "file_extension": ".py",
      "mimetype": "text/x-python",
      "name": "python",
      "nbconvert_exporter": "python",
      "pygments_lexer": "ipython3",
      "version": "3.8.1"
    }
  },
  "cells": [
    {
      "cell_type": "markdown",
      "metadata": {
        "id": "view-in-github",
        "colab_type": "text"
      },
      "source": [
        "<a href=\"https://colab.research.google.com/github/vd4mmind/googleColab/blob/ML_scRNASeq_SK_lab_2020/Day4_of_00_Gene_Relationships_in_Treutlein_data.ipynb\" target=\"_parent\"><img src=\"https://colab.research.google.com/assets/colab-badge.svg\" alt=\"Open In Colab\"/></a>"
      ]
    },
    {
      "cell_type": "code",
      "metadata": {
        "colab_type": "code",
        "id": "vizATfWJ6Y0u",
        "colab": {
          "base_uri": "https://localhost:8080/",
          "height": 1000
        },
        "outputId": "bf953e64-e62a-45ae-9225-d2ad1c95a303"
      },
      "source": [
        "!pip install phate scprep gseapy"
      ],
      "execution_count": 1,
      "outputs": [
        {
          "output_type": "stream",
          "text": [
            "Collecting phate\n",
            "  Downloading https://files.pythonhosted.org/packages/c6/62/b98433d2b220ad1f106dde89d2e6d753d66b9cc3a914e1245c94556edad8/phate-1.0.4-py3-none-any.whl\n",
            "Collecting scprep\n",
            "\u001b[?25l  Downloading https://files.pythonhosted.org/packages/73/38/0a4fe0cd17dd0b7e859718a769b1e799467098709b80b96175f43b098ca6/scprep-1.0.5.post2-py3-none-any.whl (98kB)\n",
            "\u001b[K     |████████████████████████████████| 102kB 3.1MB/s \n",
            "\u001b[?25hCollecting gseapy\n",
            "\u001b[?25l  Downloading https://files.pythonhosted.org/packages/79/ac/ffc6c0b59b41d5c61683ee6c3fd331ede8cfcd805aaae2fe9f5796b685d3/gseapy-0.9.18-py3-none-any.whl (523kB)\n",
            "\u001b[K     |████████████████████████████████| 532kB 8.5MB/s \n",
            "\u001b[?25hRequirement already satisfied: scikit-learn>=0.20.0 in /usr/local/lib/python3.6/dist-packages (from phate) (0.22.2.post1)\n",
            "Requirement already satisfied: matplotlib>=3.0 in /usr/local/lib/python3.6/dist-packages (from phate) (3.2.1)\n",
            "Requirement already satisfied: future in /usr/local/lib/python3.6/dist-packages (from phate) (0.16.0)\n",
            "Collecting graphtools>=1.3.1\n",
            "\u001b[?25l  Downloading https://files.pythonhosted.org/packages/0f/a4/6219220863d4b573f5172838aafebe6c8ea7c640005f78f22f5a9d7b1879/graphtools-1.5.1-py3-none-any.whl (45kB)\n",
            "\u001b[K     |████████████████████████████████| 51kB 7.1MB/s \n",
            "\u001b[?25hRequirement already satisfied: numpy>=1.16.0 in /usr/local/lib/python3.6/dist-packages (from phate) (1.18.4)\n",
            "Collecting s-gd2>=1.5\n",
            "\u001b[?25l  Downloading https://files.pythonhosted.org/packages/9d/42/019a5b46d92181c1cb0726a146b5460e7497f9f860d4def218c28b5f7ab6/s_gd2-1.7-cp36-cp36m-manylinux2010_x86_64.whl (415kB)\n",
            "\u001b[K     |████████████████████████████████| 419kB 12.8MB/s \n",
            "\u001b[?25hCollecting tasklogger>=1.0\n",
            "  Downloading https://files.pythonhosted.org/packages/5d/6b/cb2a724eff19829a0ada0217f403f54fca1e48c7de6fc3383e0a8b8fa121/tasklogger-1.0.0-py3-none-any.whl\n",
            "Collecting Deprecated\n",
            "  Downloading https://files.pythonhosted.org/packages/76/a1/05d7f62f956d77b23a640efc650f80ce24483aa2f85a09c03fb64f49e879/Deprecated-1.2.10-py2.py3-none-any.whl\n",
            "Requirement already satisfied: scipy>=1.1.0 in /usr/local/lib/python3.6/dist-packages (from phate) (1.4.1)\n",
            "Requirement already satisfied: pandas>=0.25 in /usr/local/lib/python3.6/dist-packages (from scprep) (1.0.3)\n",
            "Requirement already satisfied: decorator>=4.3.0 in /usr/local/lib/python3.6/dist-packages (from scprep) (4.4.2)\n",
            "Collecting bioservices\n",
            "\u001b[?25l  Downloading https://files.pythonhosted.org/packages/a3/e0/20f2f5cdecb36aa888dd79964949d64d86cd67902f733935113f194a790f/bioservices-1.7.4.tar.gz (212kB)\n",
            "\u001b[K     |████████████████████████████████| 215kB 14.6MB/s \n",
            "\u001b[?25hRequirement already satisfied: joblib in /usr/local/lib/python3.6/dist-packages (from gseapy) (0.15.1)\n",
            "Requirement already satisfied: requests in /usr/local/lib/python3.6/dist-packages (from gseapy) (2.23.0)\n",
            "Requirement already satisfied: cycler>=0.10 in /usr/local/lib/python3.6/dist-packages (from matplotlib>=3.0->phate) (0.10.0)\n",
            "Requirement already satisfied: kiwisolver>=1.0.1 in /usr/local/lib/python3.6/dist-packages (from matplotlib>=3.0->phate) (1.2.0)\n",
            "Requirement already satisfied: pyparsing!=2.0.4,!=2.1.2,!=2.1.6,>=2.0.1 in /usr/local/lib/python3.6/dist-packages (from matplotlib>=3.0->phate) (2.4.7)\n",
            "Requirement already satisfied: python-dateutil>=2.1 in /usr/local/lib/python3.6/dist-packages (from matplotlib>=3.0->phate) (2.8.1)\n",
            "Collecting pygsp>=0.5.1\n",
            "\u001b[?25l  Downloading https://files.pythonhosted.org/packages/d4/89/2f4aa73cccf12bec5179ac5d52a68b508120c838b7e5d456f5ea0c8beade/PyGSP-0.5.1-py2.py3-none-any.whl (1.8MB)\n",
            "\u001b[K     |████████████████████████████████| 1.8MB 16.7MB/s \n",
            "\u001b[?25hRequirement already satisfied: wrapt<2,>=1.10 in /usr/local/lib/python3.6/dist-packages (from Deprecated->phate) (1.12.1)\n",
            "Requirement already satisfied: pytz>=2017.2 in /usr/local/lib/python3.6/dist-packages (from pandas>=0.25->scprep) (2018.9)\n",
            "Collecting grequests\n",
            "  Downloading https://files.pythonhosted.org/packages/ed/4c/926fe81584bb9139511ec6490a924362dcc49d3d33a7fa20a7dc6515c266/grequests-0.6.0-py3-none-any.whl\n",
            "Collecting requests_cache\n",
            "  Downloading https://files.pythonhosted.org/packages/7f/55/9b1c40eb83c16d8fc79c5f6c2ffade04208b080670fbfc35e0a5effb5a92/requests_cache-0.5.2-py2.py3-none-any.whl\n",
            "Collecting easydev>=0.9.36\n",
            "\u001b[?25l  Downloading https://files.pythonhosted.org/packages/e3/cf/1fe481564e7e9bbd7f65026be2b8b2d3a013022ef666c56ebc0fa875d3cc/easydev-0.9.38.tar.gz (53kB)\n",
            "\u001b[K     |████████████████████████████████| 61kB 6.6MB/s \n",
            "\u001b[?25hRequirement already satisfied: beautifulsoup4 in /usr/local/lib/python3.6/dist-packages (from bioservices->gseapy) (4.6.3)\n",
            "Collecting xmltodict\n",
            "  Downloading https://files.pythonhosted.org/packages/28/fd/30d5c1d3ac29ce229f6bdc40bbc20b28f716e8b363140c26eff19122d8a5/xmltodict-0.12.0-py2.py3-none-any.whl\n",
            "Requirement already satisfied: lxml in /usr/local/lib/python3.6/dist-packages (from bioservices->gseapy) (4.2.6)\n",
            "Collecting suds-jurko\n",
            "\u001b[?25l  Downloading https://files.pythonhosted.org/packages/bd/6f/54fbf0999a606680d27c69b1ad12dfff62768ecb9fe48524cebda6eb4423/suds-jurko-0.6.tar.bz2 (143kB)\n",
            "\u001b[K     |████████████████████████████████| 153kB 20.2MB/s \n",
            "\u001b[?25hCollecting appdirs\n",
            "  Downloading https://files.pythonhosted.org/packages/3b/00/2344469e2084fb287c2e0b57b72910309874c3245463acd6cf5e3db69324/appdirs-1.4.4-py2.py3-none-any.whl\n",
            "Collecting colorlog\n",
            "  Downloading https://files.pythonhosted.org/packages/00/0d/22c73c2eccb21dd3498df7d22c0b1d4a30f5a5fb3feb64e1ce06bc247747/colorlog-4.1.0-py2.py3-none-any.whl\n",
            "Requirement already satisfied: idna<3,>=2.5 in /usr/local/lib/python3.6/dist-packages (from requests->gseapy) (2.9)\n",
            "Requirement already satisfied: certifi>=2017.4.17 in /usr/local/lib/python3.6/dist-packages (from requests->gseapy) (2020.4.5.1)\n",
            "Requirement already satisfied: urllib3!=1.25.0,!=1.25.1,<1.26,>=1.21.1 in /usr/local/lib/python3.6/dist-packages (from requests->gseapy) (1.24.3)\n",
            "Requirement already satisfied: chardet<4,>=3.0.2 in /usr/local/lib/python3.6/dist-packages (from requests->gseapy) (3.0.4)\n",
            "Requirement already satisfied: six in /usr/local/lib/python3.6/dist-packages (from cycler>=0.10->matplotlib>=3.0->phate) (1.12.0)\n",
            "Collecting gevent\n",
            "\u001b[?25l  Downloading https://files.pythonhosted.org/packages/2e/db/5a9852b2940fc45d134d332fc277a39a7eb365522d1a99452120cd9e9585/gevent-20.5.1-cp36-cp36m-manylinux2010_x86_64.whl (5.2MB)\n",
            "\u001b[K     |████████████████████████████████| 5.2MB 26.7MB/s \n",
            "\u001b[?25hCollecting colorama\n",
            "  Downloading https://files.pythonhosted.org/packages/c9/dc/45cdef1b4d119eb96316b3117e6d5708a08029992b2fee2c143c7a0a5cc5/colorama-0.4.3-py2.py3-none-any.whl\n",
            "Requirement already satisfied: pexpect in /usr/local/lib/python3.6/dist-packages (from easydev>=0.9.36->bioservices->gseapy) (4.8.0)\n",
            "Requirement already satisfied: setuptools in /usr/local/lib/python3.6/dist-packages (from gevent->grequests->bioservices->gseapy) (46.3.0)\n",
            "Collecting greenlet>=0.4.14; platform_python_implementation == \"CPython\"\n",
            "\u001b[?25l  Downloading https://files.pythonhosted.org/packages/bf/45/142141aa47e01a5779f0fa5a53b81f8379ce8f2b1cd13df7d2f1d751ae42/greenlet-0.4.15-cp36-cp36m-manylinux1_x86_64.whl (41kB)\n",
            "\u001b[K     |████████████████████████████████| 51kB 7.5MB/s \n",
            "\u001b[?25hCollecting zope.interface\n",
            "\u001b[?25l  Downloading https://files.pythonhosted.org/packages/57/33/565274c28a11af60b7cfc0519d46bde4125fcd7d32ebc0a81b480d0e8da6/zope.interface-5.1.0-cp36-cp36m-manylinux2010_x86_64.whl (234kB)\n",
            "\u001b[K     |████████████████████████████████| 235kB 37.5MB/s \n",
            "\u001b[?25hCollecting zope.event\n",
            "  Downloading https://files.pythonhosted.org/packages/c5/96/361edb421a077a4c208b4a5c212737d78ae03ce67fbbcd01621c49f332d1/zope.event-4.4-py2.py3-none-any.whl\n",
            "Requirement already satisfied: ptyprocess>=0.5 in /usr/local/lib/python3.6/dist-packages (from pexpect->easydev>=0.9.36->bioservices->gseapy) (0.6.0)\n",
            "Building wheels for collected packages: bioservices, easydev, suds-jurko\n",
            "  Building wheel for bioservices (setup.py) ... \u001b[?25l\u001b[?25hdone\n",
            "  Created wheel for bioservices: filename=bioservices-1.7.4-cp36-none-any.whl size=218907 sha256=d823ee9c584df274554f52e0414b78415690a5fae073bd90c43da94e0cab86de\n",
            "  Stored in directory: /root/.cache/pip/wheels/ca/b9/e9/51a32c2cbaa43565ace5090261e29a8237b902995f1a2d0985\n",
            "  Building wheel for easydev (setup.py) ... \u001b[?25l\u001b[?25hdone\n",
            "  Created wheel for easydev: filename=easydev-0.9.38-cp36-none-any.whl size=72215 sha256=e3e53e89cf8a0f2df4d87d18084c6b078c566529e0b7e35318e22241b35a3dad\n",
            "  Stored in directory: /root/.cache/pip/wheels/38/93/b7/c4ee5cf6eb4011f7db6467465fe2fb280bbb224a61400bd8a6\n",
            "  Building wheel for suds-jurko (setup.py) ... \u001b[?25l\u001b[?25hdone\n",
            "  Created wheel for suds-jurko: filename=suds_jurko-0.6-cp36-none-any.whl size=454759 sha256=7e3a4f409114a6d93598aff5b8d8b06253bc8b42e27eea58e5d9a198d9088123\n",
            "  Stored in directory: /root/.cache/pip/wheels/12/68/53/d3902c054e32115da1d45bac442a547a071a86a65db4d77027\n",
            "Successfully built bioservices easydev suds-jurko\n",
            "Installing collected packages: pygsp, tasklogger, Deprecated, graphtools, scprep, s-gd2, phate, greenlet, zope.interface, zope.event, gevent, grequests, requests-cache, colorama, colorlog, easydev, xmltodict, suds-jurko, appdirs, bioservices, gseapy\n",
            "Successfully installed Deprecated-1.2.10 appdirs-1.4.4 bioservices-1.7.4 colorama-0.4.3 colorlog-4.1.0 easydev-0.9.38 gevent-20.5.1 graphtools-1.5.1 greenlet-0.4.15 grequests-0.6.0 gseapy-0.9.18 phate-1.0.4 pygsp-0.5.1 requests-cache-0.5.2 s-gd2-1.7 scprep-1.0.5.post2 suds-jurko-0.6 tasklogger-1.0.0 xmltodict-0.12.0 zope.event-4.4 zope.interface-5.1.0\n"
          ],
          "name": "stdout"
        }
      ]
    },
    {
      "cell_type": "code",
      "metadata": {
        "colab_type": "code",
        "id": "J18q9cx06Y0e",
        "colab": {}
      },
      "source": [
        "import scprep"
      ],
      "execution_count": 0,
      "outputs": []
    },
    {
      "cell_type": "code",
      "metadata": {
        "colab_type": "code",
        "id": "hXrC7k3cL8Fw",
        "colab": {
          "base_uri": "https://localhost:8080/",
          "height": 1000
        },
        "outputId": "3c8468f5-610f-4bdd-d315-d5a9860f690c"
      },
      "source": [
        "scprep.io.download.download_google_drive(\"10FpYcwqXBrG_K0p5Cq936lmH6F9sO70x\", 'r_packages.tar.gz')\n",
        "!tar xzf r_packages.tar.gz  -C /usr/local/lib/R/site-library/ && rm r_packages.tar.gz\n",
        "!apt-get install -yqq libgsl-dev=2.4+dfsg-6\n",
        "!pip install --upgrade rpy2\n",
        "!R -e \"BiocManager::install('slingshot')\""
      ],
      "execution_count": 3,
      "outputs": [
        {
          "output_type": "stream",
          "text": [
            "Selecting previously unselected package libgslcblas0:amd64.\n",
            "(Reading database ... 144433 files and directories currently installed.)\n",
            "Preparing to unpack .../libgslcblas0_2.4+dfsg-6_amd64.deb ...\n",
            "Unpacking libgslcblas0:amd64 (2.4+dfsg-6) ...\n",
            "Selecting previously unselected package libgsl23:amd64.\n",
            "Preparing to unpack .../libgsl23_2.4+dfsg-6_amd64.deb ...\n",
            "Unpacking libgsl23:amd64 (2.4+dfsg-6) ...\n",
            "Selecting previously unselected package libgsl-dev.\n",
            "Preparing to unpack .../libgsl-dev_2.4+dfsg-6_amd64.deb ...\n",
            "Unpacking libgsl-dev (2.4+dfsg-6) ...\n",
            "Setting up libgslcblas0:amd64 (2.4+dfsg-6) ...\n",
            "Setting up libgsl23:amd64 (2.4+dfsg-6) ...\n",
            "Setting up libgsl-dev (2.4+dfsg-6) ...\n",
            "Processing triggers for man-db (2.8.3-2ubuntu0.1) ...\n",
            "Processing triggers for libc-bin (2.27-3ubuntu1) ...\n",
            "/sbin/ldconfig.real: /usr/local/lib/python3.6/dist-packages/ideep4py/lib/libmkldnn.so.0 is not a symbolic link\n",
            "\n",
            "Collecting rpy2\n",
            "\u001b[?25l  Downloading https://files.pythonhosted.org/packages/e2/ec/5f88d44ce8a0c721cd1a78f56717d765e53cf205730d8af1cc3482749060/rpy2-3.3.3.tar.gz (173kB)\n",
            "\u001b[K     |████████████████████████████████| 174kB 2.5MB/s \n",
            "\u001b[?25hRequirement already satisfied, skipping upgrade: pytest in /usr/local/lib/python3.6/dist-packages (from rpy2) (3.6.4)\n",
            "Requirement already satisfied, skipping upgrade: jinja2 in /usr/local/lib/python3.6/dist-packages (from rpy2) (2.11.2)\n",
            "Requirement already satisfied, skipping upgrade: pytz in /usr/local/lib/python3.6/dist-packages (from rpy2) (2018.9)\n",
            "Requirement already satisfied, skipping upgrade: tzlocal in /usr/local/lib/python3.6/dist-packages (from rpy2) (1.5.1)\n",
            "Requirement already satisfied, skipping upgrade: cffi>=1.10.0 in /usr/local/lib/python3.6/dist-packages (from rpy2) (1.14.0)\n",
            "Requirement already satisfied, skipping upgrade: more-itertools>=4.0.0 in /usr/local/lib/python3.6/dist-packages (from pytest->rpy2) (8.3.0)\n",
            "Requirement already satisfied, skipping upgrade: atomicwrites>=1.0 in /usr/local/lib/python3.6/dist-packages (from pytest->rpy2) (1.4.0)\n",
            "Requirement already satisfied, skipping upgrade: py>=1.5.0 in /usr/local/lib/python3.6/dist-packages (from pytest->rpy2) (1.8.1)\n",
            "Requirement already satisfied, skipping upgrade: pluggy<0.8,>=0.5 in /usr/local/lib/python3.6/dist-packages (from pytest->rpy2) (0.7.1)\n",
            "Requirement already satisfied, skipping upgrade: attrs>=17.4.0 in /usr/local/lib/python3.6/dist-packages (from pytest->rpy2) (19.3.0)\n",
            "Requirement already satisfied, skipping upgrade: six>=1.10.0 in /usr/local/lib/python3.6/dist-packages (from pytest->rpy2) (1.12.0)\n",
            "Requirement already satisfied, skipping upgrade: setuptools in /usr/local/lib/python3.6/dist-packages (from pytest->rpy2) (46.3.0)\n",
            "Requirement already satisfied, skipping upgrade: MarkupSafe>=0.23 in /usr/local/lib/python3.6/dist-packages (from jinja2->rpy2) (1.1.1)\n",
            "Requirement already satisfied, skipping upgrade: pycparser in /usr/local/lib/python3.6/dist-packages (from cffi>=1.10.0->rpy2) (2.20)\n",
            "Building wheels for collected packages: rpy2\n",
            "  Building wheel for rpy2 (setup.py) ... \u001b[?25l\u001b[?25hdone\n",
            "  Created wheel for rpy2: filename=rpy2-3.3.3-cp36-cp36m-linux_x86_64.whl size=273643 sha256=c4149623989fa74609732b47228162ae1af4a88bea371c288d6c13a9d9885bca\n",
            "  Stored in directory: /root/.cache/pip/wheels/fa/be/64/1345ec233dd5757a3af859689c6b96b1d1da435805adc526a4\n",
            "Successfully built rpy2\n",
            "Installing collected packages: rpy2\n",
            "  Found existing installation: rpy2 3.2.7\n",
            "    Uninstalling rpy2-3.2.7:\n",
            "      Successfully uninstalled rpy2-3.2.7\n",
            "Successfully installed rpy2-3.3.3\n",
            "\n",
            "R version 3.6.3 (2020-02-29) -- \"Holding the Windsock\"\n",
            "Copyright (C) 2020 The R Foundation for Statistical Computing\n",
            "Platform: x86_64-pc-linux-gnu (64-bit)\n",
            "\n",
            "R is free software and comes with ABSOLUTELY NO WARRANTY.\n",
            "You are welcome to redistribute it under certain conditions.\n",
            "Type 'license()' or 'licence()' for distribution details.\n",
            "\n",
            "  Natural language support but running in an English locale\n",
            "\n",
            "R is a collaborative project with many contributors.\n",
            "Type 'contributors()' for more information and\n",
            "'citation()' on how to cite R or R packages in publications.\n",
            "\n",
            "Type 'demo()' for some demos, 'help()' for on-line help, or\n",
            "'help.start()' for an HTML browser interface to help.\n",
            "Type 'q()' to quit R.\n",
            "\n",
            "> BiocManager::install('slingshot')\n",
            "Bioconductor version 3.10 (BiocManager 1.30.10), R 3.6.3 (2020-02-29)\n",
            "Installing package(s) 'slingshot'\n",
            "trying URL 'https://bioconductor.org/packages/3.10/bioc/src/contrib/slingshot_1.4.0.tar.gz'\n",
            "Content type 'application/x-gzip' length 1493399 bytes (1.4 MB)\n",
            "==================================================\n",
            "downloaded 1.4 MB\n",
            "\n",
            "* installing *source* package ‘slingshot’ ...\n",
            "** using staged installation\n",
            "** R\n",
            "** data\n",
            "** inst\n",
            "** byte-compile and prepare package for lazy loading\n",
            "in method for ‘slingshot’ with signature ‘data=\"ClusterExperiment\"’: no definition for class “ClusterExperiment”\n",
            "** help\n",
            "*** installing help indices\n",
            "** building package indices\n",
            "** installing vignettes\n",
            "** testing if installed package can be loaded from temporary location\n",
            "** testing if installed package can be loaded from final location\n",
            "** testing if installed package keeps a record of temporary installation path\n",
            "* DONE (slingshot)\n",
            "\n",
            "The downloaded source packages are in\n",
            "\t‘/tmp/RtmpoBFt2D/downloaded_packages’\n",
            "Old packages: 'backports', 'curl', 'dbplyr', 'ellipsis', 'farver', 'glue',\n",
            "  'haven', 'modelr', 'processx', 'rex', 'rprojroot', 'rversions',\n",
            "  'systemfonts', 'tidyr', 'tinytex', 'xfun', 'nlme'\n",
            "> \n",
            "> \n"
          ],
          "name": "stdout"
        }
      ]
    },
    {
      "cell_type": "code",
      "metadata": {
        "colab_type": "code",
        "id": "XH8NAXd-6Y02",
        "colab": {
          "base_uri": "https://localhost:8080/",
          "height": 68
        },
        "outputId": "9f100bd4-4a26-4967-a0aa-caf4efe6210f"
      },
      "source": [
        "import pandas as pd\n",
        "import numpy as np\n",
        "\n",
        "import phate\n",
        "import scprep\n",
        "import gseapy\n",
        "\n",
        "import matplotlib.pyplot as plt\n",
        "import seaborn as sns\n",
        "\n",
        "import time, os, tarfile"
      ],
      "execution_count": 4,
      "outputs": [
        {
          "output_type": "stream",
          "text": [
            "Creating directory /root/.config/bioservices \n"
          ],
          "name": "stdout"
        },
        {
          "output_type": "stream",
          "text": [
            "/usr/local/lib/python3.6/dist-packages/statsmodels/tools/_testing.py:19: FutureWarning: pandas.util.testing is deprecated. Use the functions in the public API at pandas.testing instead.\n",
            "  import pandas.util.testing as tm\n"
          ],
          "name": "stderr"
        }
      ]
    },
    {
      "cell_type": "markdown",
      "metadata": {
        "colab_type": "text",
        "id": "GARHxY-P6Y0-"
      },
      "source": [
        "## Identifying branch-specific gene trends in the Treutlein fibroblast data\n",
        "\n",
        "In this exercise, we will Slingshot on a dataset of 392 cells generated from trans-differentiating fibroblasts from [Treutlein et al. _Nature_. 2016](http://doi.org/10.1038/nature18323). This data was already preprocessed and downloaded from the [Dynverse quickstart tutorial](https://dynverse.org/users/2-quick_start/).\n",
        "\n",
        "Briefly, a variety of transcription factors were overexpressed in Mouse Embryonic Fibroblasts (MEFs) to induce neuronal differentiation. Cells were sampled at several intervals over 22 days of differentation and sequenced using the Fluidigm C1 system and the SMART-seq protocol.\n",
        "\n",
        "Once we have identified the three branches in this dataset, we are going to use DREMI to identify branch-specific trends in gene expression."
      ]
    },
    {
      "cell_type": "markdown",
      "metadata": {
        "colab_type": "text",
        "id": "ORUD6Zs26Y1B"
      },
      "source": [
        "## Loading and visualizing the data"
      ]
    },
    {
      "cell_type": "markdown",
      "metadata": {
        "colab_type": "text",
        "id": "Kg9BJ5gf6Y1D"
      },
      "source": [
        "#### Download data from Google Drive\n",
        "\n",
        "Alternatively, you may load your own data by replacing the Google Drive file ids with your own file ids.\n",
        "\n",
        "Note that if you do, you will likely not have annotated cell types. Replace all references to `metadata['annotated_clusters']` with an entry from `metadata`, or your favorite gene."
      ]
    },
    {
      "cell_type": "code",
      "metadata": {
        "colab_type": "code",
        "id": "gYkYgWqV6Y1F",
        "colab": {}
      },
      "source": [
        "scprep.io.download.download_google_drive(id='1DDZkLhC-VlTi-_J7Mxc9_ZmKTuRMfXTG',\n",
        "                                         destination='data.pickle.gz')\n",
        "scprep.io.download.download_google_drive(id='1NajeoociZ6FlrW110jFbe___htfhSlNv',\n",
        "                                         destination='metadata.pickle.gz')\n",
        "data = pd.read_pickle('data.pickle.gz')\n",
        "metadata = pd.read_pickle('metadata.pickle.gz')"
      ],
      "execution_count": 0,
      "outputs": []
    },
    {
      "cell_type": "markdown",
      "metadata": {
        "colab_type": "text",
        "id": "wMlvR2pF6Y1T"
      },
      "source": [
        "#### Run PHATE"
      ]
    },
    {
      "cell_type": "code",
      "metadata": {
        "colab_type": "code",
        "id": "-rx3ZXff6Y1U",
        "colab": {
          "base_uri": "https://localhost:8080/",
          "height": 323
        },
        "outputId": "24c9b40e-59ee-4013-b2ad-c3e1131680e7"
      },
      "source": [
        "phate_op = phate.PHATE(knn=5, n_jobs=-2)\n",
        "\n",
        "data_phate = phate_op.fit_transform(data)\n",
        "data_phate = pd.DataFrame(data_phate, index=data.index)"
      ],
      "execution_count": 6,
      "outputs": [
        {
          "output_type": "stream",
          "text": [
            "Calculating PHATE...\n",
            "  Running PHATE on 392 observations and 2000 variables.\n",
            "  Calculating graph and diffusion operator...\n",
            "    Calculating PCA...\n",
            "    Calculated PCA in 0.19 seconds.\n",
            "    Calculating KNN search...\n",
            "    Calculated KNN search in 0.04 seconds.\n",
            "    Calculating affinities...\n",
            "    Calculated affinities in 0.02 seconds.\n",
            "  Calculated graph and diffusion operator in 0.28 seconds.\n",
            "  Calculating optimal t...\n",
            "    Automatically selected t = 17\n",
            "  Calculated optimal t in 0.08 seconds.\n",
            "  Calculating diffusion potential...\n",
            "  Calculated diffusion potential in 0.03 seconds.\n",
            "  Calculating metric MDS...\n",
            "  Calculated metric MDS in 0.19 seconds.\n",
            "Calculated PHATE in 0.60 seconds.\n"
          ],
          "name": "stdout"
        }
      ]
    },
    {
      "cell_type": "markdown",
      "metadata": {
        "colab_type": "text",
        "id": "T6KfVieA6Y1d"
      },
      "source": [
        "## Running Slingshot\n",
        "\n",
        "Here we're just going to run the minimal code to run Slingshot with five clusters. We'll use PHATE clustering, which runs k-means on the PHATE diffusion potential, and generates results similar to spectral clustering. For a more in depth tutorial on Slingshot, please see the TrajectoryInference series."
      ]
    },
    {
      "cell_type": "markdown",
      "metadata": {
        "colab_type": "text",
        "id": "w7IKd2B_6Y1e"
      },
      "source": [
        "#### Generate Clusters"
      ]
    },
    {
      "cell_type": "code",
      "metadata": {
        "colab_type": "code",
        "id": "fieiesdf6Y1f",
        "colab": {}
      },
      "source": [
        "clusters = phate.cluster.kmeans(phate_op, n_clusters=5)\n",
        "metadata['cluster'] = clusters"
      ],
      "execution_count": 0,
      "outputs": []
    },
    {
      "cell_type": "code",
      "metadata": {
        "colab_type": "code",
        "id": "ksGE7zg_6Y1k",
        "colab": {
          "base_uri": "https://localhost:8080/",
          "height": 369
        },
        "outputId": "7fdf3a47-81a5-4bc0-b805-bfdcb6f01b6e"
      },
      "source": [
        "ax = scprep.plot.scatter2d(data_phate, c=metadata['cluster'],\n",
        "                 label_prefix='PHATE', ticks=None,\n",
        "                 title='PHATE clusters', legend_anchor=(1,1),\n",
        "                 figsize=(7,5))"
      ],
      "execution_count": 8,
      "outputs": [
        {
          "output_type": "display_data",
          "data": {
            "image/png": "[encoded data removed]",
            "text/plain": [
              "<Figure size 504x360 with 1 Axes>"
            ]
          },
          "metadata": {
            "tags": []
          }
        }
      ]
    },
    {
      "cell_type": "markdown",
      "metadata": {
        "colab_type": "text",
        "id": "mXSgIlW-6Y1q"
      },
      "source": [
        "#### Run Slingshot"
      ]
    },
    {
      "cell_type": "code",
      "metadata": {
        "colab_type": "code",
        "id": "1EhQrfuC6Y1t",
        "colab": {
          "base_uri": "https://localhost:8080/",
          "height": 34
        },
        "outputId": "1e9f880b-9ee3-44d6-8030-5338f5f32a64"
      },
      "source": [
        "results = scprep.run.Slingshot(data_phate, metadata['cluster'])"
      ],
      "execution_count": 9,
      "outputs": [
        {
          "output_type": "stream",
          "text": [
            "R[write to console]: Using full covariance matrix\n"
          ],
          "name": "stderr"
        }
      ]
    },
    {
      "cell_type": "markdown",
      "metadata": {
        "colab_type": "text",
        "id": "tXCbWNnD6Y1y"
      },
      "source": [
        "#### Grab output from `results` dictionary"
      ]
    },
    {
      "cell_type": "code",
      "metadata": {
        "colab_type": "code",
        "id": "gKEw6UAn6Y1z",
        "colab": {
          "base_uri": "https://localhost:8080/",
          "height": 34
        },
        "outputId": "9b831f34-6aab-4a35-c359-8abf7281e95c"
      },
      "source": [
        "results.keys()"
      ],
      "execution_count": 10,
      "outputs": [
        {
          "output_type": "execute_result",
          "data": {
            "text/plain": [
              "dict_keys(['pseudotime', 'curves', 'branch'])"
            ]
          },
          "metadata": {
            "tags": []
          },
          "execution_count": 10
        }
      ]
    },
    {
      "cell_type": "code",
      "metadata": {
        "colab_type": "code",
        "id": "JflvJrgn6Y13",
        "colab": {
          "base_uri": "https://localhost:8080/",
          "height": 235
        },
        "outputId": "824e47b6-4b30-4b18-f366-9e222e7cc7d6"
      },
      "source": [
        "pseudotime = results['pseudotime']\n",
        "metadata['slingshot1'] = pseudotime.iloc[:,0]\n",
        "metadata['slingshot2'] = pseudotime.iloc[:,1]\n",
        "\n",
        "metadata['slingshot_branch'] = results['branch']\n",
        "metadata.head()"
      ],
      "execution_count": 11,
      "outputs": [
        {
          "output_type": "execute_result",
          "data": {
            "text/html": [
              "<div>\n",
              "<style scoped>\n",
              "    .dataframe tbody tr th:only-of-type {\n",
              "        vertical-align: middle;\n",
              "    }\n",
              "\n",
              "    .dataframe tbody tr th {\n",
              "        vertical-align: top;\n",
              "    }\n",
              "\n",
              "    .dataframe thead th {\n",
              "        text-align: right;\n",
              "    }\n",
              "</style>\n",
              "<table border=\"1\" class=\"dataframe\">\n",
              "  <thead>\n",
              "    <tr style=\"text-align: right;\">\n",
              "      <th></th>\n",
              "      <th>annotated_clusters</th>\n",
              "      <th>cluster</th>\n",
              "      <th>slingshot1</th>\n",
              "      <th>slingshot2</th>\n",
              "      <th>slingshot_branch</th>\n",
              "    </tr>\n",
              "    <tr>\n",
              "      <th>0</th>\n",
              "      <th></th>\n",
              "      <th></th>\n",
              "      <th></th>\n",
              "      <th></th>\n",
              "      <th></th>\n",
              "    </tr>\n",
              "  </thead>\n",
              "  <tbody>\n",
              "    <tr>\n",
              "      <th>1_iN1_C01</th>\n",
              "      <td>d2_induced</td>\n",
              "      <td>3</td>\n",
              "      <td>0.127107</td>\n",
              "      <td>0.126734</td>\n",
              "      <td>0</td>\n",
              "    </tr>\n",
              "    <tr>\n",
              "      <th>1_iN1_C02</th>\n",
              "      <td>d2_induced</td>\n",
              "      <td>3</td>\n",
              "      <td>0.118734</td>\n",
              "      <td>0.117711</td>\n",
              "      <td>0</td>\n",
              "    </tr>\n",
              "    <tr>\n",
              "      <th>1_iN1_C03</th>\n",
              "      <td>d2_induced</td>\n",
              "      <td>3</td>\n",
              "      <td>0.126009</td>\n",
              "      <td>0.124955</td>\n",
              "      <td>0</td>\n",
              "    </tr>\n",
              "    <tr>\n",
              "      <th>1_iN1_C04</th>\n",
              "      <td>d2_intermediate</td>\n",
              "      <td>0</td>\n",
              "      <td>0.068607</td>\n",
              "      <td>0.068483</td>\n",
              "      <td>0</td>\n",
              "    </tr>\n",
              "    <tr>\n",
              "      <th>1_iN1_C05</th>\n",
              "      <td>d2_intermediate</td>\n",
              "      <td>0</td>\n",
              "      <td>0.075723</td>\n",
              "      <td>0.075491</td>\n",
              "      <td>0</td>\n",
              "    </tr>\n",
              "  </tbody>\n",
              "</table>\n",
              "</div>"
            ],
            "text/plain": [
              "          annotated_clusters  cluster  slingshot1  slingshot2  slingshot_branch\n",
              "0                                                                              \n",
              "1_iN1_C01         d2_induced        3    0.127107    0.126734                 0\n",
              "1_iN1_C02         d2_induced        3    0.118734    0.117711                 0\n",
              "1_iN1_C03         d2_induced        3    0.126009    0.124955                 0\n",
              "1_iN1_C04    d2_intermediate        0    0.068607    0.068483                 0\n",
              "1_iN1_C05    d2_intermediate        0    0.075723    0.075491                 0"
            ]
          },
          "metadata": {
            "tags": []
          },
          "execution_count": 11
        }
      ]
    },
    {
      "cell_type": "markdown",
      "metadata": {
        "colab_type": "text",
        "id": "isKRl31q6Y17"
      },
      "source": [
        "#### Plotting the principal curves and branch pseudotimes\n"
      ]
    },
    {
      "cell_type": "code",
      "metadata": {
        "colab_type": "code",
        "id": "oDylmJIO6Y1-",
        "colab": {
          "base_uri": "https://localhost:8080/",
          "height": 369
        },
        "outputId": "7b7589e1-1e5b-495e-9ead-015510fd7331"
      },
      "source": [
        "ax = scprep.plot.scatter2d(data_phate, c=metadata['slingshot_branch'],\n",
        "                 label_prefix='PHATE', ticks=None,\n",
        "                 title='Slingshot Principal Curves',\n",
        "                 figsize=(5,5))\n",
        "\n",
        "# `results['curves']` returns as tensor (an array of arrays)\n",
        "# Each array contains coordinates for the curves in the dimensionality reduced space\n",
        "for curve in results['curves']:\n",
        "    ax.plot(curve[:,0], curve[:,1], c='k', linewidth=3)"
      ],
      "execution_count": 12,
      "outputs": [
        {
          "output_type": "display_data",
          "data": {
            "image/png": "[encoded data removed]",
            "text/plain": [
              "<Figure size 360x360 with 1 Axes>"
            ]
          },
          "metadata": {
            "tags": []
          }
        }
      ]
    },
    {
      "cell_type": "code",
      "metadata": {
        "colab_type": "code",
        "id": "lWQF70yd6Y2C",
        "colab": {
          "base_uri": "https://localhost:8080/",
          "height": 369
        },
        "outputId": "4b9efdff-3c16-4828-cb85-ae4b2807d4bb"
      },
      "source": [
        "fig, axes = plt.subplots(1,2, figsize=(11,5))\n",
        "\n",
        "for i, ax in enumerate(axes):\n",
        "    curr_pseudotime = metadata['slingshot{}'.format(i+1)]\n",
        "    m = ~pd.isnull(curr_pseudotime)\n",
        "    # plot null points as grey\n",
        "    scprep.plot.scatter2d(data_phate[~m], color='grey', s=10,\n",
        "                          ax=ax)    \n",
        "    # plot points on branch\n",
        "    scprep.plot.scatter2d(data_phate[m], c=curr_pseudotime[m], s=10,\n",
        "                         label_prefix='PHATE', ticks=None,\n",
        "                          title='Branch {}'.format(i + 1),\n",
        "                          ax=ax)\n",
        "    \n",
        "fig.tight_layout()"
      ],
      "execution_count": 13,
      "outputs": [
        {
          "output_type": "display_data",
          "data": {
            "image/png": "[encoded data removed]",
            "text/plain": [
              "<Figure size 792x360 with 4 Axes>"
            ]
          },
          "metadata": {
            "tags": [],
            "needs_background": "light"
          }
        }
      ]
    },
    {
      "cell_type": "markdown",
      "metadata": {
        "colab_type": "text",
        "id": "2YhgLf-w6Y2F"
      },
      "source": [
        "## Identifying branch-specific changes in gene expression\n",
        "\n",
        "Now that we have our slingshot results, we can start using DREMI to identify genes with strong statistical association with pseudotime on each branch. DREMI is an estimate of mutual information designed to work with the sparsity of data in single-cell experiments. There is an implementation of DREMI in `scprep` at `scprep.stats.knnDREMI`.\n"
      ]
    },
    {
      "cell_type": "markdown",
      "metadata": {
        "colab_type": "text",
        "id": "J8qL73Co6Y2J"
      },
      "source": [
        "#### Create masks for each of the branches"
      ]
    },
    {
      "cell_type": "code",
      "metadata": {
        "colab_type": "code",
        "id": "-A1ng44m6Y2J",
        "colab": {}
      },
      "source": [
        "branch0 = results['branch'] == 0\n",
        "branch1 = results['branch'] == 1 \n",
        "branch2 = results['branch'] == 2"
      ],
      "execution_count": 0,
      "outputs": []
    },
    {
      "cell_type": "markdown",
      "metadata": {
        "colab_type": "text",
        "id": "WJV85Ub16Y2N"
      },
      "source": [
        "#### Calculating kNN-DREMI for each branch\n",
        "\n",
        "This will take some time because we calculate kNN-DREMI on all genes three times."
      ]
    },
    {
      "cell_type": "code",
      "metadata": {
        "colab_type": "code",
        "id": "hZq7V9Ed6Y2O",
        "colab": {
          "base_uri": "https://localhost:8080/",
          "height": 153
        },
        "outputId": "8b32b74f-aad4-4dab-ea91-8ca0598a668b"
      },
      "source": [
        "dremi_branch0 = np.zeros(data.shape[1])\n",
        "dremi_branch1 = np.zeros(data.shape[1])\n",
        "dremi_branch2 = np.zeros(data.shape[1])\n",
        "\n",
        "data_branch0 = data.loc[branch0]\n",
        "data_branch1 = data.loc[branch1]\n",
        "data_branch2 = data.loc[branch2]\n",
        "\n",
        "pseudotime_branch0 = results['pseudotime'].loc[branch0].mean(axis=1)\n",
        "pseudotime_branch1 = results['pseudotime'].loc[branch1][0]\n",
        "pseudotime_branch2 = results['pseudotime'].loc[branch2][1]\n",
        "\n",
        "for i, gene in enumerate(data):\n",
        "    dremi_branch0[i] = scprep.stats.knnDREMI(pseudotime_branch0, data_branch0[gene])\n",
        "    dremi_branch1[i] = scprep.stats.knnDREMI(pseudotime_branch1, data_branch1[gene])\n",
        "    dremi_branch2[i] = scprep.stats.knnDREMI(pseudotime_branch2, data_branch2[gene])"
      ],
      "execution_count": 16,
      "outputs": [
        {
          "output_type": "stream",
          "text": [
            "/usr/local/lib/python3.6/dist-packages/scprep/stats.py:204: UserWarning: Attempting to calculate kNN-DREMI on a constant array. Returning `0`\n",
            "  UserWarning,\n",
            "/usr/local/lib/python3.6/dist-packages/scprep/stats.py:204: UserWarning: Attempting to calculate kNN-DREMI on a constant array. Returning `0`\n",
            "  UserWarning,\n",
            "/usr/local/lib/python3.6/dist-packages/scprep/stats.py:204: UserWarning: Attempting to calculate kNN-DREMI on a constant array. Returning `0`\n",
            "  UserWarning,\n",
            "/usr/local/lib/python3.6/dist-packages/scprep/stats.py:204: UserWarning: Attempting to calculate kNN-DREMI on a constant array. Returning `0`\n",
            "  UserWarning,\n"
          ],
          "name": "stderr"
        }
      ]
    },
    {
      "cell_type": "markdown",
      "metadata": {
        "colab_type": "text",
        "id": "VpiPXmyz6Y2T"
      },
      "source": [
        "#### Calculate the difference between DREMI scores on branch 1 and branch 2\n",
        "How do you calculate the difference between the branch1 and branch2 DREMI scores?"
      ]
    },
    {
      "cell_type": "code",
      "metadata": {
        "colab_type": "code",
        "id": "m_nNaIaa6Y2U",
        "colab": {}
      },
      "source": [
        "# ===========\n",
        "# Subtract branch 1 from branch 2\n",
        "diff = dremi_branch0[i] - dremi_branch1[i]\n",
        "# ==========="
      ],
      "execution_count": 0,
      "outputs": []
    },
    {
      "cell_type": "markdown",
      "metadata": {
        "colab_type": "text",
        "id": "PKU0l9FT6Y2X"
      },
      "source": [
        "#### Get the genes with highest association with each branch\n",
        "\n",
        "You will need to write the code to concatenate the arrays"
      ]
    },
    {
      "cell_type": "code",
      "metadata": {
        "colab_type": "code",
        "id": "PvVkNv6z6Y2Z",
        "colab": {
          "base_uri": "https://localhost:8080/",
          "height": 34
        },
        "outputId": "e460d83a-bae9-4702-e8ba-7c7b1215952c"
      },
      "source": [
        "branch0_genes = data.columns[np.argsort(dremi_branch0)[::-1][:30]]\n",
        "# Here we sort by the difference in DREMI scores to get the most negative values\n",
        "branch1_genes = data.columns[np.argsort(diff)[::-1][:10]]\n",
        "\n",
        "# Here we sort by the difference in DREMI scores to get the largest values\n",
        "branch2_genes = data.columns[np.argsort(diff)[:10]]\n",
        "\n",
        "# ========\n",
        "# Add code to concatenate the lists of genes for each branch\n",
        "# Make sure the output is a 1-dimensional array and does not contain duplicates\n",
        "interesting_genes = ['CD4', 'CD8A', 'CD19', 'ITGAX', 'CD14']\n",
        "# ========\n",
        "interesting_genes"
      ],
      "execution_count": 19,
      "outputs": [
        {
          "output_type": "execute_result",
          "data": {
            "text/plain": [
              "['CD4', 'CD8A', 'CD19', 'ITGAX', 'CD14']"
            ]
          },
          "metadata": {
            "tags": []
          },
          "execution_count": 19
        }
      ]
    },
    {
      "cell_type": "markdown",
      "metadata": {
        "colab_type": "text",
        "id": "FVmeqeDO6Y2d"
      },
      "source": [
        "#### Reordering the dataset by branch\n",
        "\n",
        "Currently, the dataset is not ordered any way in particular, which can be frustrating for plotting. You can see this if we plot the pseudotime values in order.\n",
        "\n",
        "You'll need to add code to calculate the average pseudotime for each point."
      ]
    },
    {
      "cell_type": "code",
      "metadata": {
        "id": "JQWZ79Z_L8Gs",
        "colab_type": "code",
        "colab": {}
      },
      "source": [
        "# =======\n",
        "# Add code to calculate average pseudotime per cell here\n",
        "# Note: you may find the function `np.nanmean` helpful\n",
        "mean_pseudotime = \n",
        "\n",
        "branch_ids = np.unique(branch)\n",
        "    branch_means = [\n",
        "        np.nanmean(slingshot[\"pseudotime\"][branch == id])\n",
        "        if not np.all(np.isnan(slingshot[\"pseudotime\"][branch == id]))\n",
        "        else np.nan\n",
        "        for id in branch_ids\n",
        "    ]\n",
        "    branch_order = np.argsort(branch_means)\n",
        "    branch_old = branch.copy()\n",
        "    for i in range(len(branch_order)):\n",
        "        j = branch_order[i]\n",
        "        if np.isnan(branch_means[j]):\n",
        "            branch[branch_old == branch_ids[j]] = -1\n",
        "        else:\n",
        "            branch[branch_old == branch_ids[j]] = i\n",
        "    slingshot[\"branch\"] = branch\n",
        "\n",
        "    if index is not None:\n",
        "        slingshot[\"pseudotime\"] = pd.DataFrame(slingshot[\"pseudotime\"], index=index)\n",
        "        slingshot[\"branch\"] = pd.Series(slingshot[\"branch\"], name=\"branch\", index=index)\n",
        "    return slingshot\n",
        "\n",
        "# =======\n",
        "\n",
        "scprep.plot.scatter(np.arange(results['pseudotime'].shape[0]),\n",
        "                    mean_pseudotime,\n",
        "                    c=results['branch'],\n",
        "                    xlabel=\"Data index\",\n",
        "                    ylabel=\"Pseudotime\",\n",
        "                    legend_title=\"Branch\")"
      ],
      "execution_count": 0,
      "outputs": []
    },
    {
      "cell_type": "markdown",
      "metadata": {
        "id": "3W3Ucj8CL8Gu",
        "colab_type": "text"
      },
      "source": [
        "Here, we reorder the cells, first by branch and then by pseudotime."
      ]
    },
    {
      "cell_type": "code",
      "metadata": {
        "colab_type": "code",
        "id": "2meXg7qh6Y2f",
        "colab": {}
      },
      "source": [
        "pseudotime_order = np.zeros(data.shape[0], dtype=int)\n",
        "raw_indices = np.arange(data.shape[0], dtype=int)\n",
        "\n",
        "block_masks = [branch0, (branch1 & ~branch2), (branch2 & ~branch1)]\n",
        "\n",
        "block_start = 0\n",
        "for block_mask in block_masks:\n",
        "    block_len = np.sum(block_mask)\n",
        "    block_end = block_start + block_len\n",
        "    pseudotime_order[block_start:block_end] = raw_indices[block_mask][np.argsort(results['pseudotime'].loc[block_mask].sum(axis=1))]\n",
        "    block_start = block_end"
      ],
      "execution_count": 0,
      "outputs": []
    },
    {
      "cell_type": "code",
      "metadata": {
        "id": "2P5p7OiCL8Gw",
        "colab_type": "code",
        "colab": {}
      },
      "source": [
        "scprep.plot.scatter(np.arange(results['pseudotime'].shape[0]),\n",
        "                    np.nanmean(results['pseudotime'], axis=1)[pseudotime_order],\n",
        "                    c=results['branch'][pseudotime_order],\n",
        "                    xlabel=\"Data index\",\n",
        "                    ylabel=\"Pseudotime\",\n",
        "                    legend_title=\"Branch\")"
      ],
      "execution_count": 0,
      "outputs": []
    },
    {
      "cell_type": "markdown",
      "metadata": {
        "colab_type": "text",
        "id": "AVq1rJkt6Y2j"
      },
      "source": [
        "#### Creating a `clustermap` of the top genes"
      ]
    },
    {
      "cell_type": "code",
      "metadata": {
        "colab_type": "code",
        "id": "-Q3JqpXT6Y2k",
        "colab": {}
      },
      "source": [
        "# Creating colors for each column\n",
        "branch_cmap = {0:'#a6cee3', 1:'#1f78b4', 2:'#b2df8a'}\n",
        "branch_colors = np.array([branch_cmap[b] for b in results['branch']])\n",
        "\n",
        "pseudotime_colors = plt.cm.inferno(mean_pseudotime/np.max(mean_pseudotime))\n",
        "\n",
        "cg = sns.clustermap(data.iloc[pseudotime_order][interesting_genes].T, \n",
        "               col_colors=[branch_colors[pseudotime_order], pseudotime_colors[pseudotime_order]], \n",
        "                    col_cluster=False,\n",
        "                   yticklabels=data.iloc[pseudotime_order][interesting_genes].T.index,\n",
        "                   xticklabels=[])\n",
        "\n",
        "cg.ax_heatmap.set_xlabel('Cells', fontsize=18)\n",
        "\n",
        "cg.fig.set_size_inches(15,15)"
      ],
      "execution_count": 0,
      "outputs": []
    },
    {
      "cell_type": "markdown",
      "metadata": {
        "colab_type": "text",
        "id": "9fGrJFHo6Y2n"
      },
      "source": [
        "## Gene set enrichment\n",
        "\n",
        "Although this heatmap looks nice and is interesting in its own right, it is also important to make sure that these genes are biologically interesting. Now, we're going to use EnrichR to perform gene set enrichment on the genes that are unique to each branch. There are many ways to perform gene set enrichement analysis, but we're going to focus on EnrichR. The following test from [Chen E, et al. BMC Bioinformatics (2013)](https://doi.org/10.1186/1471-2105-14-128) describes how EnrichR calculates gene set enrichement.\n",
        "\n",
        "> **Computing enrichment**  \n",
        "Enrichr implements three approaches to compute enrichment. The first one is a standard method implemented within most enrichment analysis tools: the Fisher exact test. This is a proportion test that assumes a binomial distribution and independence for probability of any gene belonging to any set. The second test is a correction to the Fisher exact test that we developed based on intuition. We first compute enrichment using the Fisher exact test for many random input gene lists in order to compute a mean rank and standard deviation from the expected rank for each term in each gene-set library. Then, using a lookup table of expected ranks with their variances, we compute a z-score for deviation from this expected rank, this can be a new corrected score for ranking terms. Alternatively, we combined the p-value computed using the Fisher exact test with the z-score of the deviation from the expected rank by multiplying these two numbers as follows:\n",
        "\n",
        "$$c=log(p)\\cdot z$$\n",
        "\n",
        ">Where $c$ is the combined score, $p$ is the p-value computed using the Fisher exact test, and $z$ is the z-score computed by assessing the deviation from the expected rank. Enrichr provides all three options for sorting enriched terms. In the results section, we show how we evaluated the quality of each of these three enrichment methods by examining how the methods rank terms that we know should be highly ranked.\n",
        "\n",
        "### Getting gene sets from https://amp.pharm.mssm.edu/Enrichr/\n",
        "In this exercise, we're going to leave colab for a little bit to introduce you to the HTML5 version of EnrichR. \n",
        "\n",
        "1. For each branch, get a list of 100 \"interesting\" genes [as calculated above](#Get-the-genes-with-highest-association-with-each-branch).\n",
        "2. Print out the list in the following code block\n",
        "3. Copy the gene symbols\n",
        "4. Copy them into https://amp.pharm.mssm.edu/Enrichr/\n",
        "5. Examine gene set enrichment for each Gene Ontology (GO) category under the \"Ontologies\" tab\n",
        "\n",
        "Using these lists, can you determine which branch is the differentiating muscle cells and the differentiating neurons?"
      ]
    },
    {
      "cell_type": "code",
      "metadata": {
        "id": "hJ8OB5oTL8G1",
        "colab_type": "code",
        "colab": {}
      },
      "source": [
        "# =======\n",
        "# Rerun the interesting genes calculation with 100 genes from each branch\n",
        "branch0_genes = \n",
        "branch1_genes = \n",
        "branch2_genes = \n",
        "interesting_genes = \n",
        "# ========\n",
        "interesting_genes"
      ],
      "execution_count": 0,
      "outputs": []
    },
    {
      "cell_type": "code",
      "metadata": {
        "colab_type": "code",
        "id": "Zm7gB6Wb6Y2o",
        "colab": {}
      },
      "source": [
        "for gene in branch0_genes:\n",
        "    print(gene)"
      ],
      "execution_count": 0,
      "outputs": []
    },
    {
      "cell_type": "markdown",
      "metadata": {
        "colab_type": "text",
        "id": "xSGSsDu76Y2r"
      },
      "source": [
        "### Running EnrichR from gseapy\n",
        "\n",
        "There is also a handy tool for performing GSEA in Python called gseapy. Documentation for the tool is available at: https://gseapy.readthedocs.io/en/master/"
      ]
    },
    {
      "cell_type": "markdown",
      "metadata": {
        "colab_type": "text",
        "id": "J8jS50MM6Y2t"
      },
      "source": [
        "#### Getting the enrichement for all the \"interesting genes\" used in the heatmap above"
      ]
    },
    {
      "cell_type": "code",
      "metadata": {
        "colab_type": "code",
        "id": "3kJgmsQ46Y2t",
        "colab": {}
      },
      "source": [
        "# gseapy needs the gene list as a list, not np.array\n",
        "gene_list = list(interesting_genes)\n",
        "gseapy.enrichr(gene_list, 'GO_Biological_Process_2018', outdir='Enrichr')\n",
        "# Load the output into a DataFrame\n",
        "enrichr_results = pd.read_csv('./Enrichr/GO_Biological_Process_2018..enrichr.reports.txt', sep='\\t')"
      ],
      "execution_count": 0,
      "outputs": []
    },
    {
      "cell_type": "markdown",
      "metadata": {
        "colab_type": "text",
        "id": "Tz2Wv1K-6Y2y"
      },
      "source": [
        "#### Examining the output table\n",
        "\n",
        "What do you notice about the genes enriched in each category? How does overlap affect the Combined Score?"
      ]
    },
    {
      "cell_type": "code",
      "metadata": {
        "colab_type": "code",
        "id": "tbg1XiAS6Y20",
        "colab": {}
      },
      "source": [
        "enrichr_results = enrichr_results.sort_values('Combined Score', ascending=False).reset_index(drop=True)\n",
        "enrichr_results.head()"
      ],
      "execution_count": 0,
      "outputs": []
    },
    {
      "cell_type": "markdown",
      "metadata": {
        "colab_type": "text",
        "id": "y-000LMd6Y26"
      },
      "source": [
        "#### Plot a bar chart of the  10 highest Combined Score values\n",
        "\n",
        "You'll need to add code for:\n",
        "1. Select the first 10 rows of the DataFrame\n",
        "2. Getting the `'Combined Score'` from the `row` variable\n",
        "3. Completing the command to `ax.bar` to get a **vertical** bar chart."
      ]
    },
    {
      "cell_type": "code",
      "metadata": {
        "colab_type": "code",
        "id": "AUH3UWhB6Y26",
        "colab": {}
      },
      "source": [
        "fig, ax = plt.subplots(1, figsize=(10,8))\n",
        "# ======\n",
        "# Select the first 10 rows from `enrichr_results`\n",
        "top_gene_sets = \n",
        "# ======\n",
        "\n",
        "ticks = []\n",
        "ticklabels = []\n",
        "\n",
        "for i, row in top_gene_sets.iterrows():\n",
        "    # ======\n",
        "    # Get the 'Combined Score' value from the row\n",
        "    combined_score =\n",
        "    ax.bar(x= , height= , color='red')\n",
        "    # ======\n",
        "\n",
        "    # Append the x position to the ticks list\n",
        "    ticks.append(i)\n",
        "    # Append the 'term' column to the ticklabels list\n",
        "    ticklabels.append(row['Term'])\n",
        "\n",
        "ax.set_xticks(ticks)\n",
        "ax.set_xticklabels(ticklabels, rotation=45, ha='right', fontsize=16)"
      ],
      "execution_count": 0,
      "outputs": []
    }
  ]
}