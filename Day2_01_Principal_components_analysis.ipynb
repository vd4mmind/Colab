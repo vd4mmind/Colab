{
  "nbformat": 4,
  "nbformat_minor": 0,
  "metadata": {
    "kernelspec": {
      "display_name": "Python 3",
      "language": "python",
      "name": "python3"
    },
    "language_info": {
      "codemirror_mode": {
        "name": "ipython",
        "version": 3
      },
      "file_extension": ".py",
      "mimetype": "text/x-python",
      "name": "python",
      "nbconvert_exporter": "python",
      "pygments_lexer": "ipython3",
      "version": "3.8.1"
    },
    "colab": {
      "name": "Day2_01_Principal_components_analysis.ipynb",
      "provenance": [],
      "include_colab_link": true
    }
  },
  "cells": [
    {
      "cell_type": "markdown",
      "metadata": {
        "id": "view-in-github",
        "colab_type": "text"
      },
      "source": [
        "<a href=\"https://colab.research.google.com/github/vd4mmind/googleColab/blob/ML_scRNASeq_SK_lab_2020/Day2_01_Principal_components_analysis.ipynb\" target=\"_parent\"><img src=\"https://colab.research.google.com/assets/colab-badge.svg\" alt=\"Open In Colab\"/></a>"
      ]
    },
    {
      "cell_type": "markdown",
      "metadata": {
        "id": "xkPAmnKRq9BL",
        "colab_type": "text"
      },
      "source": [
        "# Principal components analysis (PCA)\n",
        "\n",
        "## Goals\n",
        "\n",
        "* Understand how PCA is computed\n",
        "* Visualize a single-cell dataset with PCA\n",
        "* Understand how different biological axes of variation are separated into different components"
      ]
    },
    {
      "cell_type": "code",
      "metadata": {
        "id": "AFJ-Wxnhq9BP",
        "colab_type": "code",
        "colab": {
          "base_uri": "https://localhost:8080/",
          "height": 255
        },
        "outputId": "1bb57cf7-5f30-46ae-f4a3-559ab4842c04"
      },
      "source": [
        "!pip install scprep"
      ],
      "execution_count": 1,
      "outputs": [
        {
          "output_type": "stream",
          "text": [
            "Collecting scprep\n",
            "\u001b[?25l  Downloading https://files.pythonhosted.org/packages/73/38/0a4fe0cd17dd0b7e859718a769b1e799467098709b80b96175f43b098ca6/scprep-1.0.5.post2-py3-none-any.whl (98kB)\n",
            "\r\u001b[K     |███▍                            | 10kB 13.2MB/s eta 0:00:01\r\u001b[K     |██████▊                         | 20kB 1.7MB/s eta 0:00:01\r\u001b[K     |██████████                      | 30kB 2.0MB/s eta 0:00:01\r\u001b[K     |█████████████▍                  | 40kB 2.2MB/s eta 0:00:01\r\u001b[K     |████████████████▊               | 51kB 1.9MB/s eta 0:00:01\r\u001b[K     |████████████████████            | 61kB 2.2MB/s eta 0:00:01\r\u001b[K     |███████████████████████▍        | 71kB 2.4MB/s eta 0:00:01\r\u001b[K     |██████████████████████████▊     | 81kB 2.6MB/s eta 0:00:01\r\u001b[K     |██████████████████████████████  | 92kB 2.8MB/s eta 0:00:01\r\u001b[K     |████████████████████████████████| 102kB 2.5MB/s \n",
            "\u001b[?25hRequirement already satisfied: pandas>=0.25 in /usr/local/lib/python3.6/dist-packages (from scprep) (1.0.3)\n",
            "Requirement already satisfied: numpy>=1.12.0 in /usr/local/lib/python3.6/dist-packages (from scprep) (1.18.4)\n",
            "Requirement already satisfied: scikit-learn>=0.19.1 in /usr/local/lib/python3.6/dist-packages (from scprep) (0.22.2.post1)\n",
            "Requirement already satisfied: decorator>=4.3.0 in /usr/local/lib/python3.6/dist-packages (from scprep) (4.4.2)\n",
            "Requirement already satisfied: scipy>=0.18.1 in /usr/local/lib/python3.6/dist-packages (from scprep) (1.4.1)\n",
            "Requirement already satisfied: python-dateutil>=2.6.1 in /usr/local/lib/python3.6/dist-packages (from pandas>=0.25->scprep) (2.8.1)\n",
            "Requirement already satisfied: pytz>=2017.2 in /usr/local/lib/python3.6/dist-packages (from pandas>=0.25->scprep) (2018.9)\n",
            "Requirement already satisfied: joblib>=0.11 in /usr/local/lib/python3.6/dist-packages (from scikit-learn>=0.19.1->scprep) (0.15.1)\n",
            "Requirement already satisfied: six>=1.5 in /usr/local/lib/python3.6/dist-packages (from python-dateutil>=2.6.1->pandas>=0.25->scprep) (1.12.0)\n",
            "Installing collected packages: scprep\n",
            "Successfully installed scprep-1.0.5.post2\n"
          ],
          "name": "stdout"
        }
      ]
    },
    {
      "cell_type": "markdown",
      "metadata": {
        "id": "PfrV_TOcq9Bc",
        "colab_type": "text"
      },
      "source": [
        "## 1. Computing PCA on the UCI wine dataset\n",
        "\n",
        "#### How does PCA work?\n",
        "\n",
        "PCA related eigendecomposition methods are some of the most fundamental dimensionality reduction tools in data science. Many methods, including tSNE and PHATE, first reduce the data using PCA before performing further operations on the data. \n",
        "\n",
        "You can find many rigorous descriptions of the PCA algorithm online. Here, we will focus on the intutition. The goal of PCA is to identify a set of orthogonal dimensions (each of which is a linear combination of the input features) that explain the maximum variance in the data. These dimensions are called Principle Components. In the following figure, you can see data in two dimensions:\n",
        "\n",
        "<img src=\"https://krishnaswamylab.github.io/img/how_to_single_cell/PCA_original_data.png\" style=\"height: 25rem;\"/>\n",
        "\n",
        "This is a simple dataset where the data exists in two dimensions. The axis of maximum variance in this data is going to be some line that goes up and to the right. If you were to identify the first two principle components in this data they would look like the dashed grey lines in the following figure:\n",
        "\n",
        "<img src=\"https://krishnaswamylab.github.io/img/how_to_single_cell/PCA_PC1.png\" style=\"height: 35.35rem;\"/>\n",
        "\n",
        "PCA then projects the points onto these new axes. Above, we see the projection onto PC1 (the longest dashed line) for a handful of cells denoted by the red arrows. Note that the arrows are orthogonal (perpendicular) to PC1. This is the definition of projection. Below, you can see what the projection of the data onto the first principle component would look like. Here we're doing the simplest dimensionality reduction. We've taken the data from two dimensions to 1 dimension. Notice how some information is lost here. Some points are very close on PC1 that are far in the original data space. Some information loss is unavoidable when reducing dimensions. Notice that if we considered a second PC, we would get that information back.\n",
        "\n",
        "Visualization is a game of deciding what information you want to keep, and what you're comfortable throwing away. Here, we're looking at two dimensional data, but scRNA-seq usually has 20-30K data points. Some information will definitely be lost when considering only 1 or 2 principle components.\n",
        "\n",
        "**Note:** There exist as many PCs as there are original dimensions of the data, but we usually only consider the first 50-500 for single cell data. \n"
      ]
    },
    {
      "cell_type": "code",
      "metadata": {
        "id": "oZRXA_QOq9B7",
        "colab_type": "code",
        "colab": {}
      },
      "source": [
        "import scprep\n",
        "import numpy as np\n",
        "import pandas as pd\n",
        "import matplotlib.pyplot as plt\n",
        "%matplotlib inline\n",
        "import sklearn.preprocessing\n",
        "import sklearn.datasets"
      ],
      "execution_count": 0,
      "outputs": []
    },
    {
      "cell_type": "markdown",
      "metadata": {
        "id": "5B92jO3Cq9CD",
        "colab_type": "text"
      },
      "source": [
        "#### Load the data"
      ]
    },
    {
      "cell_type": "code",
      "metadata": {
        "id": "JGWa4Wl6q9CE",
        "colab_type": "code",
        "colab": {
          "base_uri": "https://localhost:8080/",
          "height": 204
        },
        "outputId": "27199da0-27a6-44f3-ed48-1f4c60cc8858"
      },
      "source": [
        "wine = sklearn.datasets.load_wine()\n",
        "\n",
        "# Access the numerical data from the wine Bunch\n",
        "data = wine['data']\n",
        "\n",
        "# Load data about the rows and columns\n",
        "feature_names = wine['feature_names']\n",
        "\n",
        "# Load cultivar information about each wine\n",
        "cultivars = np.array(['Cultivar{}'.format(cl) for cl in wine['target']])\n",
        "\n",
        "# Create nice names for each row\n",
        "wine_names = np.array(['Wine{}'.format(i) for i in range(data.shape[0])])\n",
        "\n",
        "# use the sklearn StandardScaler to scale to mean 0, variance 1\n",
        "data = sklearn.preprocessing.StandardScaler().fit_transform(data)\n",
        "\n",
        "# Gather all of this information into a DataFrame\n",
        "data = pd.DataFrame(data, columns=feature_names, index=wine_names)\n",
        "\n",
        "# Print the first 5 rows of the data, eq. to data[:5]\n",
        "data.head()"
      ],
      "execution_count": 3,
      "outputs": [
        {
          "output_type": "execute_result",
          "data": {
            "text/html": [
              "<div>\n",
              "<style scoped>\n",
              "    .dataframe tbody tr th:only-of-type {\n",
              "        vertical-align: middle;\n",
              "    }\n",
              "\n",
              "    .dataframe tbody tr th {\n",
              "        vertical-align: top;\n",
              "    }\n",
              "\n",
              "    .dataframe thead th {\n",
              "        text-align: right;\n",
              "    }\n",
              "</style>\n",
              "<table border=\"1\" class=\"dataframe\">\n",
              "  <thead>\n",
              "    <tr style=\"text-align: right;\">\n",
              "      <th></th>\n",
              "      <th>alcohol</th>\n",
              "      <th>malic_acid</th>\n",
              "      <th>ash</th>\n",
              "      <th>alcalinity_of_ash</th>\n",
              "      <th>magnesium</th>\n",
              "      <th>total_phenols</th>\n",
              "      <th>flavanoids</th>\n",
              "      <th>nonflavanoid_phenols</th>\n",
              "      <th>proanthocyanins</th>\n",
              "      <th>color_intensity</th>\n",
              "      <th>hue</th>\n",
              "      <th>od280/od315_of_diluted_wines</th>\n",
              "      <th>proline</th>\n",
              "    </tr>\n",
              "  </thead>\n",
              "  <tbody>\n",
              "    <tr>\n",
              "      <th>Wine0</th>\n",
              "      <td>1.518613</td>\n",
              "      <td>-0.562250</td>\n",
              "      <td>0.232053</td>\n",
              "      <td>-1.169593</td>\n",
              "      <td>1.913905</td>\n",
              "      <td>0.808997</td>\n",
              "      <td>1.034819</td>\n",
              "      <td>-0.659563</td>\n",
              "      <td>1.224884</td>\n",
              "      <td>0.251717</td>\n",
              "      <td>0.362177</td>\n",
              "      <td>1.847920</td>\n",
              "      <td>1.013009</td>\n",
              "    </tr>\n",
              "    <tr>\n",
              "      <th>Wine1</th>\n",
              "      <td>0.246290</td>\n",
              "      <td>-0.499413</td>\n",
              "      <td>-0.827996</td>\n",
              "      <td>-2.490847</td>\n",
              "      <td>0.018145</td>\n",
              "      <td>0.568648</td>\n",
              "      <td>0.733629</td>\n",
              "      <td>-0.820719</td>\n",
              "      <td>-0.544721</td>\n",
              "      <td>-0.293321</td>\n",
              "      <td>0.406051</td>\n",
              "      <td>1.113449</td>\n",
              "      <td>0.965242</td>\n",
              "    </tr>\n",
              "    <tr>\n",
              "      <th>Wine2</th>\n",
              "      <td>0.196879</td>\n",
              "      <td>0.021231</td>\n",
              "      <td>1.109334</td>\n",
              "      <td>-0.268738</td>\n",
              "      <td>0.088358</td>\n",
              "      <td>0.808997</td>\n",
              "      <td>1.215533</td>\n",
              "      <td>-0.498407</td>\n",
              "      <td>2.135968</td>\n",
              "      <td>0.269020</td>\n",
              "      <td>0.318304</td>\n",
              "      <td>0.788587</td>\n",
              "      <td>1.395148</td>\n",
              "    </tr>\n",
              "    <tr>\n",
              "      <th>Wine3</th>\n",
              "      <td>1.691550</td>\n",
              "      <td>-0.346811</td>\n",
              "      <td>0.487926</td>\n",
              "      <td>-0.809251</td>\n",
              "      <td>0.930918</td>\n",
              "      <td>2.491446</td>\n",
              "      <td>1.466525</td>\n",
              "      <td>-0.981875</td>\n",
              "      <td>1.032155</td>\n",
              "      <td>1.186068</td>\n",
              "      <td>-0.427544</td>\n",
              "      <td>1.184071</td>\n",
              "      <td>2.334574</td>\n",
              "    </tr>\n",
              "    <tr>\n",
              "      <th>Wine4</th>\n",
              "      <td>0.295700</td>\n",
              "      <td>0.227694</td>\n",
              "      <td>1.840403</td>\n",
              "      <td>0.451946</td>\n",
              "      <td>1.281985</td>\n",
              "      <td>0.808997</td>\n",
              "      <td>0.663351</td>\n",
              "      <td>0.226796</td>\n",
              "      <td>0.401404</td>\n",
              "      <td>-0.319276</td>\n",
              "      <td>0.362177</td>\n",
              "      <td>0.449601</td>\n",
              "      <td>-0.037874</td>\n",
              "    </tr>\n",
              "  </tbody>\n",
              "</table>\n",
              "</div>"
            ],
            "text/plain": [
              "        alcohol  malic_acid  ...  od280/od315_of_diluted_wines   proline\n",
              "Wine0  1.518613   -0.562250  ...                      1.847920  1.013009\n",
              "Wine1  0.246290   -0.499413  ...                      1.113449  0.965242\n",
              "Wine2  0.196879    0.021231  ...                      0.788587  1.395148\n",
              "Wine3  1.691550   -0.346811  ...                      1.184071  2.334574\n",
              "Wine4  0.295700    0.227694  ...                      0.449601 -0.037874\n",
              "\n",
              "[5 rows x 13 columns]"
            ]
          },
          "metadata": {
            "tags": []
          },
          "execution_count": 3
        }
      ]
    },
    {
      "cell_type": "markdown",
      "metadata": {
        "id": "89iuw6goq9Cu",
        "colab_type": "text"
      },
      "source": [
        "#### Compute PCA manually"
      ]
    },
    {
      "cell_type": "code",
      "metadata": {
        "id": "m-4_s7-xq9Cz",
        "colab_type": "code",
        "colab": {
          "base_uri": "https://localhost:8080/",
          "height": 296
        },
        "outputId": "31116934-69e2-4b39-c423-5f0491fef277"
      },
      "source": [
        "# compute the sample covariance matrix\n",
        "Sigma = np.cov(np.transpose(data))\n",
        "\n",
        "# compute the eigendecomposition\n",
        "eigenvalues, eigenvectors = np.linalg.eigh(Sigma)\n",
        "\n",
        "# sort the eigenvectors in order of decreasing eigenvalue\n",
        "order = np.argsort(eigenvalues)[::-1] # [::-1] reverses the order of a list\n",
        "eigenvalues, eigenvectors = eigenvalues[order], eigenvectors[:,order]\n",
        "\n",
        "# plot the eigenvalues\n",
        "plt.bar(np.arange(len(eigenvalues))+1, eigenvalues)\n",
        "plt.xlabel('Principal Component')\n",
        "plt.ylabel('Explained Variance')"
      ],
      "execution_count": 4,
      "outputs": [
        {
          "output_type": "execute_result",
          "data": {
            "text/plain": [
              "Text(0, 0.5, 'Explained Variance')"
            ]
          },
          "metadata": {
            "tags": []
          },
          "execution_count": 4
        },
        {
          "output_type": "display_data",
          "data": {
            "image/png": "[encoded data removed]",
            "text/plain": [
              "<Figure size 432x288 with 1 Axes>"
            ]
          },
          "metadata": {
            "tags": [],
            "needs_background": "light"
          }
        }
      ]
    },
    {
      "cell_type": "code",
      "metadata": {
        "id": "DHgwAN6tq9DC",
        "colab_type": "code",
        "colab": {
          "base_uri": "https://localhost:8080/",
          "height": 204
        },
        "outputId": "9a6f6632-c2a4-4f48-f3bb-2f5e572fc2fc"
      },
      "source": [
        "# =============\n",
        "# How many principal components do you think are meaningful in this dataset?\n",
        "n = 5\n",
        "# =============\n",
        "\n",
        "# take only the first n eigenvectors and eigenvalues\n",
        "eigenvectors, eigenvalues = eigenvectors[:,:n], eigenvalues[:n]\n",
        "\n",
        "# project the data onto the principal directions by matrix multiplication\n",
        "data_pca = data @ eigenvectors\n",
        "\n",
        "data_pca.head()"
      ],
      "execution_count": 6,
      "outputs": [
        {
          "output_type": "execute_result",
          "data": {
            "text/html": [
              "<div>\n",
              "<style scoped>\n",
              "    .dataframe tbody tr th:only-of-type {\n",
              "        vertical-align: middle;\n",
              "    }\n",
              "\n",
              "    .dataframe tbody tr th {\n",
              "        vertical-align: top;\n",
              "    }\n",
              "\n",
              "    .dataframe thead th {\n",
              "        text-align: right;\n",
              "    }\n",
              "</style>\n",
              "<table border=\"1\" class=\"dataframe\">\n",
              "  <thead>\n",
              "    <tr style=\"text-align: right;\">\n",
              "      <th></th>\n",
              "      <th>0</th>\n",
              "      <th>1</th>\n",
              "      <th>2</th>\n",
              "      <th>3</th>\n",
              "      <th>4</th>\n",
              "    </tr>\n",
              "  </thead>\n",
              "  <tbody>\n",
              "    <tr>\n",
              "      <th>Wine0</th>\n",
              "      <td>-3.316751</td>\n",
              "      <td>1.443463</td>\n",
              "      <td>0.165739</td>\n",
              "      <td>-0.215631</td>\n",
              "      <td>0.693043</td>\n",
              "    </tr>\n",
              "    <tr>\n",
              "      <th>Wine1</th>\n",
              "      <td>-2.209465</td>\n",
              "      <td>-0.333393</td>\n",
              "      <td>2.026457</td>\n",
              "      <td>-0.291358</td>\n",
              "      <td>-0.257655</td>\n",
              "    </tr>\n",
              "    <tr>\n",
              "      <th>Wine2</th>\n",
              "      <td>-2.516740</td>\n",
              "      <td>1.031151</td>\n",
              "      <td>-0.982819</td>\n",
              "      <td>0.724902</td>\n",
              "      <td>-0.251033</td>\n",
              "    </tr>\n",
              "    <tr>\n",
              "      <th>Wine3</th>\n",
              "      <td>-3.757066</td>\n",
              "      <td>2.756372</td>\n",
              "      <td>0.176192</td>\n",
              "      <td>0.567983</td>\n",
              "      <td>-0.311842</td>\n",
              "    </tr>\n",
              "    <tr>\n",
              "      <th>Wine4</th>\n",
              "      <td>-1.008908</td>\n",
              "      <td>0.869831</td>\n",
              "      <td>-2.026688</td>\n",
              "      <td>-0.409766</td>\n",
              "      <td>0.298458</td>\n",
              "    </tr>\n",
              "  </tbody>\n",
              "</table>\n",
              "</div>"
            ],
            "text/plain": [
              "              0         1         2         3         4\n",
              "Wine0 -3.316751  1.443463  0.165739 -0.215631  0.693043\n",
              "Wine1 -2.209465 -0.333393  2.026457 -0.291358 -0.257655\n",
              "Wine2 -2.516740  1.031151 -0.982819  0.724902 -0.251033\n",
              "Wine3 -3.757066  2.756372  0.176192  0.567983 -0.311842\n",
              "Wine4 -1.008908  0.869831 -2.026688 -0.409766  0.298458"
            ]
          },
          "metadata": {
            "tags": []
          },
          "execution_count": 6
        }
      ]
    },
    {
      "cell_type": "code",
      "metadata": {
        "id": "s8x2myXXq9DG",
        "colab_type": "code",
        "colab": {}
      },
      "source": [
        "my_cultivar = \"Cultivar0\" # alternative: \"Cultivar1\", \"Cultivar2\""
      ],
      "execution_count": 0,
      "outputs": []
    },
    {
      "cell_type": "code",
      "metadata": {
        "id": "lyTW91sIq9DX",
        "colab_type": "code",
        "colab": {
          "base_uri": "https://localhost:8080/",
          "height": 314
        },
        "outputId": "063b5a59-82c8-4c9f-af8a-d27de6712faf"
      },
      "source": [
        "scprep.plot.scatter(x=data_pca[0], y=data_pca[1],\n",
        "                    c=cultivars==my_cultivar, ticks=False)"
      ],
      "execution_count": 8,
      "outputs": [
        {
          "output_type": "execute_result",
          "data": {
            "text/plain": [
              "<matplotlib.axes._subplots.AxesSubplot at 0x7f2f219c1048>"
            ]
          },
          "metadata": {
            "tags": []
          },
          "execution_count": 8
        },
        {
          "output_type": "display_data",
          "data": {
            "image/png": "[encoded data removed]",
            "text/plain": [
              "<Figure size 432x288 with 1 Axes>"
            ]
          },
          "metadata": {
            "tags": []
          }
        }
      ]
    },
    {
      "cell_type": "markdown",
      "metadata": {
        "id": "PWU0wcZlq9D4",
        "colab_type": "text"
      },
      "source": [
        "### Exercise 1 - pick through the first few principal components and see which best separate your chosen cultivar"
      ]
    },
    {
      "cell_type": "code",
      "metadata": {
        "id": "1_OwfEYbq9D5",
        "colab_type": "code",
        "colab": {}
      },
      "source": [
        "# =====================\n",
        "# Use scprep.plot.scatter to plot different principal components\n",
        "scprep.plot.scatter(x=\n",
        "                    y=\n",
        "                    c=cultivars==my_cultivar, ticks=False)\n",
        "# ====================="
      ],
      "execution_count": 0,
      "outputs": []
    },
    {
      "cell_type": "markdown",
      "metadata": {
        "id": "fALK39B8q9EH",
        "colab_type": "text"
      },
      "source": [
        "## 2. Downloading the Retinal Bipolar dataset\n",
        "\n",
        "\n",
        "Alternatively, you may load your own data by replacing the Google Drive file ids with your own file ids.\n",
        "\n",
        "Note that if you do, you will likely not have annotated celltype labels yet. Replace all references to `metadata['CELLTYPE']` with an entry from `metadata`, or your favorite gene."
      ]
    },
    {
      "cell_type": "code",
      "metadata": {
        "id": "r9efP482q9EH",
        "colab_type": "code",
        "colab": {}
      },
      "source": [
        "# download the data from Google Drive\n",
        "scprep.io.download.download_google_drive(\"1QGkqL_FF7iveR1TLZ8HJKBANOmugBxlm\",\n",
        "                                         \"retinal_bipolar.zip\")\n",
        "scprep.io.download.unzip(\"retinal_bipolar.zip\")"
      ],
      "execution_count": 0,
      "outputs": []
    },
    {
      "cell_type": "code",
      "metadata": {
        "id": "7OfHsAT7q9ES",
        "colab_type": "code",
        "colab": {
          "base_uri": "https://localhost:8080/",
          "height": 270
        },
        "outputId": "7f2504f9-1a11-4608-aa34-76ff253417b9"
      },
      "source": [
        "# read in the data\n",
        "data = scprep.io.load_mtx(\"retinal_bipolar/matrix.mtx\",\n",
        "                         cell_names=\"retinal_bipolar/cell_names.tsv\",\n",
        "                         gene_names=\"retinal_bipolar/gene_names.tsv\")\n",
        "data.head()"
      ],
      "execution_count": 10,
      "outputs": [
        {
          "output_type": "execute_result",
          "data": {
            "text/html": [
              "<div>\n",
              "<style scoped>\n",
              "    .dataframe tbody tr th:only-of-type {\n",
              "        vertical-align: middle;\n",
              "    }\n",
              "\n",
              "    .dataframe tbody tr th {\n",
              "        vertical-align: top;\n",
              "    }\n",
              "\n",
              "    .dataframe thead th {\n",
              "        text-align: right;\n",
              "    }\n",
              "</style>\n",
              "<table border=\"1\" class=\"dataframe\">\n",
              "  <thead>\n",
              "    <tr style=\"text-align: right;\">\n",
              "      <th></th>\n",
              "      <th>0610005C13Rik</th>\n",
              "      <th>0610007P14Rik</th>\n",
              "      <th>0610009B22Rik</th>\n",
              "      <th>0610009E02Rik</th>\n",
              "      <th>0610009L18Rik</th>\n",
              "      <th>0610009O20Rik</th>\n",
              "      <th>0610010F05Rik</th>\n",
              "      <th>0610010K14Rik</th>\n",
              "      <th>0610011F06Rik</th>\n",
              "      <th>0610025J13Rik</th>\n",
              "      <th>0610030E20Rik</th>\n",
              "      <th>0610037L13Rik</th>\n",
              "      <th>0610038B21Rik</th>\n",
              "      <th>0610039K10Rik</th>\n",
              "      <th>0610040B10Rik</th>\n",
              "      <th>0610040F04Rik</th>\n",
              "      <th>0610040J01Rik</th>\n",
              "      <th>0610043K17Rik</th>\n",
              "      <th>1010001B22Rik</th>\n",
              "      <th>1010001N08Rik</th>\n",
              "      <th>1110001J03Rik</th>\n",
              "      <th>1110002E22Rik</th>\n",
              "      <th>1110002J07Rik</th>\n",
              "      <th>1110002L01Rik</th>\n",
              "      <th>1110002O04Rik</th>\n",
              "      <th>1110004E09Rik</th>\n",
              "      <th>1110004F10Rik</th>\n",
              "      <th>1110007C09Rik</th>\n",
              "      <th>1110008F13Rik</th>\n",
              "      <th>1110008L16Rik</th>\n",
              "      <th>1110008P14Rik</th>\n",
              "      <th>1110012L19Rik</th>\n",
              "      <th>1110015O18Rik</th>\n",
              "      <th>1110017D15Rik</th>\n",
              "      <th>1110018N20Rik</th>\n",
              "      <th>1110019D14Rik</th>\n",
              "      <th>1110020A21Rik</th>\n",
              "      <th>1110025M09Rik</th>\n",
              "      <th>1110028F18Rik</th>\n",
              "      <th>1110032A03Rik</th>\n",
              "      <th>...</th>\n",
              "      <th>n-R5s151</th>\n",
              "      <th>n-R5s152</th>\n",
              "      <th>n-R5s160</th>\n",
              "      <th>n-R5s161</th>\n",
              "      <th>n-R5s164</th>\n",
              "      <th>n-R5s173</th>\n",
              "      <th>n-R5s175</th>\n",
              "      <th>n-R5s189</th>\n",
              "      <th>n-R5s195</th>\n",
              "      <th>n-R5s196</th>\n",
              "      <th>n-R5s197</th>\n",
              "      <th>n-R5s2</th>\n",
              "      <th>n-R5s202</th>\n",
              "      <th>n-R5s205</th>\n",
              "      <th>n-R5s209</th>\n",
              "      <th>n-R5s21</th>\n",
              "      <th>n-R5s210</th>\n",
              "      <th>n-R5s213</th>\n",
              "      <th>n-R5s216</th>\n",
              "      <th>n-R5s25</th>\n",
              "      <th>n-R5s28</th>\n",
              "      <th>n-R5s29</th>\n",
              "      <th>n-R5s33</th>\n",
              "      <th>n-R5s39</th>\n",
              "      <th>n-R5s40</th>\n",
              "      <th>n-R5s47</th>\n",
              "      <th>n-R5s58</th>\n",
              "      <th>n-R5s62</th>\n",
              "      <th>n-R5s65</th>\n",
              "      <th>n-R5s69</th>\n",
              "      <th>n-R5s77</th>\n",
              "      <th>n-R5s8</th>\n",
              "      <th>n-R5s85</th>\n",
              "      <th>n-R5s86</th>\n",
              "      <th>n-R5s87</th>\n",
              "      <th>n-R5s88</th>\n",
              "      <th>n-R5s92</th>\n",
              "      <th>n-R5s93</th>\n",
              "      <th>n-R5s95</th>\n",
              "      <th>n-R5s96</th>\n",
              "    </tr>\n",
              "  </thead>\n",
              "  <tbody>\n",
              "    <tr>\n",
              "      <th>Bipolar1_CCCACAAGACTA</th>\n",
              "      <td>0.0</td>\n",
              "      <td>0.0</td>\n",
              "      <td>0.0</td>\n",
              "      <td>0.0</td>\n",
              "      <td>0.0</td>\n",
              "      <td>2.0</td>\n",
              "      <td>1.0</td>\n",
              "      <td>0.0</td>\n",
              "      <td>0.0</td>\n",
              "      <td>0.0</td>\n",
              "      <td>0.0</td>\n",
              "      <td>0.0</td>\n",
              "      <td>0.0</td>\n",
              "      <td>0.0</td>\n",
              "      <td>1.0</td>\n",
              "      <td>0.0</td>\n",
              "      <td>0.0</td>\n",
              "      <td>0.0</td>\n",
              "      <td>0.0</td>\n",
              "      <td>0.0</td>\n",
              "      <td>1.0</td>\n",
              "      <td>0.0</td>\n",
              "      <td>0.0</td>\n",
              "      <td>1.0</td>\n",
              "      <td>0.0</td>\n",
              "      <td>0.0</td>\n",
              "      <td>3.0</td>\n",
              "      <td>0.0</td>\n",
              "      <td>0.0</td>\n",
              "      <td>0.0</td>\n",
              "      <td>1.0</td>\n",
              "      <td>0.0</td>\n",
              "      <td>0.0</td>\n",
              "      <td>0.0</td>\n",
              "      <td>0.0</td>\n",
              "      <td>0.0</td>\n",
              "      <td>0.0</td>\n",
              "      <td>0.0</td>\n",
              "      <td>0.0</td>\n",
              "      <td>0.0</td>\n",
              "      <td>...</td>\n",
              "      <td>0.0</td>\n",
              "      <td>0.0</td>\n",
              "      <td>0.0</td>\n",
              "      <td>0.0</td>\n",
              "      <td>0.0</td>\n",
              "      <td>0.0</td>\n",
              "      <td>0.0</td>\n",
              "      <td>0.0</td>\n",
              "      <td>0.0</td>\n",
              "      <td>0.0</td>\n",
              "      <td>0.0</td>\n",
              "      <td>0.0</td>\n",
              "      <td>0.0</td>\n",
              "      <td>0.0</td>\n",
              "      <td>0.0</td>\n",
              "      <td>0.0</td>\n",
              "      <td>0.0</td>\n",
              "      <td>0.0</td>\n",
              "      <td>0.0</td>\n",
              "      <td>0.0</td>\n",
              "      <td>0.0</td>\n",
              "      <td>0.0</td>\n",
              "      <td>0.0</td>\n",
              "      <td>0.0</td>\n",
              "      <td>0.0</td>\n",
              "      <td>0.0</td>\n",
              "      <td>0.0</td>\n",
              "      <td>0.0</td>\n",
              "      <td>0.0</td>\n",
              "      <td>0.0</td>\n",
              "      <td>0.0</td>\n",
              "      <td>0.0</td>\n",
              "      <td>0.0</td>\n",
              "      <td>0.0</td>\n",
              "      <td>0.0</td>\n",
              "      <td>0.0</td>\n",
              "      <td>0.0</td>\n",
              "      <td>0.0</td>\n",
              "      <td>0.0</td>\n",
              "      <td>0.0</td>\n",
              "    </tr>\n",
              "    <tr>\n",
              "      <th>Bipolar1_TCGCCTCGTAAG</th>\n",
              "      <td>0.0</td>\n",
              "      <td>0.0</td>\n",
              "      <td>1.0</td>\n",
              "      <td>0.0</td>\n",
              "      <td>0.0</td>\n",
              "      <td>0.0</td>\n",
              "      <td>1.0</td>\n",
              "      <td>0.0</td>\n",
              "      <td>0.0</td>\n",
              "      <td>0.0</td>\n",
              "      <td>1.0</td>\n",
              "      <td>1.0</td>\n",
              "      <td>0.0</td>\n",
              "      <td>0.0</td>\n",
              "      <td>0.0</td>\n",
              "      <td>0.0</td>\n",
              "      <td>0.0</td>\n",
              "      <td>1.0</td>\n",
              "      <td>0.0</td>\n",
              "      <td>0.0</td>\n",
              "      <td>1.0</td>\n",
              "      <td>0.0</td>\n",
              "      <td>0.0</td>\n",
              "      <td>0.0</td>\n",
              "      <td>0.0</td>\n",
              "      <td>1.0</td>\n",
              "      <td>1.0</td>\n",
              "      <td>0.0</td>\n",
              "      <td>1.0</td>\n",
              "      <td>0.0</td>\n",
              "      <td>1.0</td>\n",
              "      <td>1.0</td>\n",
              "      <td>0.0</td>\n",
              "      <td>0.0</td>\n",
              "      <td>0.0</td>\n",
              "      <td>0.0</td>\n",
              "      <td>0.0</td>\n",
              "      <td>1.0</td>\n",
              "      <td>0.0</td>\n",
              "      <td>1.0</td>\n",
              "      <td>...</td>\n",
              "      <td>0.0</td>\n",
              "      <td>0.0</td>\n",
              "      <td>0.0</td>\n",
              "      <td>0.0</td>\n",
              "      <td>0.0</td>\n",
              "      <td>0.0</td>\n",
              "      <td>0.0</td>\n",
              "      <td>0.0</td>\n",
              "      <td>0.0</td>\n",
              "      <td>0.0</td>\n",
              "      <td>0.0</td>\n",
              "      <td>0.0</td>\n",
              "      <td>0.0</td>\n",
              "      <td>0.0</td>\n",
              "      <td>0.0</td>\n",
              "      <td>0.0</td>\n",
              "      <td>0.0</td>\n",
              "      <td>0.0</td>\n",
              "      <td>0.0</td>\n",
              "      <td>0.0</td>\n",
              "      <td>0.0</td>\n",
              "      <td>0.0</td>\n",
              "      <td>0.0</td>\n",
              "      <td>0.0</td>\n",
              "      <td>0.0</td>\n",
              "      <td>0.0</td>\n",
              "      <td>0.0</td>\n",
              "      <td>0.0</td>\n",
              "      <td>0.0</td>\n",
              "      <td>0.0</td>\n",
              "      <td>0.0</td>\n",
              "      <td>0.0</td>\n",
              "      <td>0.0</td>\n",
              "      <td>0.0</td>\n",
              "      <td>0.0</td>\n",
              "      <td>0.0</td>\n",
              "      <td>0.0</td>\n",
              "      <td>0.0</td>\n",
              "      <td>0.0</td>\n",
              "      <td>0.0</td>\n",
              "    </tr>\n",
              "    <tr>\n",
              "      <th>Bipolar1_CAAAGCATTTGC</th>\n",
              "      <td>0.0</td>\n",
              "      <td>0.0</td>\n",
              "      <td>0.0</td>\n",
              "      <td>0.0</td>\n",
              "      <td>0.0</td>\n",
              "      <td>0.0</td>\n",
              "      <td>0.0</td>\n",
              "      <td>0.0</td>\n",
              "      <td>0.0</td>\n",
              "      <td>0.0</td>\n",
              "      <td>0.0</td>\n",
              "      <td>1.0</td>\n",
              "      <td>0.0</td>\n",
              "      <td>0.0</td>\n",
              "      <td>0.0</td>\n",
              "      <td>0.0</td>\n",
              "      <td>0.0</td>\n",
              "      <td>0.0</td>\n",
              "      <td>0.0</td>\n",
              "      <td>0.0</td>\n",
              "      <td>0.0</td>\n",
              "      <td>0.0</td>\n",
              "      <td>0.0</td>\n",
              "      <td>0.0</td>\n",
              "      <td>0.0</td>\n",
              "      <td>0.0</td>\n",
              "      <td>3.0</td>\n",
              "      <td>0.0</td>\n",
              "      <td>0.0</td>\n",
              "      <td>0.0</td>\n",
              "      <td>0.0</td>\n",
              "      <td>0.0</td>\n",
              "      <td>1.0</td>\n",
              "      <td>0.0</td>\n",
              "      <td>0.0</td>\n",
              "      <td>0.0</td>\n",
              "      <td>0.0</td>\n",
              "      <td>0.0</td>\n",
              "      <td>0.0</td>\n",
              "      <td>0.0</td>\n",
              "      <td>...</td>\n",
              "      <td>0.0</td>\n",
              "      <td>0.0</td>\n",
              "      <td>0.0</td>\n",
              "      <td>0.0</td>\n",
              "      <td>0.0</td>\n",
              "      <td>0.0</td>\n",
              "      <td>0.0</td>\n",
              "      <td>0.0</td>\n",
              "      <td>0.0</td>\n",
              "      <td>0.0</td>\n",
              "      <td>0.0</td>\n",
              "      <td>0.0</td>\n",
              "      <td>0.0</td>\n",
              "      <td>0.0</td>\n",
              "      <td>0.0</td>\n",
              "      <td>0.0</td>\n",
              "      <td>0.0</td>\n",
              "      <td>0.0</td>\n",
              "      <td>0.0</td>\n",
              "      <td>0.0</td>\n",
              "      <td>0.0</td>\n",
              "      <td>0.0</td>\n",
              "      <td>0.0</td>\n",
              "      <td>0.0</td>\n",
              "      <td>0.0</td>\n",
              "      <td>0.0</td>\n",
              "      <td>0.0</td>\n",
              "      <td>0.0</td>\n",
              "      <td>0.0</td>\n",
              "      <td>0.0</td>\n",
              "      <td>0.0</td>\n",
              "      <td>0.0</td>\n",
              "      <td>0.0</td>\n",
              "      <td>0.0</td>\n",
              "      <td>0.0</td>\n",
              "      <td>0.0</td>\n",
              "      <td>0.0</td>\n",
              "      <td>0.0</td>\n",
              "      <td>0.0</td>\n",
              "      <td>0.0</td>\n",
              "    </tr>\n",
              "    <tr>\n",
              "      <th>Bipolar1_CTTTTGATTGAC</th>\n",
              "      <td>0.0</td>\n",
              "      <td>0.0</td>\n",
              "      <td>0.0</td>\n",
              "      <td>0.0</td>\n",
              "      <td>0.0</td>\n",
              "      <td>0.0</td>\n",
              "      <td>0.0</td>\n",
              "      <td>0.0</td>\n",
              "      <td>0.0</td>\n",
              "      <td>0.0</td>\n",
              "      <td>1.0</td>\n",
              "      <td>0.0</td>\n",
              "      <td>0.0</td>\n",
              "      <td>0.0</td>\n",
              "      <td>1.0</td>\n",
              "      <td>0.0</td>\n",
              "      <td>0.0</td>\n",
              "      <td>0.0</td>\n",
              "      <td>0.0</td>\n",
              "      <td>0.0</td>\n",
              "      <td>0.0</td>\n",
              "      <td>0.0</td>\n",
              "      <td>0.0</td>\n",
              "      <td>0.0</td>\n",
              "      <td>0.0</td>\n",
              "      <td>0.0</td>\n",
              "      <td>1.0</td>\n",
              "      <td>0.0</td>\n",
              "      <td>1.0</td>\n",
              "      <td>0.0</td>\n",
              "      <td>0.0</td>\n",
              "      <td>0.0</td>\n",
              "      <td>0.0</td>\n",
              "      <td>0.0</td>\n",
              "      <td>0.0</td>\n",
              "      <td>0.0</td>\n",
              "      <td>0.0</td>\n",
              "      <td>0.0</td>\n",
              "      <td>0.0</td>\n",
              "      <td>0.0</td>\n",
              "      <td>...</td>\n",
              "      <td>0.0</td>\n",
              "      <td>0.0</td>\n",
              "      <td>0.0</td>\n",
              "      <td>0.0</td>\n",
              "      <td>0.0</td>\n",
              "      <td>0.0</td>\n",
              "      <td>0.0</td>\n",
              "      <td>0.0</td>\n",
              "      <td>0.0</td>\n",
              "      <td>0.0</td>\n",
              "      <td>0.0</td>\n",
              "      <td>0.0</td>\n",
              "      <td>0.0</td>\n",
              "      <td>0.0</td>\n",
              "      <td>0.0</td>\n",
              "      <td>0.0</td>\n",
              "      <td>0.0</td>\n",
              "      <td>0.0</td>\n",
              "      <td>0.0</td>\n",
              "      <td>0.0</td>\n",
              "      <td>0.0</td>\n",
              "      <td>0.0</td>\n",
              "      <td>0.0</td>\n",
              "      <td>0.0</td>\n",
              "      <td>0.0</td>\n",
              "      <td>0.0</td>\n",
              "      <td>0.0</td>\n",
              "      <td>0.0</td>\n",
              "      <td>0.0</td>\n",
              "      <td>0.0</td>\n",
              "      <td>0.0</td>\n",
              "      <td>0.0</td>\n",
              "      <td>0.0</td>\n",
              "      <td>0.0</td>\n",
              "      <td>0.0</td>\n",
              "      <td>0.0</td>\n",
              "      <td>0.0</td>\n",
              "      <td>0.0</td>\n",
              "      <td>0.0</td>\n",
              "      <td>0.0</td>\n",
              "    </tr>\n",
              "    <tr>\n",
              "      <th>Bipolar1_GCTCCAATGACA</th>\n",
              "      <td>0.0</td>\n",
              "      <td>2.0</td>\n",
              "      <td>1.0</td>\n",
              "      <td>0.0</td>\n",
              "      <td>0.0</td>\n",
              "      <td>0.0</td>\n",
              "      <td>0.0</td>\n",
              "      <td>0.0</td>\n",
              "      <td>0.0</td>\n",
              "      <td>0.0</td>\n",
              "      <td>0.0</td>\n",
              "      <td>0.0</td>\n",
              "      <td>0.0</td>\n",
              "      <td>0.0</td>\n",
              "      <td>0.0</td>\n",
              "      <td>0.0</td>\n",
              "      <td>0.0</td>\n",
              "      <td>0.0</td>\n",
              "      <td>0.0</td>\n",
              "      <td>0.0</td>\n",
              "      <td>0.0</td>\n",
              "      <td>0.0</td>\n",
              "      <td>0.0</td>\n",
              "      <td>1.0</td>\n",
              "      <td>0.0</td>\n",
              "      <td>0.0</td>\n",
              "      <td>0.0</td>\n",
              "      <td>0.0</td>\n",
              "      <td>0.0</td>\n",
              "      <td>0.0</td>\n",
              "      <td>0.0</td>\n",
              "      <td>0.0</td>\n",
              "      <td>0.0</td>\n",
              "      <td>0.0</td>\n",
              "      <td>0.0</td>\n",
              "      <td>0.0</td>\n",
              "      <td>0.0</td>\n",
              "      <td>0.0</td>\n",
              "      <td>0.0</td>\n",
              "      <td>0.0</td>\n",
              "      <td>...</td>\n",
              "      <td>0.0</td>\n",
              "      <td>0.0</td>\n",
              "      <td>0.0</td>\n",
              "      <td>0.0</td>\n",
              "      <td>0.0</td>\n",
              "      <td>0.0</td>\n",
              "      <td>0.0</td>\n",
              "      <td>0.0</td>\n",
              "      <td>0.0</td>\n",
              "      <td>0.0</td>\n",
              "      <td>0.0</td>\n",
              "      <td>0.0</td>\n",
              "      <td>0.0</td>\n",
              "      <td>0.0</td>\n",
              "      <td>0.0</td>\n",
              "      <td>0.0</td>\n",
              "      <td>0.0</td>\n",
              "      <td>0.0</td>\n",
              "      <td>0.0</td>\n",
              "      <td>0.0</td>\n",
              "      <td>0.0</td>\n",
              "      <td>0.0</td>\n",
              "      <td>0.0</td>\n",
              "      <td>0.0</td>\n",
              "      <td>0.0</td>\n",
              "      <td>0.0</td>\n",
              "      <td>0.0</td>\n",
              "      <td>0.0</td>\n",
              "      <td>0.0</td>\n",
              "      <td>0.0</td>\n",
              "      <td>0.0</td>\n",
              "      <td>0.0</td>\n",
              "      <td>0.0</td>\n",
              "      <td>0.0</td>\n",
              "      <td>0.0</td>\n",
              "      <td>0.0</td>\n",
              "      <td>0.0</td>\n",
              "      <td>0.0</td>\n",
              "      <td>0.0</td>\n",
              "      <td>0.0</td>\n",
              "    </tr>\n",
              "  </tbody>\n",
              "</table>\n",
              "<p>5 rows × 24904 columns</p>\n",
              "</div>"
            ],
            "text/plain": [
              "                       0610005C13Rik  0610007P14Rik  ...  n-R5s95  n-R5s96\n",
              "Bipolar1_CCCACAAGACTA            0.0            0.0  ...      0.0      0.0\n",
              "Bipolar1_TCGCCTCGTAAG            0.0            0.0  ...      0.0      0.0\n",
              "Bipolar1_CAAAGCATTTGC            0.0            0.0  ...      0.0      0.0\n",
              "Bipolar1_CTTTTGATTGAC            0.0            0.0  ...      0.0      0.0\n",
              "Bipolar1_GCTCCAATGACA            0.0            2.0  ...      0.0      0.0\n",
              "\n",
              "[5 rows x 24904 columns]"
            ]
          },
          "metadata": {
            "tags": []
          },
          "execution_count": 10
        }
      ]
    },
    {
      "cell_type": "code",
      "metadata": {
        "id": "uwwhXsqsq9Ea",
        "colab_type": "code",
        "colab": {
          "base_uri": "https://localhost:8080/",
          "height": 238
        },
        "outputId": "a361d322-b046-4119-91cd-0b4f4213dc2d"
      },
      "source": [
        "# read in the cluster labels\n",
        "metadata = scprep.io.load_tsv(\"retinal_bipolar/metadata.tsv\")\n",
        "metadata.head()"
      ],
      "execution_count": 11,
      "outputs": [
        {
          "output_type": "stream",
          "text": [
            "/usr/local/lib/python3.6/dist-packages/scprep/sanitize.py:53: RuntimeWarning: Data is not numeric. Many scprep functions will not work.\n",
            "  RuntimeWarning,\n"
          ],
          "name": "stderr"
        },
        {
          "output_type": "execute_result",
          "data": {
            "text/html": [
              "<div>\n",
              "<style scoped>\n",
              "    .dataframe tbody tr th:only-of-type {\n",
              "        vertical-align: middle;\n",
              "    }\n",
              "\n",
              "    .dataframe tbody tr th {\n",
              "        vertical-align: top;\n",
              "    }\n",
              "\n",
              "    .dataframe thead th {\n",
              "        text-align: right;\n",
              "    }\n",
              "</style>\n",
              "<table border=\"1\" class=\"dataframe\">\n",
              "  <thead>\n",
              "    <tr style=\"text-align: right;\">\n",
              "      <th></th>\n",
              "      <th>CLUSTER</th>\n",
              "      <th>SUB-CLUSTER</th>\n",
              "      <th>CELLTYPE</th>\n",
              "    </tr>\n",
              "  </thead>\n",
              "  <tbody>\n",
              "    <tr>\n",
              "      <th>Bipolar1_CCCACAAGACTA</th>\n",
              "      <td>11.0</td>\n",
              "      <td>11</td>\n",
              "      <td>BC5D</td>\n",
              "    </tr>\n",
              "    <tr>\n",
              "      <th>Bipolar1_TCGCCTCGTAAG</th>\n",
              "      <td>23.0</td>\n",
              "      <td>23</td>\n",
              "      <td>23</td>\n",
              "    </tr>\n",
              "    <tr>\n",
              "      <th>Bipolar1_CAAAGCATTTGC</th>\n",
              "      <td>5.0</td>\n",
              "      <td>5</td>\n",
              "      <td>BC6</td>\n",
              "    </tr>\n",
              "    <tr>\n",
              "      <th>Bipolar1_CTTTTGATTGAC</th>\n",
              "      <td>4.0</td>\n",
              "      <td>4</td>\n",
              "      <td>BC7</td>\n",
              "    </tr>\n",
              "    <tr>\n",
              "      <th>Bipolar1_GCTCCAATGACA</th>\n",
              "      <td>1.0</td>\n",
              "      <td>1</td>\n",
              "      <td>Rod BC</td>\n",
              "    </tr>\n",
              "  </tbody>\n",
              "</table>\n",
              "</div>"
            ],
            "text/plain": [
              "                       CLUSTER SUB-CLUSTER CELLTYPE\n",
              "Bipolar1_CCCACAAGACTA     11.0          11     BC5D\n",
              "Bipolar1_TCGCCTCGTAAG     23.0          23       23\n",
              "Bipolar1_CAAAGCATTTGC      5.0           5      BC6\n",
              "Bipolar1_CTTTTGATTGAC      4.0           4      BC7\n",
              "Bipolar1_GCTCCAATGACA      1.0           1   Rod BC"
            ]
          },
          "metadata": {
            "tags": []
          },
          "execution_count": 11
        }
      ]
    },
    {
      "cell_type": "code",
      "metadata": {
        "id": "lxViNIQ4q9E4",
        "colab_type": "code",
        "colab": {
          "base_uri": "https://localhost:8080/",
          "height": 270
        },
        "outputId": "c1353892-58a7-483e-8f4b-67042cac7154"
      },
      "source": [
        "data.head()"
      ],
      "execution_count": 12,
      "outputs": [
        {
          "output_type": "execute_result",
          "data": {
            "text/html": [
              "<div>\n",
              "<style scoped>\n",
              "    .dataframe tbody tr th:only-of-type {\n",
              "        vertical-align: middle;\n",
              "    }\n",
              "\n",
              "    .dataframe tbody tr th {\n",
              "        vertical-align: top;\n",
              "    }\n",
              "\n",
              "    .dataframe thead th {\n",
              "        text-align: right;\n",
              "    }\n",
              "</style>\n",
              "<table border=\"1\" class=\"dataframe\">\n",
              "  <thead>\n",
              "    <tr style=\"text-align: right;\">\n",
              "      <th></th>\n",
              "      <th>0610005C13Rik</th>\n",
              "      <th>0610007P14Rik</th>\n",
              "      <th>0610009B22Rik</th>\n",
              "      <th>0610009E02Rik</th>\n",
              "      <th>0610009L18Rik</th>\n",
              "      <th>0610009O20Rik</th>\n",
              "      <th>0610010F05Rik</th>\n",
              "      <th>0610010K14Rik</th>\n",
              "      <th>0610011F06Rik</th>\n",
              "      <th>0610025J13Rik</th>\n",
              "      <th>0610030E20Rik</th>\n",
              "      <th>0610037L13Rik</th>\n",
              "      <th>0610038B21Rik</th>\n",
              "      <th>0610039K10Rik</th>\n",
              "      <th>0610040B10Rik</th>\n",
              "      <th>0610040F04Rik</th>\n",
              "      <th>0610040J01Rik</th>\n",
              "      <th>0610043K17Rik</th>\n",
              "      <th>1010001B22Rik</th>\n",
              "      <th>1010001N08Rik</th>\n",
              "      <th>1110001J03Rik</th>\n",
              "      <th>1110002E22Rik</th>\n",
              "      <th>1110002J07Rik</th>\n",
              "      <th>1110002L01Rik</th>\n",
              "      <th>1110002O04Rik</th>\n",
              "      <th>1110004E09Rik</th>\n",
              "      <th>1110004F10Rik</th>\n",
              "      <th>1110007C09Rik</th>\n",
              "      <th>1110008F13Rik</th>\n",
              "      <th>1110008L16Rik</th>\n",
              "      <th>1110008P14Rik</th>\n",
              "      <th>1110012L19Rik</th>\n",
              "      <th>1110015O18Rik</th>\n",
              "      <th>1110017D15Rik</th>\n",
              "      <th>1110018N20Rik</th>\n",
              "      <th>1110019D14Rik</th>\n",
              "      <th>1110020A21Rik</th>\n",
              "      <th>1110025M09Rik</th>\n",
              "      <th>1110028F18Rik</th>\n",
              "      <th>1110032A03Rik</th>\n",
              "      <th>...</th>\n",
              "      <th>n-R5s151</th>\n",
              "      <th>n-R5s152</th>\n",
              "      <th>n-R5s160</th>\n",
              "      <th>n-R5s161</th>\n",
              "      <th>n-R5s164</th>\n",
              "      <th>n-R5s173</th>\n",
              "      <th>n-R5s175</th>\n",
              "      <th>n-R5s189</th>\n",
              "      <th>n-R5s195</th>\n",
              "      <th>n-R5s196</th>\n",
              "      <th>n-R5s197</th>\n",
              "      <th>n-R5s2</th>\n",
              "      <th>n-R5s202</th>\n",
              "      <th>n-R5s205</th>\n",
              "      <th>n-R5s209</th>\n",
              "      <th>n-R5s21</th>\n",
              "      <th>n-R5s210</th>\n",
              "      <th>n-R5s213</th>\n",
              "      <th>n-R5s216</th>\n",
              "      <th>n-R5s25</th>\n",
              "      <th>n-R5s28</th>\n",
              "      <th>n-R5s29</th>\n",
              "      <th>n-R5s33</th>\n",
              "      <th>n-R5s39</th>\n",
              "      <th>n-R5s40</th>\n",
              "      <th>n-R5s47</th>\n",
              "      <th>n-R5s58</th>\n",
              "      <th>n-R5s62</th>\n",
              "      <th>n-R5s65</th>\n",
              "      <th>n-R5s69</th>\n",
              "      <th>n-R5s77</th>\n",
              "      <th>n-R5s8</th>\n",
              "      <th>n-R5s85</th>\n",
              "      <th>n-R5s86</th>\n",
              "      <th>n-R5s87</th>\n",
              "      <th>n-R5s88</th>\n",
              "      <th>n-R5s92</th>\n",
              "      <th>n-R5s93</th>\n",
              "      <th>n-R5s95</th>\n",
              "      <th>n-R5s96</th>\n",
              "    </tr>\n",
              "  </thead>\n",
              "  <tbody>\n",
              "    <tr>\n",
              "      <th>Bipolar1_CCCACAAGACTA</th>\n",
              "      <td>0.0</td>\n",
              "      <td>0.0</td>\n",
              "      <td>0.0</td>\n",
              "      <td>0.0</td>\n",
              "      <td>0.0</td>\n",
              "      <td>2.0</td>\n",
              "      <td>1.0</td>\n",
              "      <td>0.0</td>\n",
              "      <td>0.0</td>\n",
              "      <td>0.0</td>\n",
              "      <td>0.0</td>\n",
              "      <td>0.0</td>\n",
              "      <td>0.0</td>\n",
              "      <td>0.0</td>\n",
              "      <td>1.0</td>\n",
              "      <td>0.0</td>\n",
              "      <td>0.0</td>\n",
              "      <td>0.0</td>\n",
              "      <td>0.0</td>\n",
              "      <td>0.0</td>\n",
              "      <td>1.0</td>\n",
              "      <td>0.0</td>\n",
              "      <td>0.0</td>\n",
              "      <td>1.0</td>\n",
              "      <td>0.0</td>\n",
              "      <td>0.0</td>\n",
              "      <td>3.0</td>\n",
              "      <td>0.0</td>\n",
              "      <td>0.0</td>\n",
              "      <td>0.0</td>\n",
              "      <td>1.0</td>\n",
              "      <td>0.0</td>\n",
              "      <td>0.0</td>\n",
              "      <td>0.0</td>\n",
              "      <td>0.0</td>\n",
              "      <td>0.0</td>\n",
              "      <td>0.0</td>\n",
              "      <td>0.0</td>\n",
              "      <td>0.0</td>\n",
              "      <td>0.0</td>\n",
              "      <td>...</td>\n",
              "      <td>0.0</td>\n",
              "      <td>0.0</td>\n",
              "      <td>0.0</td>\n",
              "      <td>0.0</td>\n",
              "      <td>0.0</td>\n",
              "      <td>0.0</td>\n",
              "      <td>0.0</td>\n",
              "      <td>0.0</td>\n",
              "      <td>0.0</td>\n",
              "      <td>0.0</td>\n",
              "      <td>0.0</td>\n",
              "      <td>0.0</td>\n",
              "      <td>0.0</td>\n",
              "      <td>0.0</td>\n",
              "      <td>0.0</td>\n",
              "      <td>0.0</td>\n",
              "      <td>0.0</td>\n",
              "      <td>0.0</td>\n",
              "      <td>0.0</td>\n",
              "      <td>0.0</td>\n",
              "      <td>0.0</td>\n",
              "      <td>0.0</td>\n",
              "      <td>0.0</td>\n",
              "      <td>0.0</td>\n",
              "      <td>0.0</td>\n",
              "      <td>0.0</td>\n",
              "      <td>0.0</td>\n",
              "      <td>0.0</td>\n",
              "      <td>0.0</td>\n",
              "      <td>0.0</td>\n",
              "      <td>0.0</td>\n",
              "      <td>0.0</td>\n",
              "      <td>0.0</td>\n",
              "      <td>0.0</td>\n",
              "      <td>0.0</td>\n",
              "      <td>0.0</td>\n",
              "      <td>0.0</td>\n",
              "      <td>0.0</td>\n",
              "      <td>0.0</td>\n",
              "      <td>0.0</td>\n",
              "    </tr>\n",
              "    <tr>\n",
              "      <th>Bipolar1_TCGCCTCGTAAG</th>\n",
              "      <td>0.0</td>\n",
              "      <td>0.0</td>\n",
              "      <td>1.0</td>\n",
              "      <td>0.0</td>\n",
              "      <td>0.0</td>\n",
              "      <td>0.0</td>\n",
              "      <td>1.0</td>\n",
              "      <td>0.0</td>\n",
              "      <td>0.0</td>\n",
              "      <td>0.0</td>\n",
              "      <td>1.0</td>\n",
              "      <td>1.0</td>\n",
              "      <td>0.0</td>\n",
              "      <td>0.0</td>\n",
              "      <td>0.0</td>\n",
              "      <td>0.0</td>\n",
              "      <td>0.0</td>\n",
              "      <td>1.0</td>\n",
              "      <td>0.0</td>\n",
              "      <td>0.0</td>\n",
              "      <td>1.0</td>\n",
              "      <td>0.0</td>\n",
              "      <td>0.0</td>\n",
              "      <td>0.0</td>\n",
              "      <td>0.0</td>\n",
              "      <td>1.0</td>\n",
              "      <td>1.0</td>\n",
              "      <td>0.0</td>\n",
              "      <td>1.0</td>\n",
              "      <td>0.0</td>\n",
              "      <td>1.0</td>\n",
              "      <td>1.0</td>\n",
              "      <td>0.0</td>\n",
              "      <td>0.0</td>\n",
              "      <td>0.0</td>\n",
              "      <td>0.0</td>\n",
              "      <td>0.0</td>\n",
              "      <td>1.0</td>\n",
              "      <td>0.0</td>\n",
              "      <td>1.0</td>\n",
              "      <td>...</td>\n",
              "      <td>0.0</td>\n",
              "      <td>0.0</td>\n",
              "      <td>0.0</td>\n",
              "      <td>0.0</td>\n",
              "      <td>0.0</td>\n",
              "      <td>0.0</td>\n",
              "      <td>0.0</td>\n",
              "      <td>0.0</td>\n",
              "      <td>0.0</td>\n",
              "      <td>0.0</td>\n",
              "      <td>0.0</td>\n",
              "      <td>0.0</td>\n",
              "      <td>0.0</td>\n",
              "      <td>0.0</td>\n",
              "      <td>0.0</td>\n",
              "      <td>0.0</td>\n",
              "      <td>0.0</td>\n",
              "      <td>0.0</td>\n",
              "      <td>0.0</td>\n",
              "      <td>0.0</td>\n",
              "      <td>0.0</td>\n",
              "      <td>0.0</td>\n",
              "      <td>0.0</td>\n",
              "      <td>0.0</td>\n",
              "      <td>0.0</td>\n",
              "      <td>0.0</td>\n",
              "      <td>0.0</td>\n",
              "      <td>0.0</td>\n",
              "      <td>0.0</td>\n",
              "      <td>0.0</td>\n",
              "      <td>0.0</td>\n",
              "      <td>0.0</td>\n",
              "      <td>0.0</td>\n",
              "      <td>0.0</td>\n",
              "      <td>0.0</td>\n",
              "      <td>0.0</td>\n",
              "      <td>0.0</td>\n",
              "      <td>0.0</td>\n",
              "      <td>0.0</td>\n",
              "      <td>0.0</td>\n",
              "    </tr>\n",
              "    <tr>\n",
              "      <th>Bipolar1_CAAAGCATTTGC</th>\n",
              "      <td>0.0</td>\n",
              "      <td>0.0</td>\n",
              "      <td>0.0</td>\n",
              "      <td>0.0</td>\n",
              "      <td>0.0</td>\n",
              "      <td>0.0</td>\n",
              "      <td>0.0</td>\n",
              "      <td>0.0</td>\n",
              "      <td>0.0</td>\n",
              "      <td>0.0</td>\n",
              "      <td>0.0</td>\n",
              "      <td>1.0</td>\n",
              "      <td>0.0</td>\n",
              "      <td>0.0</td>\n",
              "      <td>0.0</td>\n",
              "      <td>0.0</td>\n",
              "      <td>0.0</td>\n",
              "      <td>0.0</td>\n",
              "      <td>0.0</td>\n",
              "      <td>0.0</td>\n",
              "      <td>0.0</td>\n",
              "      <td>0.0</td>\n",
              "      <td>0.0</td>\n",
              "      <td>0.0</td>\n",
              "      <td>0.0</td>\n",
              "      <td>0.0</td>\n",
              "      <td>3.0</td>\n",
              "      <td>0.0</td>\n",
              "      <td>0.0</td>\n",
              "      <td>0.0</td>\n",
              "      <td>0.0</td>\n",
              "      <td>0.0</td>\n",
              "      <td>1.0</td>\n",
              "      <td>0.0</td>\n",
              "      <td>0.0</td>\n",
              "      <td>0.0</td>\n",
              "      <td>0.0</td>\n",
              "      <td>0.0</td>\n",
              "      <td>0.0</td>\n",
              "      <td>0.0</td>\n",
              "      <td>...</td>\n",
              "      <td>0.0</td>\n",
              "      <td>0.0</td>\n",
              "      <td>0.0</td>\n",
              "      <td>0.0</td>\n",
              "      <td>0.0</td>\n",
              "      <td>0.0</td>\n",
              "      <td>0.0</td>\n",
              "      <td>0.0</td>\n",
              "      <td>0.0</td>\n",
              "      <td>0.0</td>\n",
              "      <td>0.0</td>\n",
              "      <td>0.0</td>\n",
              "      <td>0.0</td>\n",
              "      <td>0.0</td>\n",
              "      <td>0.0</td>\n",
              "      <td>0.0</td>\n",
              "      <td>0.0</td>\n",
              "      <td>0.0</td>\n",
              "      <td>0.0</td>\n",
              "      <td>0.0</td>\n",
              "      <td>0.0</td>\n",
              "      <td>0.0</td>\n",
              "      <td>0.0</td>\n",
              "      <td>0.0</td>\n",
              "      <td>0.0</td>\n",
              "      <td>0.0</td>\n",
              "      <td>0.0</td>\n",
              "      <td>0.0</td>\n",
              "      <td>0.0</td>\n",
              "      <td>0.0</td>\n",
              "      <td>0.0</td>\n",
              "      <td>0.0</td>\n",
              "      <td>0.0</td>\n",
              "      <td>0.0</td>\n",
              "      <td>0.0</td>\n",
              "      <td>0.0</td>\n",
              "      <td>0.0</td>\n",
              "      <td>0.0</td>\n",
              "      <td>0.0</td>\n",
              "      <td>0.0</td>\n",
              "    </tr>\n",
              "    <tr>\n",
              "      <th>Bipolar1_CTTTTGATTGAC</th>\n",
              "      <td>0.0</td>\n",
              "      <td>0.0</td>\n",
              "      <td>0.0</td>\n",
              "      <td>0.0</td>\n",
              "      <td>0.0</td>\n",
              "      <td>0.0</td>\n",
              "      <td>0.0</td>\n",
              "      <td>0.0</td>\n",
              "      <td>0.0</td>\n",
              "      <td>0.0</td>\n",
              "      <td>1.0</td>\n",
              "      <td>0.0</td>\n",
              "      <td>0.0</td>\n",
              "      <td>0.0</td>\n",
              "      <td>1.0</td>\n",
              "      <td>0.0</td>\n",
              "      <td>0.0</td>\n",
              "      <td>0.0</td>\n",
              "      <td>0.0</td>\n",
              "      <td>0.0</td>\n",
              "      <td>0.0</td>\n",
              "      <td>0.0</td>\n",
              "      <td>0.0</td>\n",
              "      <td>0.0</td>\n",
              "      <td>0.0</td>\n",
              "      <td>0.0</td>\n",
              "      <td>1.0</td>\n",
              "      <td>0.0</td>\n",
              "      <td>1.0</td>\n",
              "      <td>0.0</td>\n",
              "      <td>0.0</td>\n",
              "      <td>0.0</td>\n",
              "      <td>0.0</td>\n",
              "      <td>0.0</td>\n",
              "      <td>0.0</td>\n",
              "      <td>0.0</td>\n",
              "      <td>0.0</td>\n",
              "      <td>0.0</td>\n",
              "      <td>0.0</td>\n",
              "      <td>0.0</td>\n",
              "      <td>...</td>\n",
              "      <td>0.0</td>\n",
              "      <td>0.0</td>\n",
              "      <td>0.0</td>\n",
              "      <td>0.0</td>\n",
              "      <td>0.0</td>\n",
              "      <td>0.0</td>\n",
              "      <td>0.0</td>\n",
              "      <td>0.0</td>\n",
              "      <td>0.0</td>\n",
              "      <td>0.0</td>\n",
              "      <td>0.0</td>\n",
              "      <td>0.0</td>\n",
              "      <td>0.0</td>\n",
              "      <td>0.0</td>\n",
              "      <td>0.0</td>\n",
              "      <td>0.0</td>\n",
              "      <td>0.0</td>\n",
              "      <td>0.0</td>\n",
              "      <td>0.0</td>\n",
              "      <td>0.0</td>\n",
              "      <td>0.0</td>\n",
              "      <td>0.0</td>\n",
              "      <td>0.0</td>\n",
              "      <td>0.0</td>\n",
              "      <td>0.0</td>\n",
              "      <td>0.0</td>\n",
              "      <td>0.0</td>\n",
              "      <td>0.0</td>\n",
              "      <td>0.0</td>\n",
              "      <td>0.0</td>\n",
              "      <td>0.0</td>\n",
              "      <td>0.0</td>\n",
              "      <td>0.0</td>\n",
              "      <td>0.0</td>\n",
              "      <td>0.0</td>\n",
              "      <td>0.0</td>\n",
              "      <td>0.0</td>\n",
              "      <td>0.0</td>\n",
              "      <td>0.0</td>\n",
              "      <td>0.0</td>\n",
              "    </tr>\n",
              "    <tr>\n",
              "      <th>Bipolar1_GCTCCAATGACA</th>\n",
              "      <td>0.0</td>\n",
              "      <td>2.0</td>\n",
              "      <td>1.0</td>\n",
              "      <td>0.0</td>\n",
              "      <td>0.0</td>\n",
              "      <td>0.0</td>\n",
              "      <td>0.0</td>\n",
              "      <td>0.0</td>\n",
              "      <td>0.0</td>\n",
              "      <td>0.0</td>\n",
              "      <td>0.0</td>\n",
              "      <td>0.0</td>\n",
              "      <td>0.0</td>\n",
              "      <td>0.0</td>\n",
              "      <td>0.0</td>\n",
              "      <td>0.0</td>\n",
              "      <td>0.0</td>\n",
              "      <td>0.0</td>\n",
              "      <td>0.0</td>\n",
              "      <td>0.0</td>\n",
              "      <td>0.0</td>\n",
              "      <td>0.0</td>\n",
              "      <td>0.0</td>\n",
              "      <td>1.0</td>\n",
              "      <td>0.0</td>\n",
              "      <td>0.0</td>\n",
              "      <td>0.0</td>\n",
              "      <td>0.0</td>\n",
              "      <td>0.0</td>\n",
              "      <td>0.0</td>\n",
              "      <td>0.0</td>\n",
              "      <td>0.0</td>\n",
              "      <td>0.0</td>\n",
              "      <td>0.0</td>\n",
              "      <td>0.0</td>\n",
              "      <td>0.0</td>\n",
              "      <td>0.0</td>\n",
              "      <td>0.0</td>\n",
              "      <td>0.0</td>\n",
              "      <td>0.0</td>\n",
              "      <td>...</td>\n",
              "      <td>0.0</td>\n",
              "      <td>0.0</td>\n",
              "      <td>0.0</td>\n",
              "      <td>0.0</td>\n",
              "      <td>0.0</td>\n",
              "      <td>0.0</td>\n",
              "      <td>0.0</td>\n",
              "      <td>0.0</td>\n",
              "      <td>0.0</td>\n",
              "      <td>0.0</td>\n",
              "      <td>0.0</td>\n",
              "      <td>0.0</td>\n",
              "      <td>0.0</td>\n",
              "      <td>0.0</td>\n",
              "      <td>0.0</td>\n",
              "      <td>0.0</td>\n",
              "      <td>0.0</td>\n",
              "      <td>0.0</td>\n",
              "      <td>0.0</td>\n",
              "      <td>0.0</td>\n",
              "      <td>0.0</td>\n",
              "      <td>0.0</td>\n",
              "      <td>0.0</td>\n",
              "      <td>0.0</td>\n",
              "      <td>0.0</td>\n",
              "      <td>0.0</td>\n",
              "      <td>0.0</td>\n",
              "      <td>0.0</td>\n",
              "      <td>0.0</td>\n",
              "      <td>0.0</td>\n",
              "      <td>0.0</td>\n",
              "      <td>0.0</td>\n",
              "      <td>0.0</td>\n",
              "      <td>0.0</td>\n",
              "      <td>0.0</td>\n",
              "      <td>0.0</td>\n",
              "      <td>0.0</td>\n",
              "      <td>0.0</td>\n",
              "      <td>0.0</td>\n",
              "      <td>0.0</td>\n",
              "    </tr>\n",
              "  </tbody>\n",
              "</table>\n",
              "<p>5 rows × 24904 columns</p>\n",
              "</div>"
            ],
            "text/plain": [
              "                       0610005C13Rik  0610007P14Rik  ...  n-R5s95  n-R5s96\n",
              "Bipolar1_CCCACAAGACTA            0.0            0.0  ...      0.0      0.0\n",
              "Bipolar1_TCGCCTCGTAAG            0.0            0.0  ...      0.0      0.0\n",
              "Bipolar1_CAAAGCATTTGC            0.0            0.0  ...      0.0      0.0\n",
              "Bipolar1_CTTTTGATTGAC            0.0            0.0  ...      0.0      0.0\n",
              "Bipolar1_GCTCCAATGACA            0.0            2.0  ...      0.0      0.0\n",
              "\n",
              "[5 rows x 24904 columns]"
            ]
          },
          "metadata": {
            "tags": []
          },
          "execution_count": 12
        }
      ]
    },
    {
      "cell_type": "code",
      "metadata": {
        "id": "TW-urs_Iq9E9",
        "colab_type": "code",
        "colab": {
          "base_uri": "https://localhost:8080/",
          "height": 204
        },
        "outputId": "417f841d-bf3e-4bfc-b28f-4648c4221261"
      },
      "source": [
        "metadata.head()"
      ],
      "execution_count": 13,
      "outputs": [
        {
          "output_type": "execute_result",
          "data": {
            "text/html": [
              "<div>\n",
              "<style scoped>\n",
              "    .dataframe tbody tr th:only-of-type {\n",
              "        vertical-align: middle;\n",
              "    }\n",
              "\n",
              "    .dataframe tbody tr th {\n",
              "        vertical-align: top;\n",
              "    }\n",
              "\n",
              "    .dataframe thead th {\n",
              "        text-align: right;\n",
              "    }\n",
              "</style>\n",
              "<table border=\"1\" class=\"dataframe\">\n",
              "  <thead>\n",
              "    <tr style=\"text-align: right;\">\n",
              "      <th></th>\n",
              "      <th>CLUSTER</th>\n",
              "      <th>SUB-CLUSTER</th>\n",
              "      <th>CELLTYPE</th>\n",
              "    </tr>\n",
              "  </thead>\n",
              "  <tbody>\n",
              "    <tr>\n",
              "      <th>Bipolar1_CCCACAAGACTA</th>\n",
              "      <td>11.0</td>\n",
              "      <td>11</td>\n",
              "      <td>BC5D</td>\n",
              "    </tr>\n",
              "    <tr>\n",
              "      <th>Bipolar1_TCGCCTCGTAAG</th>\n",
              "      <td>23.0</td>\n",
              "      <td>23</td>\n",
              "      <td>23</td>\n",
              "    </tr>\n",
              "    <tr>\n",
              "      <th>Bipolar1_CAAAGCATTTGC</th>\n",
              "      <td>5.0</td>\n",
              "      <td>5</td>\n",
              "      <td>BC6</td>\n",
              "    </tr>\n",
              "    <tr>\n",
              "      <th>Bipolar1_CTTTTGATTGAC</th>\n",
              "      <td>4.0</td>\n",
              "      <td>4</td>\n",
              "      <td>BC7</td>\n",
              "    </tr>\n",
              "    <tr>\n",
              "      <th>Bipolar1_GCTCCAATGACA</th>\n",
              "      <td>1.0</td>\n",
              "      <td>1</td>\n",
              "      <td>Rod BC</td>\n",
              "    </tr>\n",
              "  </tbody>\n",
              "</table>\n",
              "</div>"
            ],
            "text/plain": [
              "                       CLUSTER SUB-CLUSTER CELLTYPE\n",
              "Bipolar1_CCCACAAGACTA     11.0          11     BC5D\n",
              "Bipolar1_TCGCCTCGTAAG     23.0          23       23\n",
              "Bipolar1_CAAAGCATTTGC      5.0           5      BC6\n",
              "Bipolar1_CTTTTGATTGAC      4.0           4      BC7\n",
              "Bipolar1_GCTCCAATGACA      1.0           1   Rod BC"
            ]
          },
          "metadata": {
            "tags": []
          },
          "execution_count": 13
        }
      ]
    },
    {
      "cell_type": "code",
      "metadata": {
        "id": "Wl8t00mYq9FI",
        "colab_type": "code",
        "colab": {
          "base_uri": "https://localhost:8080/",
          "height": 34
        },
        "outputId": "abbc18a5-8d0b-4a1f-cf02-c71580829c41"
      },
      "source": [
        "data.shape"
      ],
      "execution_count": 14,
      "outputs": [
        {
          "output_type": "execute_result",
          "data": {
            "text/plain": [
              "(44994, 24904)"
            ]
          },
          "metadata": {
            "tags": []
          },
          "execution_count": 14
        }
      ]
    },
    {
      "cell_type": "markdown",
      "metadata": {
        "id": "QaMLpPfXq9FT",
        "colab_type": "text"
      },
      "source": [
        "## 3. Preprocessing\n",
        "\n",
        "You should be familiar with the preprocessing workflow from earlier, but we'll walk through it step by step anyway."
      ]
    },
    {
      "cell_type": "markdown",
      "metadata": {
        "id": "_viGCZyOq9FW",
        "colab_type": "text"
      },
      "source": [
        "#### Library size filtering"
      ]
    },
    {
      "cell_type": "code",
      "metadata": {
        "id": "DAiocXSOq9FX",
        "colab_type": "code",
        "colab": {
          "base_uri": "https://localhost:8080/",
          "height": 314
        },
        "outputId": "873da6c9-8eaa-464f-ded9-5c86b0d8e27c"
      },
      "source": [
        "scprep.plot.plot_library_size(data, percentile=(20,80))"
      ],
      "execution_count": 15,
      "outputs": [
        {
          "output_type": "execute_result",
          "data": {
            "text/plain": [
              "<matplotlib.axes._subplots.AxesSubplot at 0x7f2f19a52780>"
            ]
          },
          "metadata": {
            "tags": []
          },
          "execution_count": 15
        },
        {
          "output_type": "display_data",
          "data": {
            "image/png": "[encoded data removed]",
            "text/plain": [
              "<Figure size 432x288 with 1 Axes>"
            ]
          },
          "metadata": {
            "tags": [],
            "needs_background": "light"
          }
        }
      ]
    },
    {
      "cell_type": "markdown",
      "metadata": {
        "id": "Dkfe95y-q9Fl",
        "colab_type": "text"
      },
      "source": [
        "Notice that there are no cells with library size smaller than ~500. This dataset has already been filtered for library size, so we don't _need_ to do anything, but for speed and memory concerns we'll filter it a bit more aggressively."
      ]
    },
    {
      "cell_type": "code",
      "metadata": {
        "id": "VGDBIQq8q9Fm",
        "colab_type": "code",
        "colab": {}
      },
      "source": [
        "data, metadata = scprep.filter.filter_library_size(data, metadata, percentile=(20,80))"
      ],
      "execution_count": 0,
      "outputs": []
    },
    {
      "cell_type": "markdown",
      "metadata": {
        "id": "F_QO0uGzq9F1",
        "colab_type": "text"
      },
      "source": [
        "#### Library size normalization"
      ]
    },
    {
      "cell_type": "code",
      "metadata": {
        "id": "pinc_yGeq9F3",
        "colab_type": "code",
        "colab": {}
      },
      "source": [
        "data = scprep.normalize.library_size_normalize(data)"
      ],
      "execution_count": 0,
      "outputs": []
    },
    {
      "cell_type": "markdown",
      "metadata": {
        "id": "tzpJAcXdq9F5",
        "colab_type": "text"
      },
      "source": [
        "#### Mitochondrial DNA filtering"
      ]
    },
    {
      "cell_type": "code",
      "metadata": {
        "id": "_5lU1FB3q9F6",
        "colab_type": "code",
        "colab": {
          "base_uri": "https://localhost:8080/",
          "height": 314
        },
        "outputId": "88abbe1a-77af-4e6a-e9d2-4923474ae620"
      },
      "source": [
        "scprep.plot.plot_gene_set_expression(data, starts_with=\"mt-\", percentile=80)"
      ],
      "execution_count": 18,
      "outputs": [
        {
          "output_type": "execute_result",
          "data": {
            "text/plain": [
              "<matplotlib.axes._subplots.AxesSubplot at 0x7f2f1b8f67f0>"
            ]
          },
          "metadata": {
            "tags": []
          },
          "execution_count": 18
        },
        {
          "output_type": "display_data",
          "data": {
            "image/png": "[encoded data removed]",
            "text/plain": [
              "<Figure size 432x288 with 1 Axes>"
            ]
          },
          "metadata": {
            "tags": [],
            "needs_background": "light"
          }
        }
      ]
    },
    {
      "cell_type": "markdown",
      "metadata": {
        "id": "nYJW1kz1q9F-",
        "colab_type": "text"
      },
      "source": [
        "There is a long tail of high mitochondrial expression. Since we normalized library size to 10,000, a mitochondrial expression of 8,000 means nearly the entire droplet was mitochondrial. We should remove these."
      ]
    },
    {
      "cell_type": "code",
      "metadata": {
        "id": "MWiihVzsq9GA",
        "colab_type": "code",
        "colab": {
          "base_uri": "https://localhost:8080/",
          "height": 34
        },
        "outputId": "4ce23568-34dc-4c82-f513-4fc94c1316ae"
      },
      "source": [
        "data, metadata = scprep.filter.filter_gene_set_expression(\n",
        "    data, metadata, starts_with=\"mt-\", keep_cells='below', percentile=80)\n",
        "data.shape"
      ],
      "execution_count": 19,
      "outputs": [
        {
          "output_type": "execute_result",
          "data": {
            "text/plain": [
              "(21552, 24904)"
            ]
          },
          "metadata": {
            "tags": []
          },
          "execution_count": 19
        }
      ]
    },
    {
      "cell_type": "markdown",
      "metadata": {
        "id": "I_DBG8IUq9GD",
        "colab_type": "text"
      },
      "source": [
        "#### Rare gene filtering"
      ]
    },
    {
      "cell_type": "markdown",
      "metadata": {
        "id": "XaGkYgF-q9GE",
        "colab_type": "text"
      },
      "source": [
        "Now we've removed some cells, it's likely that there are some genes with close to zero total counts. These are just a waste of space."
      ]
    },
    {
      "cell_type": "code",
      "metadata": {
        "id": "UHGT1r98q9GF",
        "colab_type": "code",
        "colab": {
          "base_uri": "https://localhost:8080/",
          "height": 34
        },
        "outputId": "d4fcf72a-276e-41ab-b3f2-337a7456ca41"
      },
      "source": [
        "data = scprep.filter.filter_rare_genes(data, min_cells=10)\n",
        "data.shape"
      ],
      "execution_count": 20,
      "outputs": [
        {
          "output_type": "execute_result",
          "data": {
            "text/plain": [
              "(21552, 15524)"
            ]
          },
          "metadata": {
            "tags": []
          },
          "execution_count": 20
        }
      ]
    },
    {
      "cell_type": "markdown",
      "metadata": {
        "id": "oClxOpkFq9GH",
        "colab_type": "text"
      },
      "source": [
        "#### Square root transform"
      ]
    },
    {
      "cell_type": "code",
      "metadata": {
        "id": "Ad9Np-VOq9GH",
        "colab_type": "code",
        "colab": {}
      },
      "source": [
        "data = scprep.transform.sqrt(data)"
      ],
      "execution_count": 0,
      "outputs": []
    },
    {
      "cell_type": "markdown",
      "metadata": {
        "id": "02PRuJYnq9GL",
        "colab_type": "text"
      },
      "source": [
        "#### Saving processed files\n",
        "\n",
        "Let's make a habit of storing the preprocessed data. We'll use this again later."
      ]
    },
    {
      "cell_type": "code",
      "metadata": {
        "id": "t6wrKf1Zq9GL",
        "colab_type": "code",
        "colab": {}
      },
      "source": [
        "data.to_pickle(\"retinal_bipolar_data.pickle.gz\")\n",
        "metadata.to_pickle(\"retinal_bipolar_metadata.pickle.gz\")"
      ],
      "execution_count": 0,
      "outputs": []
    },
    {
      "cell_type": "markdown",
      "metadata": {
        "id": "_ChckroCq9GU",
        "colab_type": "text"
      },
      "source": [
        "## 4. PCA"
      ]
    },
    {
      "cell_type": "markdown",
      "metadata": {
        "id": "uxmSJfX_q9GW",
        "colab_type": "text"
      },
      "source": [
        "This dataset consists of many cell types, which were mostly identified as Amacrine cells, Muller Glia, Rod Bipolar cells, and many subtypes of Cone Bipolar cells in [Shekhar et. al, 2016](https://www.ncbi.nlm.nih.gov/pmc/articles/PMC5003425/). "
      ]
    },
    {
      "cell_type": "markdown",
      "metadata": {
        "id": "CFkxscAVq9GW",
        "colab_type": "text"
      },
      "source": [
        "#### Separating celltypes by selecting appropriate plotting features"
      ]
    },
    {
      "cell_type": "code",
      "metadata": {
        "id": "5aiuaqv0q9GW",
        "colab_type": "code",
        "colab": {
          "base_uri": "https://localhost:8080/",
          "height": 85
        },
        "outputId": "48ae9e80-db21-4e4a-a334-7f9ade348a7c"
      },
      "source": [
        "metadata['CELLTYPE'].unique()"
      ],
      "execution_count": 23,
      "outputs": [
        {
          "output_type": "execute_result",
          "data": {
            "text/plain": [
              "array(['BC5A', 'BC1B', 'BC6', 'Rod BC', 'BC3B', 'Muller Glia', 'BC5B',\n",
              "       '21', '19', 'BC5C', 'BC3A', 'BC5D', 'BC7', 'BC2', 'BC1A', '17',\n",
              "       'BC4', '18', 'BC8/9_1', '23', '-1', '24', 'BC8/9_2', 'Rod PR',\n",
              "       'Amacrine_2', 'Amacrine_1', 'Cone PR', '26', '25'], dtype=object)"
            ]
          },
          "metadata": {
            "tags": []
          },
          "execution_count": 23
        }
      ]
    },
    {
      "cell_type": "markdown",
      "metadata": {
        "id": "QlorUqjgq9GZ",
        "colab_type": "text"
      },
      "source": [
        "First, let's try to separate out the Muller Glia cells from the rest of the dataset using a couple of known marker genes."
      ]
    },
    {
      "cell_type": "code",
      "metadata": {
        "id": "KiFLeU92q9Gb",
        "colab_type": "code",
        "colab": {
          "base_uri": "https://localhost:8080/",
          "height": 314
        },
        "outputId": "1b1e6965-89e6-4a94-ad1f-f081e367eeb4"
      },
      "source": [
        "scprep.plot.scatter(data['Apoe'], data['Glul'], c=metadata['CELLTYPE'],\n",
        "                    figsize=(10,4), legend_anchor=(1,1))"
      ],
      "execution_count": 24,
      "outputs": [
        {
          "output_type": "execute_result",
          "data": {
            "text/plain": [
              "<matplotlib.axes._subplots.AxesSubplot at 0x7f2f1b81a470>"
            ]
          },
          "metadata": {
            "tags": []
          },
          "execution_count": 24
        },
        {
          "output_type": "display_data",
          "data": {
            "image/png": "[encoded data removed]",
            "text/plain": [
              "<Figure size 720x288 with 1 Axes>"
            ]
          },
          "metadata": {
            "tags": [],
            "needs_background": "light"
          }
        }
      ]
    },
    {
      "cell_type": "markdown",
      "metadata": {
        "id": "zhEG0KlWq9Gl",
        "colab_type": "text"
      },
      "source": [
        "Notice that the Muller Glia cells are mostly separate from the rest, except for a smattering of cells labelled '-1'. These cells were not assigned a cluster in the original study, so let's see what the plot looks like without them."
      ]
    },
    {
      "cell_type": "code",
      "metadata": {
        "id": "rBYum62Qq9Gn",
        "colab_type": "code",
        "colab": {
          "base_uri": "https://localhost:8080/",
          "height": 314
        },
        "outputId": "59c73b69-8d0d-4069-8a14-1544300146b8"
      },
      "source": [
        "scprep.plot.scatter(data['Apoe'], data['Glul'], c=metadata['CELLTYPE'],\n",
        "                    mask=metadata['CELLTYPE'] != '-1',\n",
        "                    figsize=(10,4), legend_anchor=(1,1))"
      ],
      "execution_count": 25,
      "outputs": [
        {
          "output_type": "execute_result",
          "data": {
            "text/plain": [
              "<matplotlib.axes._subplots.AxesSubplot at 0x7f2f17666d30>"
            ]
          },
          "metadata": {
            "tags": []
          },
          "execution_count": 25
        },
        {
          "output_type": "display_data",
          "data": {
            "image/png": "[encoded data removed]",
            "text/plain": [
              "<Figure size 720x288 with 1 Axes>"
            ]
          },
          "metadata": {
            "tags": [],
            "needs_background": "light"
          }
        }
      ]
    },
    {
      "cell_type": "markdown",
      "metadata": {
        "id": "jEk193QEq9Gx",
        "colab_type": "text"
      },
      "source": [
        "Okay, so the Muller Glia cells are relatively easy to identify using this combination of genes. But how should we choose such combinations of genes? With 20,000 to choose from, it's no easy feat. This is where PCA comes in."
      ]
    },
    {
      "cell_type": "markdown",
      "metadata": {
        "id": "JIwLUiRuq9G3",
        "colab_type": "text"
      },
      "source": [
        "#### Computing PCA quickly\n",
        "\n",
        "There's a faster way to do PCA, and fortunately it's already implemented for us in `scikit-learn` and `scprep`."
      ]
    },
    {
      "cell_type": "code",
      "metadata": {
        "id": "c0mz_CUTq9G5",
        "colab_type": "code",
        "colab": {
          "base_uri": "https://localhost:8080/",
          "height": 238
        },
        "outputId": "f51fd455-8a68-489d-f02a-72220af6b936"
      },
      "source": [
        "# first, we'll filter out those unlabeled cells\n",
        "data, metadata = scprep.select.select_rows(data, metadata, idx=metadata['CELLTYPE'] != '-1')\n",
        "\n",
        "import sklearn.decomposition\n",
        "pca_op = sklearn.decomposition.PCA(n_components=100) # we could also do scprep.reduce.pca(data, 100)\n",
        "data_pca = pca_op.fit_transform(scprep.utils.toarray(data))\n",
        "data_pca"
      ],
      "execution_count": 26,
      "outputs": [
        {
          "output_type": "execute_result",
          "data": {
            "text/plain": [
              "array([[-1.72277546, 15.83948936,  4.27379676, ..., -1.51025647,\n",
              "        -4.20732436, -0.11418608],\n",
              "       [ 0.6189253 , 12.84302246, -2.85684861, ...,  0.81127771,\n",
              "        -0.95158263, -2.97289168],\n",
              "       [ 0.89890891,  6.57228168, 17.78928673, ..., -2.41051858,\n",
              "        -2.79120232, -0.12850711],\n",
              "       ...,\n",
              "       [-0.90173738, 10.82703838, -0.8265985 , ...,  3.37862314,\n",
              "        -3.55440318, -2.05251783],\n",
              "       [-0.63963636,  9.59975418, -1.6028491 , ...,  0.71244288,\n",
              "        -0.45883398,  0.40410116],\n",
              "       [-0.99938247,  9.87576752, -4.40313652, ..., -2.9354368 ,\n",
              "         0.08145232, -3.78399206]])"
            ]
          },
          "metadata": {
            "tags": []
          },
          "execution_count": 26
        }
      ]
    },
    {
      "cell_type": "markdown",
      "metadata": {
        "id": "-XA3XPqwq9HA",
        "colab_type": "text"
      },
      "source": [
        "Note that since we used `sklearn` here, `data_pca` is a numpy array, not a DataFrame. We could have avoided this conversion by using `scprep.reduce.pca`, but `sklearn` has some additional functionality that we will use later."
      ]
    },
    {
      "cell_type": "markdown",
      "metadata": {
        "id": "ELWW9mfhq9HA",
        "colab_type": "text"
      },
      "source": [
        "#### Examining the first two principal components\n",
        "\n",
        "Now we have computed the PCA, we can plot the first two directions to see how well our glial cells separate."
      ]
    },
    {
      "cell_type": "code",
      "metadata": {
        "id": "y2TRQ06aq9HD",
        "colab_type": "code",
        "colab": {
          "base_uri": "https://localhost:8080/",
          "height": 314
        },
        "outputId": "62e16eba-02a6-45ba-8698-ff0956ec58ee"
      },
      "source": [
        "scprep.plot.scatter2d(data_pca, c=metadata['CELLTYPE'], figsize=(10,4),\n",
        "                      ticks=False, label_prefix='PC', legend_anchor=(1,1))"
      ],
      "execution_count": 27,
      "outputs": [
        {
          "output_type": "execute_result",
          "data": {
            "text/plain": [
              "<matplotlib.axes._subplots.AxesSubplot at 0x7f2f17a03908>"
            ]
          },
          "metadata": {
            "tags": []
          },
          "execution_count": 27
        },
        {
          "output_type": "display_data",
          "data": {
            "image/png": "[encoded data removed]",
            "text/plain": [
              "<Figure size 720x288 with 1 Axes>"
            ]
          },
          "metadata": {
            "tags": []
          }
        }
      ]
    },
    {
      "cell_type": "markdown",
      "metadata": {
        "id": "EFqnv-xpq9HJ",
        "colab_type": "text"
      },
      "source": [
        "Wow, look at that! The glial cells separate perfectly from the Rod Bipolar cells (lime green) and the Cone Bipolar cells (most everything else)."
      ]
    },
    {
      "cell_type": "markdown",
      "metadata": {
        "id": "mtsemA9aq9HK",
        "colab_type": "text"
      },
      "source": [
        "### Exercise 2 - Examining principal components\n",
        "\n",
        "Each principal component can be thought of as representing some latent state in the data. For example, we see that the first component largely separates glia from bipolar cells, and the second separates rod bipolar cells from cone bipolar cells. \n",
        "\n",
        "**Now it's your turn** - pick a cell type and try to find the best principal component to separate it from the rest of the cells."
      ]
    },
    {
      "cell_type": "code",
      "metadata": {
        "id": "-OMGs9gCq9HK",
        "colab_type": "code",
        "colab": {
          "base_uri": "https://localhost:8080/",
          "height": 68
        },
        "outputId": "676c2186-ad99-4842-aeb3-c676ba966657"
      },
      "source": [
        "print(metadata['CELLTYPE'].unique())"
      ],
      "execution_count": 28,
      "outputs": [
        {
          "output_type": "stream",
          "text": [
            "['BC5A' 'BC1B' 'BC6' 'Rod BC' 'BC3B' 'Muller Glia' 'BC5B' '21' '19' 'BC5C'\n",
            " 'BC3A' 'BC5D' 'BC7' 'BC2' 'BC1A' '17' 'BC4' '18' 'BC8/9_1' '23' '24'\n",
            " 'BC8/9_2' 'Rod PR' 'Amacrine_2' 'Amacrine_1' 'Cone PR' '26' '25']\n"
          ],
          "name": "stdout"
        }
      ]
    },
    {
      "cell_type": "code",
      "metadata": {
        "id": "XzjX-cBGq9HO",
        "colab_type": "code",
        "colab": {}
      },
      "source": [
        "# ================\n",
        "# pick any named cell type\n",
        "my_celltype =\n",
        "# pick a principal component (a number >=1) to put on the x axis\n",
        "x_pc =\n",
        "# pick a principal component to put on the y axis\n",
        "y_pc =\n",
        "# ===============\n",
        "scprep.plot.scatter(data_pca[:,x_pc-1], data_pca[:,y_pc-1], c=metadata['CELLTYPE'] == my_celltype,\n",
        "                   ticks=False, xlabel='PC{}'.format(x_pc), ylabel='PC{}'.format(y_pc))"
      ],
      "execution_count": 0,
      "outputs": []
    },
    {
      "cell_type": "markdown",
      "metadata": {
        "id": "PsDKMUPuq9Hb",
        "colab_type": "text"
      },
      "source": [
        "#### Examining loadings associated with principal components\n",
        "\n",
        "The principal components are described by a linear combination of the original features, so we can use the coefficients of these principal directions (called \"loadings\") to understand which features are driving the separation. We'll do it here for the first two components."
      ]
    },
    {
      "cell_type": "code",
      "metadata": {
        "id": "Au23_wFEq9Hf",
        "colab_type": "code",
        "colab": {
          "base_uri": "https://localhost:8080/",
          "height": 270
        },
        "outputId": "c05d933c-90b0-43b1-eacd-9a2563aebf26"
      },
      "source": [
        "pc_loadings = pd.DataFrame(pca_op.components_, columns=data.columns)\n",
        "pc_loadings.head()"
      ],
      "execution_count": 29,
      "outputs": [
        {
          "output_type": "execute_result",
          "data": {
            "text/html": [
              "<div>\n",
              "<style scoped>\n",
              "    .dataframe tbody tr th:only-of-type {\n",
              "        vertical-align: middle;\n",
              "    }\n",
              "\n",
              "    .dataframe tbody tr th {\n",
              "        vertical-align: top;\n",
              "    }\n",
              "\n",
              "    .dataframe thead th {\n",
              "        text-align: right;\n",
              "    }\n",
              "</style>\n",
              "<table border=\"1\" class=\"dataframe\">\n",
              "  <thead>\n",
              "    <tr style=\"text-align: right;\">\n",
              "      <th></th>\n",
              "      <th>0610005C13Rik</th>\n",
              "      <th>0610007P14Rik</th>\n",
              "      <th>0610009B22Rik</th>\n",
              "      <th>0610009E02Rik</th>\n",
              "      <th>0610009L18Rik</th>\n",
              "      <th>0610009O20Rik</th>\n",
              "      <th>0610010F05Rik</th>\n",
              "      <th>0610010K14Rik</th>\n",
              "      <th>0610011F06Rik</th>\n",
              "      <th>0610030E20Rik</th>\n",
              "      <th>0610037L13Rik</th>\n",
              "      <th>0610038B21Rik</th>\n",
              "      <th>0610039K10Rik</th>\n",
              "      <th>0610040B10Rik</th>\n",
              "      <th>0610040F04Rik</th>\n",
              "      <th>0610040J01Rik</th>\n",
              "      <th>0610043K17Rik</th>\n",
              "      <th>1010001B22Rik</th>\n",
              "      <th>1110001J03Rik</th>\n",
              "      <th>1110002E22Rik</th>\n",
              "      <th>1110002L01Rik</th>\n",
              "      <th>1110002O04Rik</th>\n",
              "      <th>1110004E09Rik</th>\n",
              "      <th>1110004F10Rik</th>\n",
              "      <th>1110007C09Rik</th>\n",
              "      <th>1110008F13Rik</th>\n",
              "      <th>1110008L16Rik</th>\n",
              "      <th>1110008P14Rik</th>\n",
              "      <th>1110012L19Rik</th>\n",
              "      <th>1110015O18Rik</th>\n",
              "      <th>1110017D15Rik</th>\n",
              "      <th>1110018N20Rik</th>\n",
              "      <th>1110019D14Rik</th>\n",
              "      <th>1110020A21Rik</th>\n",
              "      <th>1110025M09Rik</th>\n",
              "      <th>1110032A03Rik</th>\n",
              "      <th>1110034G24Rik</th>\n",
              "      <th>1110035H17Rik</th>\n",
              "      <th>1110037F02Rik</th>\n",
              "      <th>1110038B12Rik</th>\n",
              "      <th>...</th>\n",
              "      <th>Zswim8</th>\n",
              "      <th>Zufsp</th>\n",
              "      <th>Zw10</th>\n",
              "      <th>Zwilch</th>\n",
              "      <th>Zwint</th>\n",
              "      <th>Zxdb</th>\n",
              "      <th>Zxdc</th>\n",
              "      <th>Zyg11b</th>\n",
              "      <th>Zyx</th>\n",
              "      <th>Zzef1</th>\n",
              "      <th>Zzz3</th>\n",
              "      <th>l7Rn6</th>\n",
              "      <th>mmu-mir-684-2</th>\n",
              "      <th>mmu-mir-6948</th>\n",
              "      <th>mmu-mir-703</th>\n",
              "      <th>mt-Co1</th>\n",
              "      <th>mt-Co2</th>\n",
              "      <th>mt-Co3</th>\n",
              "      <th>mt-Cytb</th>\n",
              "      <th>mt-Nd1</th>\n",
              "      <th>mt-Nd2</th>\n",
              "      <th>mt-Nd4</th>\n",
              "      <th>mt-Nd5</th>\n",
              "      <th>mt-Nd6</th>\n",
              "      <th>mt-Rnr1</th>\n",
              "      <th>mt-Rnr2</th>\n",
              "      <th>mt-Ta</th>\n",
              "      <th>mt-Tc</th>\n",
              "      <th>mt-Te</th>\n",
              "      <th>mt-Ti</th>\n",
              "      <th>mt-Tl1</th>\n",
              "      <th>mt-Tl2</th>\n",
              "      <th>mt-Tm</th>\n",
              "      <th>mt-Tp</th>\n",
              "      <th>mt-Tq</th>\n",
              "      <th>mt-Ts2</th>\n",
              "      <th>mt-Tt</th>\n",
              "      <th>mt-Tv</th>\n",
              "      <th>mt-Tw</th>\n",
              "      <th>mt-Ty</th>\n",
              "    </tr>\n",
              "  </thead>\n",
              "  <tbody>\n",
              "    <tr>\n",
              "      <th>0</th>\n",
              "      <td>0.000084</td>\n",
              "      <td>0.002169</td>\n",
              "      <td>-0.001397</td>\n",
              "      <td>0.002310</td>\n",
              "      <td>0.000015</td>\n",
              "      <td>0.001371</td>\n",
              "      <td>-0.001470</td>\n",
              "      <td>-0.000044</td>\n",
              "      <td>0.000915</td>\n",
              "      <td>0.000170</td>\n",
              "      <td>0.001994</td>\n",
              "      <td>0.000010</td>\n",
              "      <td>-0.000100</td>\n",
              "      <td>-0.001150</td>\n",
              "      <td>-0.000033</td>\n",
              "      <td>0.000805</td>\n",
              "      <td>-0.000036</td>\n",
              "      <td>0.000317</td>\n",
              "      <td>-0.007338</td>\n",
              "      <td>0.000244</td>\n",
              "      <td>-0.001602</td>\n",
              "      <td>-0.000049</td>\n",
              "      <td>0.000007</td>\n",
              "      <td>-0.000119</td>\n",
              "      <td>0.001363</td>\n",
              "      <td>-0.007723</td>\n",
              "      <td>-0.000043</td>\n",
              "      <td>-0.002569</td>\n",
              "      <td>0.000843</td>\n",
              "      <td>0.000127</td>\n",
              "      <td>-0.000015</td>\n",
              "      <td>-0.000517</td>\n",
              "      <td>0.000850</td>\n",
              "      <td>-0.000328</td>\n",
              "      <td>0.000264</td>\n",
              "      <td>-0.001001</td>\n",
              "      <td>0.000074</td>\n",
              "      <td>-0.000346</td>\n",
              "      <td>-0.001026</td>\n",
              "      <td>-0.000559</td>\n",
              "      <td>...</td>\n",
              "      <td>-0.000565</td>\n",
              "      <td>-0.000228</td>\n",
              "      <td>0.000535</td>\n",
              "      <td>0.000056</td>\n",
              "      <td>-0.010836</td>\n",
              "      <td>0.000030</td>\n",
              "      <td>-0.000417</td>\n",
              "      <td>-0.003605</td>\n",
              "      <td>0.000596</td>\n",
              "      <td>-0.000144</td>\n",
              "      <td>-0.002255</td>\n",
              "      <td>-0.001556</td>\n",
              "      <td>-0.000074</td>\n",
              "      <td>-0.000017</td>\n",
              "      <td>-0.001589</td>\n",
              "      <td>-0.034102</td>\n",
              "      <td>-0.000040</td>\n",
              "      <td>-0.000037</td>\n",
              "      <td>-0.074627</td>\n",
              "      <td>-0.050104</td>\n",
              "      <td>-0.019858</td>\n",
              "      <td>-0.046860</td>\n",
              "      <td>-0.038936</td>\n",
              "      <td>-0.006335</td>\n",
              "      <td>-0.008359</td>\n",
              "      <td>-0.039099</td>\n",
              "      <td>-0.000091</td>\n",
              "      <td>-0.000438</td>\n",
              "      <td>-0.000007</td>\n",
              "      <td>-0.000436</td>\n",
              "      <td>-0.000080</td>\n",
              "      <td>0.000014</td>\n",
              "      <td>-0.000515</td>\n",
              "      <td>-0.001998</td>\n",
              "      <td>-0.000153</td>\n",
              "      <td>-0.000144</td>\n",
              "      <td>-0.000299</td>\n",
              "      <td>-0.000098</td>\n",
              "      <td>-0.000147</td>\n",
              "      <td>-0.000165</td>\n",
              "    </tr>\n",
              "    <tr>\n",
              "      <th>1</th>\n",
              "      <td>-0.000062</td>\n",
              "      <td>0.002681</td>\n",
              "      <td>-0.001601</td>\n",
              "      <td>-0.001495</td>\n",
              "      <td>-0.000358</td>\n",
              "      <td>0.000474</td>\n",
              "      <td>0.001274</td>\n",
              "      <td>-0.000032</td>\n",
              "      <td>0.000127</td>\n",
              "      <td>0.000029</td>\n",
              "      <td>-0.000753</td>\n",
              "      <td>0.000201</td>\n",
              "      <td>-0.000043</td>\n",
              "      <td>0.000448</td>\n",
              "      <td>0.000065</td>\n",
              "      <td>-0.000377</td>\n",
              "      <td>0.000037</td>\n",
              "      <td>-0.000181</td>\n",
              "      <td>-0.002155</td>\n",
              "      <td>-0.000140</td>\n",
              "      <td>-0.000612</td>\n",
              "      <td>-0.000008</td>\n",
              "      <td>0.005752</td>\n",
              "      <td>0.000850</td>\n",
              "      <td>-0.000654</td>\n",
              "      <td>-0.012398</td>\n",
              "      <td>-0.000059</td>\n",
              "      <td>0.000660</td>\n",
              "      <td>0.000464</td>\n",
              "      <td>0.001642</td>\n",
              "      <td>0.000142</td>\n",
              "      <td>-0.000513</td>\n",
              "      <td>-0.000325</td>\n",
              "      <td>-0.000614</td>\n",
              "      <td>-0.000040</td>\n",
              "      <td>-0.000503</td>\n",
              "      <td>-0.000453</td>\n",
              "      <td>-0.000613</td>\n",
              "      <td>-0.000119</td>\n",
              "      <td>0.001132</td>\n",
              "      <td>...</td>\n",
              "      <td>0.000196</td>\n",
              "      <td>0.000215</td>\n",
              "      <td>0.000045</td>\n",
              "      <td>0.000382</td>\n",
              "      <td>0.002229</td>\n",
              "      <td>-0.000055</td>\n",
              "      <td>0.001054</td>\n",
              "      <td>0.001887</td>\n",
              "      <td>-0.000449</td>\n",
              "      <td>0.000519</td>\n",
              "      <td>-0.001685</td>\n",
              "      <td>0.000733</td>\n",
              "      <td>-0.000081</td>\n",
              "      <td>-0.000024</td>\n",
              "      <td>0.000894</td>\n",
              "      <td>-0.021137</td>\n",
              "      <td>-0.000032</td>\n",
              "      <td>-0.000071</td>\n",
              "      <td>-0.052331</td>\n",
              "      <td>0.006877</td>\n",
              "      <td>-0.019033</td>\n",
              "      <td>-0.027549</td>\n",
              "      <td>-0.017976</td>\n",
              "      <td>-0.003750</td>\n",
              "      <td>-0.004111</td>\n",
              "      <td>-0.000841</td>\n",
              "      <td>0.000136</td>\n",
              "      <td>0.000194</td>\n",
              "      <td>-0.000040</td>\n",
              "      <td>-0.000626</td>\n",
              "      <td>0.000016</td>\n",
              "      <td>0.000080</td>\n",
              "      <td>-0.000029</td>\n",
              "      <td>-0.001670</td>\n",
              "      <td>-0.000028</td>\n",
              "      <td>0.000096</td>\n",
              "      <td>-0.000190</td>\n",
              "      <td>0.000145</td>\n",
              "      <td>-0.000204</td>\n",
              "      <td>-0.000010</td>\n",
              "    </tr>\n",
              "    <tr>\n",
              "      <th>2</th>\n",
              "      <td>-0.000027</td>\n",
              "      <td>-0.003889</td>\n",
              "      <td>-0.005795</td>\n",
              "      <td>0.000204</td>\n",
              "      <td>-0.000682</td>\n",
              "      <td>-0.001544</td>\n",
              "      <td>0.001007</td>\n",
              "      <td>0.000039</td>\n",
              "      <td>-0.002309</td>\n",
              "      <td>0.000483</td>\n",
              "      <td>-0.001564</td>\n",
              "      <td>0.000001</td>\n",
              "      <td>-0.000204</td>\n",
              "      <td>-0.001231</td>\n",
              "      <td>0.000098</td>\n",
              "      <td>-0.000286</td>\n",
              "      <td>0.000220</td>\n",
              "      <td>0.000014</td>\n",
              "      <td>-0.012440</td>\n",
              "      <td>-0.000087</td>\n",
              "      <td>0.000215</td>\n",
              "      <td>-0.000006</td>\n",
              "      <td>-0.007958</td>\n",
              "      <td>-0.011491</td>\n",
              "      <td>-0.000516</td>\n",
              "      <td>-0.006476</td>\n",
              "      <td>-0.000273</td>\n",
              "      <td>-0.005952</td>\n",
              "      <td>-0.002218</td>\n",
              "      <td>0.000129</td>\n",
              "      <td>0.000148</td>\n",
              "      <td>-0.000073</td>\n",
              "      <td>-0.000093</td>\n",
              "      <td>-0.000031</td>\n",
              "      <td>0.000194</td>\n",
              "      <td>-0.001561</td>\n",
              "      <td>-0.001054</td>\n",
              "      <td>-0.000298</td>\n",
              "      <td>0.002280</td>\n",
              "      <td>-0.000732</td>\n",
              "      <td>...</td>\n",
              "      <td>0.000091</td>\n",
              "      <td>0.002975</td>\n",
              "      <td>-0.000648</td>\n",
              "      <td>0.000161</td>\n",
              "      <td>-0.008373</td>\n",
              "      <td>-0.000333</td>\n",
              "      <td>-0.000533</td>\n",
              "      <td>0.003759</td>\n",
              "      <td>-0.000718</td>\n",
              "      <td>0.003676</td>\n",
              "      <td>0.000939</td>\n",
              "      <td>-0.005673</td>\n",
              "      <td>-0.000378</td>\n",
              "      <td>0.000050</td>\n",
              "      <td>-0.006342</td>\n",
              "      <td>0.018011</td>\n",
              "      <td>0.000119</td>\n",
              "      <td>0.000257</td>\n",
              "      <td>0.019708</td>\n",
              "      <td>0.016136</td>\n",
              "      <td>0.035062</td>\n",
              "      <td>0.017259</td>\n",
              "      <td>0.073256</td>\n",
              "      <td>0.017350</td>\n",
              "      <td>0.091831</td>\n",
              "      <td>0.487226</td>\n",
              "      <td>0.000619</td>\n",
              "      <td>0.000360</td>\n",
              "      <td>-0.000091</td>\n",
              "      <td>0.000459</td>\n",
              "      <td>0.000109</td>\n",
              "      <td>0.000057</td>\n",
              "      <td>-0.000220</td>\n",
              "      <td>0.002370</td>\n",
              "      <td>0.000122</td>\n",
              "      <td>0.000145</td>\n",
              "      <td>0.000074</td>\n",
              "      <td>0.000106</td>\n",
              "      <td>-0.000084</td>\n",
              "      <td>0.000176</td>\n",
              "    </tr>\n",
              "    <tr>\n",
              "      <th>3</th>\n",
              "      <td>0.000192</td>\n",
              "      <td>-0.001237</td>\n",
              "      <td>-0.000504</td>\n",
              "      <td>-0.000056</td>\n",
              "      <td>-0.000546</td>\n",
              "      <td>0.001529</td>\n",
              "      <td>0.000178</td>\n",
              "      <td>-0.000031</td>\n",
              "      <td>-0.000924</td>\n",
              "      <td>0.001962</td>\n",
              "      <td>0.001568</td>\n",
              "      <td>-0.000238</td>\n",
              "      <td>0.000110</td>\n",
              "      <td>-0.000677</td>\n",
              "      <td>-0.000019</td>\n",
              "      <td>-0.000338</td>\n",
              "      <td>0.000113</td>\n",
              "      <td>-0.000038</td>\n",
              "      <td>0.008028</td>\n",
              "      <td>-0.000031</td>\n",
              "      <td>-0.000426</td>\n",
              "      <td>0.000100</td>\n",
              "      <td>0.006630</td>\n",
              "      <td>-0.004288</td>\n",
              "      <td>0.000357</td>\n",
              "      <td>-0.005117</td>\n",
              "      <td>-0.000311</td>\n",
              "      <td>0.003866</td>\n",
              "      <td>0.000727</td>\n",
              "      <td>-0.004566</td>\n",
              "      <td>-0.000058</td>\n",
              "      <td>-0.000721</td>\n",
              "      <td>0.000447</td>\n",
              "      <td>-0.000324</td>\n",
              "      <td>0.000197</td>\n",
              "      <td>-0.002439</td>\n",
              "      <td>-0.001234</td>\n",
              "      <td>-0.000264</td>\n",
              "      <td>0.000536</td>\n",
              "      <td>0.000452</td>\n",
              "      <td>...</td>\n",
              "      <td>0.000331</td>\n",
              "      <td>-0.000268</td>\n",
              "      <td>0.000796</td>\n",
              "      <td>0.000310</td>\n",
              "      <td>-0.007405</td>\n",
              "      <td>0.000093</td>\n",
              "      <td>-0.000018</td>\n",
              "      <td>0.000160</td>\n",
              "      <td>-0.003125</td>\n",
              "      <td>-0.000346</td>\n",
              "      <td>-0.002233</td>\n",
              "      <td>0.000750</td>\n",
              "      <td>0.000206</td>\n",
              "      <td>-0.000019</td>\n",
              "      <td>0.000352</td>\n",
              "      <td>0.010667</td>\n",
              "      <td>0.000108</td>\n",
              "      <td>-0.000047</td>\n",
              "      <td>0.046559</td>\n",
              "      <td>0.033712</td>\n",
              "      <td>0.025377</td>\n",
              "      <td>0.029310</td>\n",
              "      <td>0.050064</td>\n",
              "      <td>0.007261</td>\n",
              "      <td>0.021201</td>\n",
              "      <td>0.127535</td>\n",
              "      <td>-0.000159</td>\n",
              "      <td>-0.000529</td>\n",
              "      <td>-0.000076</td>\n",
              "      <td>0.000190</td>\n",
              "      <td>0.000094</td>\n",
              "      <td>-0.000119</td>\n",
              "      <td>0.000610</td>\n",
              "      <td>0.001078</td>\n",
              "      <td>0.000258</td>\n",
              "      <td>-0.000260</td>\n",
              "      <td>0.000246</td>\n",
              "      <td>0.000045</td>\n",
              "      <td>0.000064</td>\n",
              "      <td>0.000202</td>\n",
              "    </tr>\n",
              "    <tr>\n",
              "      <th>4</th>\n",
              "      <td>0.000255</td>\n",
              "      <td>-0.000096</td>\n",
              "      <td>-0.005943</td>\n",
              "      <td>0.000612</td>\n",
              "      <td>-0.000557</td>\n",
              "      <td>0.000192</td>\n",
              "      <td>0.002552</td>\n",
              "      <td>-0.000185</td>\n",
              "      <td>-0.005831</td>\n",
              "      <td>0.005755</td>\n",
              "      <td>0.003312</td>\n",
              "      <td>-0.000197</td>\n",
              "      <td>-0.000042</td>\n",
              "      <td>-0.000078</td>\n",
              "      <td>-0.000022</td>\n",
              "      <td>0.000295</td>\n",
              "      <td>0.000103</td>\n",
              "      <td>-0.000053</td>\n",
              "      <td>-0.012110</td>\n",
              "      <td>0.000095</td>\n",
              "      <td>-0.001345</td>\n",
              "      <td>-0.000011</td>\n",
              "      <td>-0.005129</td>\n",
              "      <td>-0.008130</td>\n",
              "      <td>-0.000500</td>\n",
              "      <td>0.000344</td>\n",
              "      <td>0.000024</td>\n",
              "      <td>-0.002563</td>\n",
              "      <td>-0.001367</td>\n",
              "      <td>0.000697</td>\n",
              "      <td>0.000008</td>\n",
              "      <td>-0.000130</td>\n",
              "      <td>-0.000308</td>\n",
              "      <td>0.000120</td>\n",
              "      <td>0.000063</td>\n",
              "      <td>-0.002633</td>\n",
              "      <td>0.000614</td>\n",
              "      <td>-0.000473</td>\n",
              "      <td>0.003064</td>\n",
              "      <td>-0.000989</td>\n",
              "      <td>...</td>\n",
              "      <td>0.001074</td>\n",
              "      <td>0.000468</td>\n",
              "      <td>0.000577</td>\n",
              "      <td>0.000776</td>\n",
              "      <td>-0.003527</td>\n",
              "      <td>-0.000053</td>\n",
              "      <td>0.002695</td>\n",
              "      <td>0.003930</td>\n",
              "      <td>0.000314</td>\n",
              "      <td>0.003952</td>\n",
              "      <td>0.002794</td>\n",
              "      <td>-0.001833</td>\n",
              "      <td>-0.000612</td>\n",
              "      <td>0.000084</td>\n",
              "      <td>-0.008700</td>\n",
              "      <td>-0.035775</td>\n",
              "      <td>0.000178</td>\n",
              "      <td>-0.000212</td>\n",
              "      <td>-0.045621</td>\n",
              "      <td>0.073559</td>\n",
              "      <td>-0.004967</td>\n",
              "      <td>-0.029159</td>\n",
              "      <td>0.076449</td>\n",
              "      <td>0.006481</td>\n",
              "      <td>-0.009786</td>\n",
              "      <td>-0.240791</td>\n",
              "      <td>-0.000537</td>\n",
              "      <td>-0.000907</td>\n",
              "      <td>0.000101</td>\n",
              "      <td>-0.000285</td>\n",
              "      <td>-0.000297</td>\n",
              "      <td>-0.000168</td>\n",
              "      <td>-0.000497</td>\n",
              "      <td>0.001469</td>\n",
              "      <td>0.000690</td>\n",
              "      <td>-0.000124</td>\n",
              "      <td>-0.000761</td>\n",
              "      <td>-0.000098</td>\n",
              "      <td>-0.000306</td>\n",
              "      <td>0.000107</td>\n",
              "    </tr>\n",
              "  </tbody>\n",
              "</table>\n",
              "<p>5 rows × 15524 columns</p>\n",
              "</div>"
            ],
            "text/plain": [
              "   0610005C13Rik  0610007P14Rik  0610009B22Rik  ...     mt-Tv     mt-Tw     mt-Ty\n",
              "0       0.000084       0.002169      -0.001397  ... -0.000098 -0.000147 -0.000165\n",
              "1      -0.000062       0.002681      -0.001601  ...  0.000145 -0.000204 -0.000010\n",
              "2      -0.000027      -0.003889      -0.005795  ...  0.000106 -0.000084  0.000176\n",
              "3       0.000192      -0.001237      -0.000504  ...  0.000045  0.000064  0.000202\n",
              "4       0.000255      -0.000096      -0.005943  ... -0.000098 -0.000306  0.000107\n",
              "\n",
              "[5 rows x 15524 columns]"
            ]
          },
          "metadata": {
            "tags": []
          },
          "execution_count": 29
        }
      ]
    },
    {
      "cell_type": "code",
      "metadata": {
        "id": "flMZBH_fq9Hr",
        "colab_type": "code",
        "colab": {
          "base_uri": "https://localhost:8080/",
          "height": 374
        },
        "outputId": "17cf3e26-4f00-49e1-f3ef-ecd3db0cf441"
      },
      "source": [
        "# find the top genes associated with PC1\n",
        "top_genes = np.abs(pc_loadings.loc[0]).sort_values(ascending=False)\n",
        "top_genes.head(20)"
      ],
      "execution_count": 30,
      "outputs": [
        {
          "output_type": "execute_result",
          "data": {
            "text/plain": [
              "Calm1     0.253430\n",
              "Apoe      0.243300\n",
              "Glul      0.209790\n",
              "Pcp2      0.208732\n",
              "Trpm1     0.156030\n",
              "Acsl3     0.142262\n",
              "Clu       0.134691\n",
              "Dkk3      0.132221\n",
              "Gng13     0.129157\n",
              "Rlbp1     0.127997\n",
              "Malat1    0.124457\n",
              "Pcp4      0.120903\n",
              "Chgb      0.119972\n",
              "Sparc     0.112543\n",
              "Gnao1     0.096658\n",
              "Slc1a3    0.092690\n",
              "Isl1      0.092633\n",
              "Jun       0.090011\n",
              "Dbi       0.089774\n",
              "Car2      0.088967\n",
              "Name: 0, dtype: float64"
            ]
          },
          "metadata": {
            "tags": []
          },
          "execution_count": 30
        }
      ]
    },
    {
      "cell_type": "code",
      "metadata": {
        "id": "HfUXbG1Oq9Hx",
        "colab_type": "code",
        "colab": {
          "base_uri": "https://localhost:8080/",
          "height": 314
        },
        "outputId": "ca64636a-6c02-42c2-be5f-c83e6393b589"
      },
      "source": [
        "scprep.plot.scatter(x=data_pca[:,0], y=data_pca[:,1], c=data['Apoe'], label_prefix=\"PC\", ticks=False)"
      ],
      "execution_count": 31,
      "outputs": [
        {
          "output_type": "execute_result",
          "data": {
            "text/plain": [
              "<matplotlib.axes._subplots.AxesSubplot at 0x7f2f1792b668>"
            ]
          },
          "metadata": {
            "tags": []
          },
          "execution_count": 31
        },
        {
          "output_type": "display_data",
          "data": {
            "image/png": "[encoded data removed]",
            "text/plain": [
              "<Figure size 432x288 with 2 Axes>"
            ]
          },
          "metadata": {
            "tags": [],
            "needs_background": "light"
          }
        }
      ]
    },
    {
      "cell_type": "markdown",
      "metadata": {
        "id": "g-Fa7Qggq9H9",
        "colab_type": "text"
      },
      "source": [
        "### Exercise 3 - find the top genes associated with PC2 and plot some of them on the PCA"
      ]
    },
    {
      "cell_type": "code",
      "metadata": {
        "id": "kecRLqSSq9H-",
        "colab_type": "code",
        "colab": {}
      },
      "source": [
        "# ==================\n",
        "# find the top genes associated with PC2\n",
        "top_genes =\n",
        "# ==================\n",
        "top_genes.head()"
      ],
      "execution_count": 0,
      "outputs": []
    },
    {
      "cell_type": "code",
      "metadata": {
        "id": "L0--eLtgq9ID",
        "colab_type": "code",
        "colab": {}
      },
      "source": [
        "# ==================\n",
        "# plot the result with scprep\n",
        "scprep.plot.scatter(x=\n",
        "                    y=\n",
        "                    c=\n",
        "# =================="
      ],
      "execution_count": 0,
      "outputs": []
    },
    {
      "cell_type": "markdown",
      "metadata": {
        "id": "Jwxs8ZMcq9IK",
        "colab_type": "text"
      },
      "source": [
        "### Exercise 4 - identify cell type markers with PCA"
      ]
    },
    {
      "cell_type": "code",
      "metadata": {
        "id": "XSG4FfLBq9IL",
        "colab_type": "code",
        "colab": {}
      },
      "source": [
        "# =============\n",
        "# examine the loadings of the principal component(s) that you used to identify your \n",
        "# cell type of choice and color the PCA plot by the top genes\n",
        "\n",
        "# ============="
      ],
      "execution_count": 0,
      "outputs": []
    },
    {
      "cell_type": "markdown",
      "metadata": {
        "id": "rPhfMvuEq9IP",
        "colab_type": "text"
      },
      "source": [
        "### Discussion\n",
        "1. What level of granularity did we see in the dataset when visualizing the first two principal components?\n",
        "2. Why might you want to look at more than just the first two principal components?"
      ]
    }
  ]
}